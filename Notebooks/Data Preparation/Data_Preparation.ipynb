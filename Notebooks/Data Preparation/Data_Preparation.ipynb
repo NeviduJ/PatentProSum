{
 "cells": [
  {
   "cell_type": "code",
   "execution_count": 1,
   "metadata": {},
   "outputs": [
    {
     "name": "stderr",
     "output_type": "stream",
     "text": [
      "/Users/nevidujayatilleke/Documents/FYP-Abstractive Text Summarization/.venv/lib/python3.9/site-packages/urllib3/__init__.py:35: NotOpenSSLWarning: urllib3 v2 only supports OpenSSL 1.1.1+, currently the 'ssl' module is compiled with 'LibreSSL 2.8.3'. See: https://github.com/urllib3/urllib3/issues/3020\n",
      "  warnings.warn(\n",
      "/Users/nevidujayatilleke/Documents/FYP-Abstractive Text Summarization/.venv/lib/python3.9/site-packages/tqdm/auto.py:21: TqdmWarning: IProgress not found. Please update jupyter and ipywidgets. See https://ipywidgets.readthedocs.io/en/stable/user_install.html\n",
      "  from .autonotebook import tqdm as notebook_tqdm\n"
     ]
    }
   ],
   "source": [
    "from datasets import load_from_disk, concatenate_datasets, Dataset, DatasetDict\n",
    "\n",
    "#textile patent documents\n",
    "dataset = load_from_disk('../Textiles_patents')"
   ]
  },
  {
   "cell_type": "code",
   "execution_count": 2,
   "metadata": {},
   "outputs": [
    {
     "name": "stdout",
     "output_type": "stream",
     "text": [
      "Train dataset size: 10164\n",
      "Validation dataset size: 565\n",
      "Test dataset size: 565\n"
     ]
    }
   ],
   "source": [
    "print(f\"Train dataset size: {len(dataset['train'])}\")\n",
    "print(f\"Validation dataset size: {len(dataset['validation'])}\")\n",
    "print(f\"Test dataset size: {len(dataset['test'])}\")"
   ]
  },
  {
   "cell_type": "code",
   "execution_count": 3,
   "metadata": {},
   "outputs": [
    {
     "data": {
      "text/plain": [
       "DatasetDict({\n",
       "    train: Dataset({\n",
       "        features: ['description', 'abstract'],\n",
       "        num_rows: 10164\n",
       "    })\n",
       "    validation: Dataset({\n",
       "        features: ['description', 'abstract'],\n",
       "        num_rows: 565\n",
       "    })\n",
       "    test: Dataset({\n",
       "        features: ['description', 'abstract'],\n",
       "        num_rows: 565\n",
       "    })\n",
       "})"
      ]
     },
     "execution_count": 3,
     "metadata": {},
     "output_type": "execute_result"
    }
   ],
   "source": [
    "dataset"
   ]
  },
  {
   "cell_type": "code",
   "execution_count": 4,
   "metadata": {},
   "outputs": [],
   "source": [
    "full_dataset = concatenate_datasets([dataset['train'], dataset['test'], dataset['validation']])"
   ]
  },
  {
   "cell_type": "code",
   "execution_count": 5,
   "metadata": {},
   "outputs": [
    {
     "data": {
      "text/plain": [
       "Dataset({\n",
       "    features: ['description', 'abstract'],\n",
       "    num_rows: 11294\n",
       "})"
      ]
     },
     "execution_count": 5,
     "metadata": {},
     "output_type": "execute_result"
    }
   ],
   "source": [
    "full_dataset"
   ]
  },
  {
   "cell_type": "code",
   "execution_count": 6,
   "metadata": {},
   "outputs": [],
   "source": [
    "import pandas as pd\n",
    "\n",
    "df = full_dataset.to_pandas()"
   ]
  },
  {
   "cell_type": "code",
   "execution_count": 7,
   "metadata": {},
   "outputs": [
    {
     "data": {
      "text/html": [
       "<div>\n",
       "<style scoped>\n",
       "    .dataframe tbody tr th:only-of-type {\n",
       "        vertical-align: middle;\n",
       "    }\n",
       "\n",
       "    .dataframe tbody tr th {\n",
       "        vertical-align: top;\n",
       "    }\n",
       "\n",
       "    .dataframe thead th {\n",
       "        text-align: right;\n",
       "    }\n",
       "</style>\n",
       "<table border=\"1\" class=\"dataframe\">\n",
       "  <thead>\n",
       "    <tr style=\"text-align: right;\">\n",
       "      <th></th>\n",
       "      <th>description</th>\n",
       "      <th>abstract</th>\n",
       "    </tr>\n",
       "  </thead>\n",
       "  <tbody>\n",
       "    <tr>\n",
       "      <th>0</th>\n",
       "      <td>BACKGROUND OF THE INVENTION \\n     This invent...</td>\n",
       "      <td>A method of forming fiber mixtures from differ...</td>\n",
       "    </tr>\n",
       "    <tr>\n",
       "      <th>1</th>\n",
       "      <td>CROSS-REFERENCE TO RELATED APPLICATION \\n     ...</td>\n",
       "      <td>The fibers of recycled paper are cleaned by ag...</td>\n",
       "    </tr>\n",
       "    <tr>\n",
       "      <th>2</th>\n",
       "      <td>This is a division of application Ser. No. 922...</td>\n",
       "      <td>Non-woven, bias laid fabrics, where the variou...</td>\n",
       "    </tr>\n",
       "    <tr>\n",
       "      <th>3</th>\n",
       "      <td>FIELD OF THE INVENTION \\n     The present inve...</td>\n",
       "      <td>Multiple-color air jet looms successively inse...</td>\n",
       "    </tr>\n",
       "    <tr>\n",
       "      <th>4</th>\n",
       "      <td>[0001]     This application claims the benefit...</td>\n",
       "      <td>A method of performing a spinning operation of...</td>\n",
       "    </tr>\n",
       "  </tbody>\n",
       "</table>\n",
       "</div>"
      ],
      "text/plain": [
       "                                         description  \\\n",
       "0  BACKGROUND OF THE INVENTION \\n     This invent...   \n",
       "1  CROSS-REFERENCE TO RELATED APPLICATION \\n     ...   \n",
       "2  This is a division of application Ser. No. 922...   \n",
       "3  FIELD OF THE INVENTION \\n     The present inve...   \n",
       "4  [0001]     This application claims the benefit...   \n",
       "\n",
       "                                            abstract  \n",
       "0  A method of forming fiber mixtures from differ...  \n",
       "1  The fibers of recycled paper are cleaned by ag...  \n",
       "2  Non-woven, bias laid fabrics, where the variou...  \n",
       "3  Multiple-color air jet looms successively inse...  \n",
       "4  A method of performing a spinning operation of...  "
      ]
     },
     "execution_count": 7,
     "metadata": {},
     "output_type": "execute_result"
    }
   ],
   "source": [
    "df.head()"
   ]
  },
  {
   "cell_type": "code",
   "execution_count": 8,
   "metadata": {},
   "outputs": [],
   "source": [
    "from sklearn.model_selection import train_test_split\n",
    "\n",
    "train_df, remaining_df = train_test_split(df, test_size=0.3, random_state=42)\n",
    "test_df, validation_df = train_test_split(remaining_df, test_size=1/3, random_state=42)\n"
   ]
  },
  {
   "cell_type": "code",
   "execution_count": 9,
   "metadata": {},
   "outputs": [
    {
     "data": {
      "text/html": [
       "<div>\n",
       "<style scoped>\n",
       "    .dataframe tbody tr th:only-of-type {\n",
       "        vertical-align: middle;\n",
       "    }\n",
       "\n",
       "    .dataframe tbody tr th {\n",
       "        vertical-align: top;\n",
       "    }\n",
       "\n",
       "    .dataframe thead th {\n",
       "        text-align: right;\n",
       "    }\n",
       "</style>\n",
       "<table border=\"1\" class=\"dataframe\">\n",
       "  <thead>\n",
       "    <tr style=\"text-align: right;\">\n",
       "      <th></th>\n",
       "      <th>description</th>\n",
       "      <th>abstract</th>\n",
       "    </tr>\n",
       "  </thead>\n",
       "  <tbody>\n",
       "    <tr>\n",
       "      <th>3033</th>\n",
       "      <td>FIELD OF THE INVENTION  \\n         [0001]    T...</td>\n",
       "      <td>A head control device and its control method f...</td>\n",
       "    </tr>\n",
       "    <tr>\n",
       "      <th>8643</th>\n",
       "      <td>FIELD OF THE INVENTION \\n     The invention re...</td>\n",
       "      <td>An applicator device for applying a coating ag...</td>\n",
       "    </tr>\n",
       "    <tr>\n",
       "      <th>10938</th>\n",
       "      <td>This is a divisional application under 37 C.F....</td>\n",
       "      <td>A novel processing technique is reported to bo...</td>\n",
       "    </tr>\n",
       "    <tr>\n",
       "      <th>6282</th>\n",
       "      <td>BACKGROUND OF THE INVENTION  \\n         [0001]...</td>\n",
       "      <td>A warp oriented woven sailcloth is provided in...</td>\n",
       "    </tr>\n",
       "    <tr>\n",
       "      <th>449</th>\n",
       "      <td>This application is a continuation in-part of ...</td>\n",
       "      <td>The movement of each of a plurality jacks or r...</td>\n",
       "    </tr>\n",
       "    <tr>\n",
       "      <th>...</th>\n",
       "      <td>...</td>\n",
       "      <td>...</td>\n",
       "    </tr>\n",
       "    <tr>\n",
       "      <th>11284</th>\n",
       "      <td>CROSS REFERENCE TO RELATED APPLICATION \\n     ...</td>\n",
       "      <td>The method for operating a fleece layer requir...</td>\n",
       "    </tr>\n",
       "    <tr>\n",
       "      <th>5191</th>\n",
       "      <td>This is a continuation of international applic...</td>\n",
       "      <td>The production of fibers is carried out by all...</td>\n",
       "    </tr>\n",
       "    <tr>\n",
       "      <th>5390</th>\n",
       "      <td>This is a continuation of application Ser. No....</td>\n",
       "      <td>Methods are disclosed for treating fibrous web...</td>\n",
       "    </tr>\n",
       "    <tr>\n",
       "      <th>860</th>\n",
       "      <td>FIELD  \\n       [0001]     The following discl...</td>\n",
       "      <td>The use of thermosetting binder systems in the...</td>\n",
       "    </tr>\n",
       "    <tr>\n",
       "      <th>7270</th>\n",
       "      <td>CROSS-REFERENCE TO RELATED APPLICATIONS \\n    ...</td>\n",
       "      <td>Disclosed herein is a washing machine includin...</td>\n",
       "    </tr>\n",
       "  </tbody>\n",
       "</table>\n",
       "<p>7905 rows × 2 columns</p>\n",
       "</div>"
      ],
      "text/plain": [
       "                                             description  \\\n",
       "3033   FIELD OF THE INVENTION  \\n         [0001]    T...   \n",
       "8643   FIELD OF THE INVENTION \\n     The invention re...   \n",
       "10938  This is a divisional application under 37 C.F....   \n",
       "6282   BACKGROUND OF THE INVENTION  \\n         [0001]...   \n",
       "449    This application is a continuation in-part of ...   \n",
       "...                                                  ...   \n",
       "11284  CROSS REFERENCE TO RELATED APPLICATION \\n     ...   \n",
       "5191   This is a continuation of international applic...   \n",
       "5390   This is a continuation of application Ser. No....   \n",
       "860    FIELD  \\n       [0001]     The following discl...   \n",
       "7270   CROSS-REFERENCE TO RELATED APPLICATIONS \\n    ...   \n",
       "\n",
       "                                                abstract  \n",
       "3033   A head control device and its control method f...  \n",
       "8643   An applicator device for applying a coating ag...  \n",
       "10938  A novel processing technique is reported to bo...  \n",
       "6282   A warp oriented woven sailcloth is provided in...  \n",
       "449    The movement of each of a plurality jacks or r...  \n",
       "...                                                  ...  \n",
       "11284  The method for operating a fleece layer requir...  \n",
       "5191   The production of fibers is carried out by all...  \n",
       "5390   Methods are disclosed for treating fibrous web...  \n",
       "860    The use of thermosetting binder systems in the...  \n",
       "7270   Disclosed herein is a washing machine includin...  \n",
       "\n",
       "[7905 rows x 2 columns]"
      ]
     },
     "execution_count": 9,
     "metadata": {},
     "output_type": "execute_result"
    }
   ],
   "source": [
    "train_df"
   ]
  },
  {
   "cell_type": "code",
   "execution_count": 10,
   "metadata": {},
   "outputs": [
    {
     "data": {
      "text/html": [
       "<div>\n",
       "<style scoped>\n",
       "    .dataframe tbody tr th:only-of-type {\n",
       "        vertical-align: middle;\n",
       "    }\n",
       "\n",
       "    .dataframe tbody tr th {\n",
       "        vertical-align: top;\n",
       "    }\n",
       "\n",
       "    .dataframe thead th {\n",
       "        text-align: right;\n",
       "    }\n",
       "</style>\n",
       "<table border=\"1\" class=\"dataframe\">\n",
       "  <thead>\n",
       "    <tr style=\"text-align: right;\">\n",
       "      <th></th>\n",
       "      <th>description</th>\n",
       "      <th>abstract</th>\n",
       "    </tr>\n",
       "  </thead>\n",
       "  <tbody>\n",
       "    <tr>\n",
       "      <th>11011</th>\n",
       "      <td>FIELD OF THE INVENTION \\n     The present inve...</td>\n",
       "      <td>Processes for preparing pulp from lignin-conta...</td>\n",
       "    </tr>\n",
       "    <tr>\n",
       "      <th>5885</th>\n",
       "      <td>BACKGROUND OF THE INVENTION \\n   1. Technical ...</td>\n",
       "      <td>A durable erosion control blanket featuring a ...</td>\n",
       "    </tr>\n",
       "    <tr>\n",
       "      <th>6745</th>\n",
       "      <td>[0001]    This is a Division of application Se...</td>\n",
       "      <td>A method for spinning a multifilament yarn fro...</td>\n",
       "    </tr>\n",
       "    <tr>\n",
       "      <th>5844</th>\n",
       "      <td>BACKGROUND OF THE INVENTION \\n     This invent...</td>\n",
       "      <td>A surgical repair device having a length to wi...</td>\n",
       "    </tr>\n",
       "    <tr>\n",
       "      <th>8291</th>\n",
       "      <td>CROSS REFERENCE TO RELATED APPLICATION \\n     ...</td>\n",
       "      <td>A transporting carriage for conveying a coiler...</td>\n",
       "    </tr>\n",
       "    <tr>\n",
       "      <th>...</th>\n",
       "      <td>...</td>\n",
       "      <td>...</td>\n",
       "    </tr>\n",
       "    <tr>\n",
       "      <th>415</th>\n",
       "      <td>BACKGROUND OF THE INVENTION \\n     1. Field of...</td>\n",
       "      <td>A clothes washing machine includes a main wash...</td>\n",
       "    </tr>\n",
       "    <tr>\n",
       "      <th>633</th>\n",
       "      <td>BACKGROUND OF THE INVENTION \\n     1. Field of...</td>\n",
       "      <td>A compressible cheese center for dyeing purpos...</td>\n",
       "    </tr>\n",
       "    <tr>\n",
       "      <th>3181</th>\n",
       "      <td>BACKGROUND OF THE INVENTION \\n     This invent...</td>\n",
       "      <td>A yarn feeder for a circular knitting machine ...</td>\n",
       "    </tr>\n",
       "    <tr>\n",
       "      <th>9736</th>\n",
       "      <td>BACKGROUND OF THE INVENTION \\n   The present i...</td>\n",
       "      <td>A method and an apparatus for stuffer box crim...</td>\n",
       "    </tr>\n",
       "    <tr>\n",
       "      <th>5993</th>\n",
       "      <td>BACKGROUND OF THE INVENTION \\n     1. Field of...</td>\n",
       "      <td>In a knitting machine, electromagnetically con...</td>\n",
       "    </tr>\n",
       "  </tbody>\n",
       "</table>\n",
       "<p>2259 rows × 2 columns</p>\n",
       "</div>"
      ],
      "text/plain": [
       "                                             description  \\\n",
       "11011  FIELD OF THE INVENTION \\n     The present inve...   \n",
       "5885   BACKGROUND OF THE INVENTION \\n   1. Technical ...   \n",
       "6745   [0001]    This is a Division of application Se...   \n",
       "5844   BACKGROUND OF THE INVENTION \\n     This invent...   \n",
       "8291   CROSS REFERENCE TO RELATED APPLICATION \\n     ...   \n",
       "...                                                  ...   \n",
       "415    BACKGROUND OF THE INVENTION \\n     1. Field of...   \n",
       "633    BACKGROUND OF THE INVENTION \\n     1. Field of...   \n",
       "3181   BACKGROUND OF THE INVENTION \\n     This invent...   \n",
       "9736   BACKGROUND OF THE INVENTION \\n   The present i...   \n",
       "5993   BACKGROUND OF THE INVENTION \\n     1. Field of...   \n",
       "\n",
       "                                                abstract  \n",
       "11011  Processes for preparing pulp from lignin-conta...  \n",
       "5885   A durable erosion control blanket featuring a ...  \n",
       "6745   A method for spinning a multifilament yarn fro...  \n",
       "5844   A surgical repair device having a length to wi...  \n",
       "8291   A transporting carriage for conveying a coiler...  \n",
       "...                                                  ...  \n",
       "415    A clothes washing machine includes a main wash...  \n",
       "633    A compressible cheese center for dyeing purpos...  \n",
       "3181   A yarn feeder for a circular knitting machine ...  \n",
       "9736   A method and an apparatus for stuffer box crim...  \n",
       "5993   In a knitting machine, electromagnetically con...  \n",
       "\n",
       "[2259 rows x 2 columns]"
      ]
     },
     "execution_count": 10,
     "metadata": {},
     "output_type": "execute_result"
    }
   ],
   "source": [
    "test_df"
   ]
  },
  {
   "cell_type": "code",
   "execution_count": 11,
   "metadata": {},
   "outputs": [
    {
     "data": {
      "text/html": [
       "<div>\n",
       "<style scoped>\n",
       "    .dataframe tbody tr th:only-of-type {\n",
       "        vertical-align: middle;\n",
       "    }\n",
       "\n",
       "    .dataframe tbody tr th {\n",
       "        vertical-align: top;\n",
       "    }\n",
       "\n",
       "    .dataframe thead th {\n",
       "        text-align: right;\n",
       "    }\n",
       "</style>\n",
       "<table border=\"1\" class=\"dataframe\">\n",
       "  <thead>\n",
       "    <tr style=\"text-align: right;\">\n",
       "      <th></th>\n",
       "      <th>description</th>\n",
       "      <th>abstract</th>\n",
       "    </tr>\n",
       "  </thead>\n",
       "  <tbody>\n",
       "    <tr>\n",
       "      <th>6840</th>\n",
       "      <td>This application is a U.S. National Phase unde...</td>\n",
       "      <td>A method for the production of a composite mat...</td>\n",
       "    </tr>\n",
       "    <tr>\n",
       "      <th>8046</th>\n",
       "      <td>BACKGROUND OF THE INVENTION \\n     1. Field of...</td>\n",
       "      <td>A cam section block is provided with variously...</td>\n",
       "    </tr>\n",
       "    <tr>\n",
       "      <th>5999</th>\n",
       "      <td>FIELD OF THE INVENTION  \\n         [0001]    T...</td>\n",
       "      <td>A method for reducing a production of a slime ...</td>\n",
       "    </tr>\n",
       "    <tr>\n",
       "      <th>7775</th>\n",
       "      <td>BACKGROUND OF THE INVENTION \\n     The present...</td>\n",
       "      <td>The device comprises drums, which are coaxial ...</td>\n",
       "    </tr>\n",
       "    <tr>\n",
       "      <th>10004</th>\n",
       "      <td>BACKGROUND OF THE INVENTION \\n     1. Field of...</td>\n",
       "      <td>A method of programming and controlling an aut...</td>\n",
       "    </tr>\n",
       "    <tr>\n",
       "      <th>...</th>\n",
       "      <td>...</td>\n",
       "      <td>...</td>\n",
       "    </tr>\n",
       "    <tr>\n",
       "      <th>4705</th>\n",
       "      <td>PRIOR APPLICATIONS \\n       [0001]    This is ...</td>\n",
       "      <td>The feed system is for a continuous digester w...</td>\n",
       "    </tr>\n",
       "    <tr>\n",
       "      <th>1740</th>\n",
       "      <td>BACKGROUND OF THE INVENTION \\n       [0001]   ...</td>\n",
       "      <td>Multiple groups of sensors are circumferential...</td>\n",
       "    </tr>\n",
       "    <tr>\n",
       "      <th>9302</th>\n",
       "      <td>BACKGROUND OF THE INVENTION \\n     1. Field of...</td>\n",
       "      <td>The present invention relates a washing machin...</td>\n",
       "    </tr>\n",
       "    <tr>\n",
       "      <th>2874</th>\n",
       "      <td>FIELD OF THE INVENTION \\n     This invention r...</td>\n",
       "      <td>What is disclosed is an improvement in a braid...</td>\n",
       "    </tr>\n",
       "    <tr>\n",
       "      <th>10488</th>\n",
       "      <td>BACKGROUND OF THE INVENTION \\n     1. Field of...</td>\n",
       "      <td>A drier drum, in particular for papermaking ma...</td>\n",
       "    </tr>\n",
       "  </tbody>\n",
       "</table>\n",
       "<p>1130 rows × 2 columns</p>\n",
       "</div>"
      ],
      "text/plain": [
       "                                             description  \\\n",
       "6840   This application is a U.S. National Phase unde...   \n",
       "8046   BACKGROUND OF THE INVENTION \\n     1. Field of...   \n",
       "5999   FIELD OF THE INVENTION  \\n         [0001]    T...   \n",
       "7775   BACKGROUND OF THE INVENTION \\n     The present...   \n",
       "10004  BACKGROUND OF THE INVENTION \\n     1. Field of...   \n",
       "...                                                  ...   \n",
       "4705   PRIOR APPLICATIONS \\n       [0001]    This is ...   \n",
       "1740   BACKGROUND OF THE INVENTION \\n       [0001]   ...   \n",
       "9302   BACKGROUND OF THE INVENTION \\n     1. Field of...   \n",
       "2874   FIELD OF THE INVENTION \\n     This invention r...   \n",
       "10488  BACKGROUND OF THE INVENTION \\n     1. Field of...   \n",
       "\n",
       "                                                abstract  \n",
       "6840   A method for the production of a composite mat...  \n",
       "8046   A cam section block is provided with variously...  \n",
       "5999   A method for reducing a production of a slime ...  \n",
       "7775   The device comprises drums, which are coaxial ...  \n",
       "10004  A method of programming and controlling an aut...  \n",
       "...                                                  ...  \n",
       "4705   The feed system is for a continuous digester w...  \n",
       "1740   Multiple groups of sensors are circumferential...  \n",
       "9302   The present invention relates a washing machin...  \n",
       "2874   What is disclosed is an improvement in a braid...  \n",
       "10488  A drier drum, in particular for papermaking ma...  \n",
       "\n",
       "[1130 rows x 2 columns]"
      ]
     },
     "execution_count": 11,
     "metadata": {},
     "output_type": "execute_result"
    }
   ],
   "source": [
    "validation_df"
   ]
  },
  {
   "cell_type": "code",
   "execution_count": 12,
   "metadata": {},
   "outputs": [],
   "source": [
    "train_df.reset_index(drop=True, inplace=True)\n",
    "test_df.reset_index(drop=True, inplace=True)\n",
    "validation_df.reset_index(drop=True, inplace=True)\n"
   ]
  },
  {
   "cell_type": "code",
   "execution_count": 13,
   "metadata": {},
   "outputs": [
    {
     "data": {
      "text/html": [
       "<div>\n",
       "<style scoped>\n",
       "    .dataframe tbody tr th:only-of-type {\n",
       "        vertical-align: middle;\n",
       "    }\n",
       "\n",
       "    .dataframe tbody tr th {\n",
       "        vertical-align: top;\n",
       "    }\n",
       "\n",
       "    .dataframe thead th {\n",
       "        text-align: right;\n",
       "    }\n",
       "</style>\n",
       "<table border=\"1\" class=\"dataframe\">\n",
       "  <thead>\n",
       "    <tr style=\"text-align: right;\">\n",
       "      <th></th>\n",
       "      <th>description</th>\n",
       "      <th>abstract</th>\n",
       "    </tr>\n",
       "  </thead>\n",
       "  <tbody>\n",
       "    <tr>\n",
       "      <th>0</th>\n",
       "      <td>FIELD OF THE INVENTION  \\n         [0001]    T...</td>\n",
       "      <td>A head control device and its control method f...</td>\n",
       "    </tr>\n",
       "    <tr>\n",
       "      <th>1</th>\n",
       "      <td>FIELD OF THE INVENTION \\n     The invention re...</td>\n",
       "      <td>An applicator device for applying a coating ag...</td>\n",
       "    </tr>\n",
       "    <tr>\n",
       "      <th>2</th>\n",
       "      <td>This is a divisional application under 37 C.F....</td>\n",
       "      <td>A novel processing technique is reported to bo...</td>\n",
       "    </tr>\n",
       "    <tr>\n",
       "      <th>3</th>\n",
       "      <td>BACKGROUND OF THE INVENTION  \\n         [0001]...</td>\n",
       "      <td>A warp oriented woven sailcloth is provided in...</td>\n",
       "    </tr>\n",
       "    <tr>\n",
       "      <th>4</th>\n",
       "      <td>This application is a continuation in-part of ...</td>\n",
       "      <td>The movement of each of a plurality jacks or r...</td>\n",
       "    </tr>\n",
       "    <tr>\n",
       "      <th>...</th>\n",
       "      <td>...</td>\n",
       "      <td>...</td>\n",
       "    </tr>\n",
       "    <tr>\n",
       "      <th>7900</th>\n",
       "      <td>CROSS REFERENCE TO RELATED APPLICATION \\n     ...</td>\n",
       "      <td>The method for operating a fleece layer requir...</td>\n",
       "    </tr>\n",
       "    <tr>\n",
       "      <th>7901</th>\n",
       "      <td>This is a continuation of international applic...</td>\n",
       "      <td>The production of fibers is carried out by all...</td>\n",
       "    </tr>\n",
       "    <tr>\n",
       "      <th>7902</th>\n",
       "      <td>This is a continuation of application Ser. No....</td>\n",
       "      <td>Methods are disclosed for treating fibrous web...</td>\n",
       "    </tr>\n",
       "    <tr>\n",
       "      <th>7903</th>\n",
       "      <td>FIELD  \\n       [0001]     The following discl...</td>\n",
       "      <td>The use of thermosetting binder systems in the...</td>\n",
       "    </tr>\n",
       "    <tr>\n",
       "      <th>7904</th>\n",
       "      <td>CROSS-REFERENCE TO RELATED APPLICATIONS \\n    ...</td>\n",
       "      <td>Disclosed herein is a washing machine includin...</td>\n",
       "    </tr>\n",
       "  </tbody>\n",
       "</table>\n",
       "<p>7905 rows × 2 columns</p>\n",
       "</div>"
      ],
      "text/plain": [
       "                                            description  \\\n",
       "0     FIELD OF THE INVENTION  \\n         [0001]    T...   \n",
       "1     FIELD OF THE INVENTION \\n     The invention re...   \n",
       "2     This is a divisional application under 37 C.F....   \n",
       "3     BACKGROUND OF THE INVENTION  \\n         [0001]...   \n",
       "4     This application is a continuation in-part of ...   \n",
       "...                                                 ...   \n",
       "7900  CROSS REFERENCE TO RELATED APPLICATION \\n     ...   \n",
       "7901  This is a continuation of international applic...   \n",
       "7902  This is a continuation of application Ser. No....   \n",
       "7903  FIELD  \\n       [0001]     The following discl...   \n",
       "7904  CROSS-REFERENCE TO RELATED APPLICATIONS \\n    ...   \n",
       "\n",
       "                                               abstract  \n",
       "0     A head control device and its control method f...  \n",
       "1     An applicator device for applying a coating ag...  \n",
       "2     A novel processing technique is reported to bo...  \n",
       "3     A warp oriented woven sailcloth is provided in...  \n",
       "4     The movement of each of a plurality jacks or r...  \n",
       "...                                                 ...  \n",
       "7900  The method for operating a fleece layer requir...  \n",
       "7901  The production of fibers is carried out by all...  \n",
       "7902  Methods are disclosed for treating fibrous web...  \n",
       "7903  The use of thermosetting binder systems in the...  \n",
       "7904  Disclosed herein is a washing machine includin...  \n",
       "\n",
       "[7905 rows x 2 columns]"
      ]
     },
     "execution_count": 13,
     "metadata": {},
     "output_type": "execute_result"
    }
   ],
   "source": [
    "train_df"
   ]
  },
  {
   "cell_type": "code",
   "execution_count": 14,
   "metadata": {},
   "outputs": [],
   "source": [
    "train_ds = Dataset.from_pandas(train_df)\n",
    "test_ds = Dataset.from_pandas(test_df)\n",
    "validation_ds = Dataset.from_pandas(validation_df)\n"
   ]
  },
  {
   "cell_type": "code",
   "execution_count": 15,
   "metadata": {},
   "outputs": [
    {
     "data": {
      "text/plain": [
       "Dataset({\n",
       "    features: ['description', 'abstract'],\n",
       "    num_rows: 7905\n",
       "})"
      ]
     },
     "execution_count": 15,
     "metadata": {},
     "output_type": "execute_result"
    }
   ],
   "source": [
    "train_ds"
   ]
  },
  {
   "cell_type": "code",
   "execution_count": 16,
   "metadata": {},
   "outputs": [],
   "source": [
    "new_dataset = DatasetDict({\n",
    "    'train': train_ds,\n",
    "    'validation': validation_ds,\n",
    "    'test': test_ds\n",
    "})"
   ]
  },
  {
   "cell_type": "code",
   "execution_count": 17,
   "metadata": {},
   "outputs": [
    {
     "data": {
      "text/plain": [
       "DatasetDict({\n",
       "    train: Dataset({\n",
       "        features: ['description', 'abstract'],\n",
       "        num_rows: 7905\n",
       "    })\n",
       "    validation: Dataset({\n",
       "        features: ['description', 'abstract'],\n",
       "        num_rows: 1130\n",
       "    })\n",
       "    test: Dataset({\n",
       "        features: ['description', 'abstract'],\n",
       "        num_rows: 2259\n",
       "    })\n",
       "})"
      ]
     },
     "execution_count": 17,
     "metadata": {},
     "output_type": "execute_result"
    }
   ],
   "source": [
    "new_dataset"
   ]
  },
  {
   "cell_type": "code",
   "execution_count": 20,
   "metadata": {},
   "outputs": [
    {
     "name": "stderr",
     "output_type": "stream",
     "text": [
      "Saving the dataset (1/1 shards): 100%|██████████| 7905/7905 [00:00<00:00, 223015.74 examples/s]\n",
      "Saving the dataset (1/1 shards): 100%|██████████| 1130/1130 [00:00<00:00, 164453.97 examples/s]\n",
      "Saving the dataset (1/1 shards): 100%|██████████| 2259/2259 [00:00<00:00, 185684.69 examples/s]\n"
     ]
    }
   ],
   "source": [
    "new_dataset.save_to_disk(\"../Data/Textile_Patents_(70-20-10)\")"
   ]
  }
 ],
 "metadata": {
  "kernelspec": {
   "display_name": ".venv",
   "language": "python",
   "name": "python3"
  },
  "language_info": {
   "codemirror_mode": {
    "name": "ipython",
    "version": 3
   },
   "file_extension": ".py",
   "mimetype": "text/x-python",
   "name": "python",
   "nbconvert_exporter": "python",
   "pygments_lexer": "ipython3",
   "version": "3.9.6"
  }
 },
 "nbformat": 4,
 "nbformat_minor": 2
}
