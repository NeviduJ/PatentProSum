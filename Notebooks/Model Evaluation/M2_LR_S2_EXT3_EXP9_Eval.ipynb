{
 "cells": [
  {
   "cell_type": "code",
   "execution_count": 1,
   "metadata": {},
   "outputs": [
    {
     "name": "stderr",
     "output_type": "stream",
     "text": [
      "/Users/nevidujayatilleke/Documents/FYP-Abstractive Text Summarization/.venv/lib/python3.9/site-packages/urllib3/__init__.py:35: NotOpenSSLWarning: urllib3 v2 only supports OpenSSL 1.1.1+, currently the 'ssl' module is compiled with 'LibreSSL 2.8.3'. See: https://github.com/urllib3/urllib3/issues/3020\n",
      "  warnings.warn(\n",
      "/Users/nevidujayatilleke/Documents/FYP-Abstractive Text Summarization/.venv/lib/python3.9/site-packages/tqdm/auto.py:21: TqdmWarning: IProgress not found. Please update jupyter and ipywidgets. See https://ipywidgets.readthedocs.io/en/stable/user_install.html\n",
      "  from .autonotebook import tqdm as notebook_tqdm\n"
     ]
    }
   ],
   "source": [
    "import torch\n",
    "from peft import PeftModel, PeftConfig\n",
    "from transformers import AutoModelForSeq2SeqLM, AutoTokenizer"
   ]
  },
  {
   "cell_type": "code",
   "execution_count": 2,
   "metadata": {},
   "outputs": [],
   "source": [
    "#pip install --upgrade peft"
   ]
  },
  {
   "cell_type": "code",
   "execution_count": 3,
   "metadata": {},
   "outputs": [
    {
     "name": "stderr",
     "output_type": "stream",
     "text": [
      "/Users/nevidujayatilleke/Documents/FYP-Abstractive Text Summarization/.venv/lib/python3.9/site-packages/bitsandbytes/cextension.py:34: UserWarning: The installed version of bitsandbytes was compiled without GPU support. 8-bit optimizers, 8-bit multiplication, and GPU quantization are unavailable.\n",
      "  warn(\"The installed version of bitsandbytes was compiled without GPU support. \"\n"
     ]
    },
    {
     "name": "stdout",
     "output_type": "stream",
     "text": [
      "'NoneType' object has no attribute 'cadam32bit_grad_fp32'\n",
      "Peft model loaded\n"
     ]
    }
   ],
   "source": [
    "# Load peft config for pre-trained checkpoint etc.\n",
    "#peft_model_id = \"results\"\n",
    "config = PeftConfig.from_pretrained(\"M2_LR_S2_EXT3_EXP9_model\")\n",
    "\n",
    "# load base LLM model and tokenizer\n",
    "model = AutoModelForSeq2SeqLM.from_pretrained(config.base_model_name_or_path)\n",
    "tokenizer = AutoTokenizer.from_pretrained(config.base_model_name_or_path)\n",
    "\n",
    "# Load the Lora model\n",
    "model = PeftModel.from_pretrained(model, \"M2_LR_S2_EXT3_EXP9_model\", use_dora = False, device_map={\"\":0})\n",
    "model.eval()\n",
    "\n",
    "print(\"Peft model loaded\")"
   ]
  },
  {
   "cell_type": "code",
   "execution_count": 4,
   "metadata": {},
   "outputs": [],
   "source": [
    "from datasets import load_from_disk, DatasetDict\n",
    "from random import randrange\n",
    "\n",
    "\n",
    "# Load dataset from the hub and get a sample\n",
    "#dataset = load_from_disk('../../Data/Textile_Patent_(70-20-10)_LexRank')\n",
    "dataset = DatasetDict({\n",
    "    'train': load_from_disk('../../Data/Textile_Patent_(70-20-10)_LexRank_thres_2/train'),\n",
    "    'validation': load_from_disk('../../Data/Textile_Patent_(70-20-10)_LexRank_thres_2/validation'),\n",
    "    'test': load_from_disk('../../Data/Textile_Patent_(70-20-10)_LexRank_thres_2/test')\n",
    "})\n",
    "sample = dataset['test'][randrange(len(dataset[\"test\"])-300)]\n"
   ]
  },
  {
   "cell_type": "code",
   "execution_count": 5,
   "metadata": {},
   "outputs": [
    {
     "name": "stdout",
     "output_type": "stream",
     "text": [
      "input sentence: no . 4 a . 4 a , 4 b and 5 , a more aggressive carding results with an increased proportion in lightweight fiber waste g. conversely , in case the carding clearance is enlarged ( such a position is illustrated in fig . 3 a . background of the invention [ 0003 ] this invention relates to a device and method for detecting lightweight waste such as short fibers , dust , fiber fragments , fly and the like in a carding machine . 4 b ) , a less aggressive , gentle carding results with a smaller proportion of lightweight fiber waste g. as illustrated in fig . [ 0027 ] in the description which follows , short fiber content , dust and fiber fragments , that is , lightweight fiber waste , are hereafter collectively designated as ksf . [ 0004 ] in a known apparatus , such as disclosed , for example , in german patent no . [ 0024 ] turning to fig . 5,918,349 . 4 a , 4 b and 5 . 4 a and 4 b ) , the slide guide 30 has an outer surface which , when viewed circumferentially , is throughout concentric with the cylinder axis m , that is , its radius r 1 is constant . [ 0021 ] inside the conduit 20 , upstream and downstream of the filter disk 24 , respective pressure sensors 37 a and 37 b are disposed . 4 a , 4 b and 5 , it is feasible to integrate the kfs quantity determining system into the carding machine . [ 0019 ] turning to figs . the underside of the slide guide 30 has , as viewed in the circumferential direction a , a changing radius r 4 . [ 0007 ] by virtue of the invention , the degree of fiber damage to the carded fiber material ( aggressiveness of carding ) can be continuously ( on-line ) determined . 3 b , when the active , waste-laden filter element 25 i is to be replaced , the disk 24 is rotated in the direction of the arrow c. as a result , the filter element 25 i is moved from its operative position depicted in fig . 3 c , a relationship exists between the extent of charging the filter 25 with lightweight fiber waste g and the carding process based on the setting of the carding clearance . the processing direction of the fiber material through the carding machine cm is designated with the arrow k. [ 0018 ] [ 0018 ] fig . 4 a and 4 b show a device for adjusting the carding clearance between the clothings of the flat bars 14 , on the one hand , and the clothing of the carding cylinder 4 , on the other hand . by virtue of the fact that according to the invention the released ksf quantities are captured by vacuum means , it is feasible to describe the degree of fiber damaging , that is , the degree carding . [ 0029 ] first , the kfs quantity is deliberately removed by suction and directed to the active filter 25 i or 25 ii of the measuring device md . [ 0026 ] [ 0026 ] fig . [ 0022 ] [ 0022 ] fig . [ 0016 ] [ 0016 ] fig . [ 0015 ] [ 0015 ] fig . [ 0014 ] [ 0014 ] fig . [ 0013 ] [ 0013 ] fig . [ 0012 ] [ 0012 ] fig . [ 0011 ] [ 0011 ] fig . [ 0010 ] [ 0010 ] fig . [ 0009 ] [ 0009 ] fig . [ 0025 ] when a small carding clearance is set by the mechanism shown in figs . the adjusting device of figs . 6 shows a block diagram of an electronic control system which has a control and regulating device 33 , for example , a microcomputer , connected to an inputting device 34 for the desired carding clearance , the drive motor 28 , a display device 40 , a further inputting device 29 , a switch 35 for the motor 36 and the differential pressure measuring device 38 . the carding machine cm has a feed roller 1 , a feed table 2 cooperating with the feed roller 1 , licker-ins 3 a , 3 b , 3 c , a main carding cylinder 4 having a rotary axis m , a doffer 5 , a stripping roll 6 , crushing rolls 7 , 8 , a web guiding element 9 , a sliver trumpet 10 , calender rolls 11 , 12 , a traveling flats assembly 13 having flat bars 14 , a sliver coiler 16 depositing sliver into a coiler can 15 . at the same time , the filter element 25 ii previously purged of the waste by the cleaning device 41 , is moved into the operative position in the path of the stream flowing in the conduit 20 . [ 0028 ] the mechanical stress on the fiber material ( sliver ) appears after the carding process in the region of doffing . the motor 28 is connected with an inputting device 29 with which a very small carding clearance , for example , 3/1000 inch may be set as a nominal value . 4 b is a view similar to fig . also referring to fig . summary of the invention [ 0005 ] it is an object of the invention to provide an improved device and method of the above-outlined type from which the discussed disadvantages are eliminated and which , in particular , make possible a continuous determination of the fiber damages as a result of the degree of aggressiveness of the carding operation . in the region above the fiber material f , between the nip defined by the crushing rolls 7 , 8 and the inlet of the advance trumpet 9 a a further suction conduit 18 is provided for removing the lightweight fiber material . [ 0006 ] this object and others to become apparent as the specification progresses , are accomplished by the invention , according to which , briefly stated , the carding machine includes clothed rolls for processing and carrying fiber material thereon ; an arrangement for separating lightweight waste from the fiber material processed by the clothed rolls ; a conduit for receiving the lightweight waste ; an air stream generating arrangement for generating an air flow in the conduit for removing the lightweight waste ; an adjusting device for varying a degree of carding intensity of the carding machine ; and a detecting device for measuring quantities of the lightweight waste produced at a respective degree of carding intensity . [ 0023 ] [ 0023 ] figs . 3 a is a schematic side elevational view of a measuring device for lightweight fiber waste . [ 0030 ] measuring of the kfs quantity may be effected by a portable measuring device at different locations of the carding machine . it is a particular advantage of the invention that the degree of fiber damage in a given carding operation , as concerns the quantity of light waste , may be compared with measured values for the damaged fiber in case of gentle carding and in case of aggressive carding and to derive an optimal setting for the carding process from these findings . 10/076,111 filed feb. 15 , 2002 . description of the preferred embodiments [ 0017 ] [ 0017 ] fig . brief description of the drawings [ 0008 ] [ 0008 ] fig . the latter , in turn , meshes with a gear 27 b which is rotatable in the direction o , p. the gear 27 b is driven by a reversible motor 28 , whereby the slide guide 30 is shiftable circumferentially in the direction of the arrows a , b . during the carding process , the difference between the fiber sparing ( gentle ) carding and the aggressive ( more damaging ) carding manifests itself particularly in the changed short fiber fly proportion , the degree of exiting dust and the extent of fiber fragments released to the environment when the sliver is mechanically stressed ( release of ksf parts ) . 1 but not shown in figs . 3 a into a cleaning position which is externally of the conduit 20 and which is in alignment with a cleaning device 41 , such as a suction arrangement . the setting of the carding clearance may also be effected by an electronic control and regulating device 33 ( fig . 4 a showing the slide guide in a second position . as a result of a circumferential displacement of the slide guide 30 , the radius r 1 of the slide guide surface changes , whereupon the flat bars 14 which glide on the slide surface of the slide guide 30 change their distance from the cylinder 4 , thus changing the degree of carding intensity . it is seen that the position of the slide guide 30 depicted in fig . the extent of such a clearance determines the degree of carding intensity . [ 0031 ] it will be understood that the above description of the present invention is susceptible to various modifications , changes and adaptations , and the same are intended to be comprehended within the meaning and range of equivalents of the appended claims . 3 c illustrates the above-described differential pressures measured in pa units for an empty filter , represented by bar 42 , a waste-laden filter at a gentle carding , represented by bar 43 and a waste-laden filter at an aggressive carding , represented by bar 44 . 101 07 282.1 filed feb. 16 , 2001 , which is incorporated herein by reference . the fiber material is advanced by a feeding device to an opening roll which cooperates with a dust separating opening provided with a sieve-like surface adjoined by a filtering unit which , as viewed in the direction of the flow of the suction stream , comprises a sieve for short fibers and fly and a dust filter . the fiber material exiting the crushing rolls 7 , 8 is backed up by the supporting element 9 b and introduced in the inlet opening of the advance trumpet 9 a . at a given nominal pressure difference , the motor 36 rotates the filter disk 24 to thus move the filter 25 i into alignment with the cleaning device 41 . 5 , on the slide guide 30 a carrier element 26 is arranged which is coupled with a toothed rack 27 a . 1 shows a carding machine cm which may be a high-performance dk 903 model manufactured by trützschler gmbh & amp ; co. kg , mönchengladbach , germany . 4 b has been shifted in the direction of the arrow a with respect to the position shown in fig . as related to the cylinder axis m ( shown in fig . the waste is carried away in a suction conduit containing a filter . 5 is a schematic side elevational view of a device for circumferentially shifting a slide guide . 4 a is a schematic side elevational view of traveling flats of a carding machine showing a circumferentially shiftable slide guide in a first position . a differential pressure measuring device 38 generates a signal which represents the difference between the pressures measured by the sensors 37 a , 37 b upstream and downstream of the filter disk 24 . 1 is a schematic side elevational view of a carding machine incorporating the invention . 2 shows a web guiding element 9 which may be , for example , a webspeed model manufactured by trützschler gmbh & amp ; co. kg . 2 is a schematic side elevational view of the sliver output region of the carding machine showing suction devices for removing lightweight fiber waste . if the pressure difference in case of non-aggressive carding is set to 0 % , the degree of the aggressiveness of all other carding processes may be expressed in percentage with which the degree of carding may be described on-line . 3 a and 3 b , the lightweight waste-carrying conduit 9 c has a branch conduit 20 for carrying the lightweight waste g in the direction d. in the conduit 20 a measuring device md is disposed . in this connection particularly two locations are of importance , namely , the position above the web guiding element 9 and the position above the advance trumpet 9 a preceding the trumpet 10 . 3 b is a schematic end elevational detail of the construction shown in fig . [ 0002 ] this application claims the priority of german application no . the differential pressure measuring device 38 is connected to an electronic control and regulating device 33 ( fig . such waste is released from the fiber material while being processed by a clothed fiber processing roll . the fiber material then passes through the advance trumpet 9 a and the sliver trumpet 10 and is withdrawn therefrom by calender rolls 11 , 12 as a fiber sliver . 3 c is a diagram showing the dependency of differential pressures from the setting of the carding degree . such a pressure difference is proportional to the kfs quantity . assuming the presence of a carding clearance setting system as described in connection with figs . for changing the carding intensity the carding clearance is automatically adjusted as explained earlier in connection with figs . 4 a and 4 b comprises a slide guide 30 which is slightly wedge-shaped as viewed in the circumferential direction . after performing a test , the proportion of dust ( at the dust filter ) and short fibers ( at the sieve ) may be determined by measurements . 6 is block diagram of an electronic control and regulating device . 6 ) which has a memory for receiving data relating to the function between the differential pressures and the quantity of the lightweight fiber waste g adhering to the filter 25 . [ 0020 ] the measuring device md comprises a filter assembly having a filter carrier disk 24 traversing the conduit 20 and rotated by a motor 36 about an axis 36 a extending parallel to the longitudinal axis of the conduit 20 . the web guiding element 9 has an advance trumpet 9 a preceded by a web-supporting element 9 b , as viewed in the direction of material advance . 6 ) with a nominal value memory and/or inputting device . the fiber material f is taken off the doffer 5 by the stripping roll 6 and is introduced via a web-supporting and guiding element 19 into the nip defined between the cooperating crushing rolls 7 , 8 . cross reference to related applications [ 0001 ] this application is a continuation of application serial no . if it is desired to additionally describe the entire carding range by means of kfs quantities , then the kfs quantities for an extremely aggressive ( damaging ) card setting are also detected . 34 29 024 the dust and dirt content of the fiber material is measured . a rotation of the filter disk 24 can also be initiated after a predetermined delay . the slide guide 30 is shiftable on an arcuate supporting surface of a flexible bend 17 . the downstream end of the conduit 20 is connected to a suction source such as a fan 23 . a meaningful reference magnitude is obtained by relating everything to the ksf quantity which is released in case of a non-aggressive ( gentle ) carding . in the upstream branching location of the conduit 20 a switch 21 is provided which includes a pivotal gate 22 for selectively directing the waste material from the conduit 9 c either into the conduit 20 or into the conduit 39 which bypasses the measuring device md and which is connected to a filter device of the carding machine . between the advance trumpet 9 a and the sliver trumpet 10 an air gap is present through which lightweight fiber waste exits and is removed by suction via a suction conduit 9 c . the supporting surface of the flexible bend 17 has a circumferentially changing radius r 3 . in such a case cleaning of the filter may be effected by reversing the airflow by virtue of reversing the direction of operation of the fan 23 . it is a further drawback that the measuring and evaluating steps are intermittent which is a structurally complex solution . it is a disadvantage of such a prior art arrangement that the degree of the intensity of fiber opening performed by the opening roll remains unchanged . after a defined time period the pressure at locations upstream and downstream of the active filter is determined from which the pressure difference ap is obtained . the above-described adjustment of the radius of a slide surface of a slide guide by circumferentially shifting the slide guide is described in further detail in u.s. pat . the released ksf parts which form only one part of the totality of ksf parts in the sliver , are proportionate to the ksf parts remaining in the material ( assuming a constant room and material climate ) . the filter assembly further has two filter elements 25 i and 25 ii which are pervious to the air stream generated by the suction source 23 but which retain thereon the fiber waste g. the filter elements 25 i and 25 ii are mounted in a diametrically opposite relationship on the carrier disk 24 .\n",
      "------------------------------------------------------------\n",
      "summary:\n",
      "A carding machine is equipped with a control and regulating device for adjusting the carding clearance. When a carding process is set by the mechanism shown in figs. the adjusting device of figs. 6 shows a block diagram of an electronic control system which has a control device, connected to an inputting device, a display device 40, a switch 35 for the motor 36 and the differential pressure measuring device 38.\n"
     ]
    }
   ],
   "source": [
    "input_ids = tokenizer(sample[\"description\"], return_tensors=\"pt\", truncation=True).input_ids.cpu()\n",
    "# with torch.inference_mode():\n",
    "outputs = model.generate(input_ids=input_ids, max_new_tokens=512, do_sample=True, top_p=0.9)\n",
    "print(f\"input sentence: {sample['description']}\\n{'---'* 20}\")\n",
    "\n",
    "print(f\"summary:\\n{tokenizer.batch_decode(outputs.detach().cpu().numpy(), skip_special_tokens=True)[0]}\")"
   ]
  },
  {
   "cell_type": "code",
   "execution_count": 6,
   "metadata": {},
   "outputs": [
    {
     "data": {
      "text/plain": [
       "tensor([[    2,     0,   250,  1886,   154,  3563,    16,  8895,    19,    10,\n",
       "           797,     8, 24555,  2187,    13, 18624,     5,  1886,   154, 11855,\n",
       "             4,   520,    10,  1886,   154,   609,    16,   278,    30,     5,\n",
       "          9562,  2343,    11, 29959,    29,   479,     5, 18624,  2187,     9,\n",
       "         29959,    29,     4,   231,   924,    10,  1803, 41071,     9,    41,\n",
       "          5175,   797,   467,    61,    34,    10,   797,  2187,     6,  3665,\n",
       "             7,    41,  8135,  2577,  2187,     6,    10,  2332,  2187,   843,\n",
       "          2156,    10,  5405,  1718,    13,     5,  4243,  2491,     8,     5,\n",
       "         25406,  1164, 14978,  2187,  2843,   479,     2]])"
      ]
     },
     "execution_count": 6,
     "metadata": {},
     "output_type": "execute_result"
    }
   ],
   "source": [
    "outputs"
   ]
  },
  {
   "cell_type": "code",
   "execution_count": 7,
   "metadata": {},
   "outputs": [
    {
     "name": "stderr",
     "output_type": "stream",
     "text": [
      "huggingface/tokenizers: The current process just got forked, after parallelism has already been used. Disabling parallelism to avoid deadlocks...\n",
      "To disable this warning, you can either:\n",
      "\t- Avoid using `tokenizers` before the fork if possible\n",
      "\t- Explicitly set the environment variable TOKENIZERS_PARALLELISM=(true | false)\n"
     ]
    }
   ],
   "source": [
    "import evaluate\n",
    "import numpy as np\n",
    "from datasets import load_from_disk\n",
    "from tqdm import tqdm\n",
    "\n",
    "# Metric\n",
    "metric = evaluate.load(\"rouge\")\n",
    "\n",
    "def evaluate_peft_model(sample,max_target_length=512):\n",
    "    # generate summary\n",
    "    outputs = model.generate(input_ids=sample[\"input_ids\"].unsqueeze(0).cpu(), do_sample=True, top_p=0.9, max_new_tokens=max_target_length)\n",
    "    prediction = tokenizer.decode(outputs[0].detach().cpu().numpy(), skip_special_tokens=True)\n",
    "    # decode eval sample\n",
    "    # Replace -100 in the labels as we can't decode them.\n",
    "    labels = np.where(sample['labels'] != -100, sample['labels'], tokenizer.pad_token_id)\n",
    "    labels = tokenizer.decode(labels, skip_special_tokens=True)\n",
    "\n",
    "    # Some simple post-processing\n",
    "    return prediction, labels"
   ]
  },
  {
   "cell_type": "code",
   "execution_count": 8,
   "metadata": {},
   "outputs": [
    {
     "name": "stderr",
     "output_type": "stream",
     "text": [
      "100%|██████████| 2259/2259 [12:14:25<00:00, 19.51s/it]    \n"
     ]
    },
    {
     "name": "stdout",
     "output_type": "stream",
     "text": [
      "Rogue1: 35.411043%\n",
      "rouge2: 13.716825%\n",
      "rougeL: 23.779670%\n",
      "rougeLsum: 23.876581%\n"
     ]
    }
   ],
   "source": [
    "# load test dataset from distk\n",
    "test_dataset = load_from_disk(\"./tokenized_data_S2_EXT3/test\").with_format(\"torch\")\n",
    "\n",
    "# run predictions\n",
    "# this can take ~45 minutes\n",
    "predictions, references = [] , []\n",
    "for sample in tqdm(test_dataset):\n",
    "    p,l = evaluate_peft_model(sample)\n",
    "    predictions.append(p)\n",
    "    references.append(l)\n",
    "\n",
    "# compute metric\n",
    "rogue = metric.compute(predictions=predictions, references=references, use_stemmer=True)\n",
    "\n",
    "# print results\n",
    "print(f\"Rogue1: {rogue['rouge1']* 100:2f}%\")\n",
    "print(f\"rouge2: {rogue['rouge2']* 100:2f}%\")\n",
    "print(f\"rougeL: {rogue['rougeL']* 100:2f}%\")\n",
    "print(f\"rougeLsum: {rogue['rougeLsum']* 100:2f}%\")\n",
    "\n",
    "# Rogue1: 50.386161%\n",
    "# rouge2: 24.842412%\n",
    "# rougeL: 41.370130%\n",
    "# rougeLsum: 41.394230%"
   ]
  },
  {
   "cell_type": "code",
   "execution_count": 9,
   "metadata": {},
   "outputs": [],
   "source": [
    "# Extracting Rouge scores\n",
    "rouge1_score = rogue['rouge1'] * 100\n",
    "rouge2_score = rogue['rouge2'] * 100\n",
    "rougeL_score = rogue['rougeL'] * 100\n",
    "rougeLsum_score = rogue['rougeLsum'] * 100\n",
    "\n",
    "# Plotting the Rouge scores\n",
    "labels = ['Rouge-1', 'Rouge-2', 'Rouge-L', 'Rouge-Lsum']\n",
    "scores = [rouge1_score, rouge2_score, rougeL_score, rougeLsum_score]"
   ]
  },
  {
   "cell_type": "code",
   "execution_count": 10,
   "metadata": {},
   "outputs": [
    {
     "data": {
      "text/plain": [
       "(0.0, 100.0)"
      ]
     },
     "execution_count": 10,
     "metadata": {},
     "output_type": "execute_result"
    },
    {
     "data": {
      "image/png": "[encoded data removed]",
      "text/plain": [
       "<Figure size 1000x600 with 1 Axes>"
      ]
     },
     "metadata": {},
     "output_type": "display_data"
    }
   ],
   "source": [
    "import matplotlib.pyplot as plt\n",
    "\n",
    "plt.figure(figsize=(10, 6))\n",
    "plt.bar(labels, scores, color=['blue', 'green', 'orange', 'red'])\n",
    "plt.ylabel('Rouge Score (%)')\n",
    "plt.title('Rouge Scores for Bart model with LoRA (Split 2)')\n",
    "plt.ylim(0, 100)"
   ]
  },
  {
   "cell_type": "code",
   "execution_count": null,
   "metadata": {},
   "outputs": [],
   "source": []
  },
  {
   "cell_type": "code",
   "execution_count": null,
   "metadata": {},
   "outputs": [],
   "source": []
  }
 ],
 "metadata": {
  "kernelspec": {
   "display_name": ".venv",
   "language": "python",
   "name": "python3"
  },
  "language_info": {
   "codemirror_mode": {
    "name": "ipython",
    "version": 3
   },
   "file_extension": ".py",
   "mimetype": "text/x-python",
   "name": "python",
   "nbconvert_exporter": "python",
   "pygments_lexer": "ipython3",
   "version": "3.9.6"
  }
 },
 "nbformat": 4,
 "nbformat_minor": 2
}
