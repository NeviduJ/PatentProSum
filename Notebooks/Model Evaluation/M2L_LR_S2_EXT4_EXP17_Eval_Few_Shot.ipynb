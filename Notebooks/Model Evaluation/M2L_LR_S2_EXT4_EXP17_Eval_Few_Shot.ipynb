{
 "cells": [
  {
   "cell_type": "code",
   "execution_count": 1,
   "metadata": {},
   "outputs": [
    {
     "name": "stderr",
     "output_type": "stream",
     "text": [
      "/Users/nevidujayatilleke/Documents/FYP-Abstractive Text Summarization/.venv/lib/python3.9/site-packages/urllib3/__init__.py:35: NotOpenSSLWarning: urllib3 v2 only supports OpenSSL 1.1.1+, currently the 'ssl' module is compiled with 'LibreSSL 2.8.3'. See: https://github.com/urllib3/urllib3/issues/3020\n",
      "  warnings.warn(\n",
      "/Users/nevidujayatilleke/Documents/FYP-Abstractive Text Summarization/.venv/lib/python3.9/site-packages/tqdm/auto.py:21: TqdmWarning: IProgress not found. Please update jupyter and ipywidgets. See https://ipywidgets.readthedocs.io/en/stable/user_install.html\n",
      "  from .autonotebook import tqdm as notebook_tqdm\n"
     ]
    }
   ],
   "source": [
    "import torch\n",
    "from peft import PeftModel, PeftConfig\n",
    "from transformers import AutoModelForSeq2SeqLM, AutoTokenizer"
   ]
  },
  {
   "cell_type": "code",
   "execution_count": 2,
   "metadata": {},
   "outputs": [],
   "source": [
    "#pip install --upgrade peft"
   ]
  },
  {
   "cell_type": "code",
   "execution_count": 3,
   "metadata": {},
   "outputs": [],
   "source": [
    "# pip install bert-score"
   ]
  },
  {
   "cell_type": "code",
   "execution_count": 4,
   "metadata": {},
   "outputs": [],
   "source": [
    "#pip install sentencepiece"
   ]
  },
  {
   "cell_type": "code",
   "execution_count": 5,
   "metadata": {},
   "outputs": [
    {
     "name": "stderr",
     "output_type": "stream",
     "text": [
      "/Users/nevidujayatilleke/Documents/FYP-Abstractive Text Summarization/.venv/lib/python3.9/site-packages/bitsandbytes/cextension.py:34: UserWarning: The installed version of bitsandbytes was compiled without GPU support. 8-bit optimizers, 8-bit multiplication, and GPU quantization are unavailable.\n",
      "  warn(\"The installed version of bitsandbytes was compiled without GPU support. \"\n"
     ]
    },
    {
     "name": "stdout",
     "output_type": "stream",
     "text": [
      "'NoneType' object has no attribute 'cadam32bit_grad_fp32'\n",
      "Peft model loaded\n"
     ]
    }
   ],
   "source": [
    "# Load peft config for pre-trained checkpoint etc.\n",
    "#peft_model_id = \"results\"\n",
    "config = PeftConfig.from_pretrained(\"M2L_LR_S2_EXT4_EXP17_model\")\n",
    "\n",
    "# load base LLM model and tokenizer\n",
    "model = AutoModelForSeq2SeqLM.from_pretrained(config.base_model_name_or_path)\n",
    "tokenizer = AutoTokenizer.from_pretrained(config.base_model_name_or_path)\n",
    "\n",
    "# Load the Lora model\n",
    "model = PeftModel.from_pretrained(model, \"M2L_LR_S2_EXT4_EXP17_model\", use_dora = False, device_map='mps:0').to(\"mps\")\n",
    "model.eval()\n",
    "\n",
    "print(\"Peft model loaded\")"
   ]
  },
  {
   "cell_type": "code",
   "execution_count": 6,
   "metadata": {},
   "outputs": [],
   "source": [
    "from datasets import load_from_disk, DatasetDict\n",
    "from random import randrange\n",
    "\n",
    "\n",
    "# Load dataset from the hub and get a sample\n",
    "#dataset = load_from_disk('../../Data/Textile_Patent_(70-20-10)_LexRank')\n",
    "dataset = DatasetDict({\n",
    "    'train': load_from_disk('../../Data/Textile_Patent_(70-20-10)_Aug_LexRank_thres_3/train'),\n",
    "    'validation': load_from_disk('../../Data/Textile_Patent_(70-20-10)_Aug_LexRank_thres_3/validation'),\n",
    "    'test': load_from_disk('../../Data/Textile_Patent_(70-20-10)_Aug_LexRank_thres_3/test')\n",
    "})\n",
    "sample = dataset['test'][randrange(len(dataset[\"test\"])-300)]\n"
   ]
  },
  {
   "cell_type": "code",
   "execution_count": 7,
   "metadata": {},
   "outputs": [
    {
     "name": "stdout",
     "output_type": "stream",
     "text": [
      "input sentence: no . no . no . no . no . no . no . fig . fig . fig . fig . fig . fig . fig . fig . fig . fig . fig . fig . agitators are positioned above the conveyor belt , along the length of the belt , to agitate the curds . 2 , keep the curds on the conveyor belts 48 , 50 . the vertical agitators ensure that the curds , when mixed , are of uniform size . in the preferred embodiment , the housing is enclosed . it is to be noted that the salt dispenser and salt tube apparatuses may be used independently of the conveyor , the agitators , or both , but that there is a synergistic effect between the systems . in the most preferred embodiment , four salt hoppers are used . thomson , u.s. pat . in the preferred embodiment of the invention , air is used to convey the salt . 4,309,941 , issued jan. 12 , 1982 , disclose conveyor belt systems with horizontal agitators . 11 , 1905 , disclose assemblies that stir cheese curds . 794,421 , issued jul . 1,499,026 , issued jun . in the most preferred embodiment , the quantity sensor measures the depth of curds on the belt . such a belt may be purchased from intralox , inc. of harahan , louisiana , or any other suitable supplier . 3 . 3 . 3 . 4 . curd tables have other disadvantages , as well . 7 , a salt dispenser 114 is connected to the tube apparatus 20 , 22 . 5,704,280 . similarly , agitators with an axis of rotation that is angled into the curds , rather than strictly perpendicular to the belt , would be within the scope of the present invention . in the preferred embodiment of the invention , one tube apparatus will be provided for each salt hopper , with the tube apparatus connected to the salt hopper through the venturi pickup tee , chamber member , and other components described herein . more particularly , the present invention relates to a device for processing food products , such as cheeses . 3 , in the preferred embodiment of the device 10 the vertical agitators are spaced closer together toward the front end of the device 10 , where curds and whey are deposited on the first conveyor belt 48 by the curd and whey inlet 14 . 4,538,510 , issued sep. 3 , 1985 , and brockwell , u.s. pat . as the curds are mixed , however , they are pushed across the screen repeatedly , which effects a grating action on the curds . 08/567,087 , filed dec. 4 , 1995 , now u.s. pat . as the curds travel along the first conveyor belt 48 , they are stirred by vertical agitators 36 . 24 , 1924 ; and mckinnon , u.s. pat . in the preferred embodiment , multiple drive means are used . also , because horizontal conveyor systems produce curds of different sizes , moisture content and salt penetration varies from curd to curd . in a preferred embodiment , each distribution end terminates in a duckbill-shaped portion , thus enhancing the even spreading of the salt . another object of the invention is to produce cheese curds that have been drained properly of whey , have been salted , have achieved a proper acidity level , are uniformly mixed , and are of consistent size . in a preferred embodiment , a plurality of salt hoppers are used , and the inlets for the chamber members are connected so that only one filter is required . the prongs also may be provided in any number , as long as there is at least one prong , either forward or rearward , on each agitator . the salting causes further contraction of the curds , thus forcing out more whey . in its preferred embodiment , food processing device 10 uses two conveyor belts , first conveyor belt 48 and second conveyor belt 50 . 10 , the tube apparatus 20 , 22 comprises hollow tubes 160 . 6 , a cross-sectional view of the device 10 is depicted . 3,490,751 , issued jan. 20 , 1970 ; naulin , u.s. pat . in the preferred embodiment , a quantity sensor measures the quantity of curds on the belt . curd tables have serious disadvantages , however . sideboards 52 , which are shown in phantom in fig . in the preferred embodiment , a quantity sensor 168 is positioned above the food to be processed on the conveyor belt 50 . in addition , horizontal agitators spin in a single location , so they are not effective for stirring the food . in addition , because it takes the cheesemaker several minutes to apply salt to the curds , the salt is not applied at a single point in the process . the temperature sensor 16 may be a side-mounted probe or , as shown in the preferred embodiment , a top-mounted infrared device . when the curds and whey are dispensed onto the conveyor belt , the mixture is of varying depths or thicknesses . referring now to fig . referring now to fig . referring now to fig . referring now to fig . referring now to fig . the curds cool as they move along the belts 48 , 50 , thus requiring less agitation from the vertical agitators 36 . it can be seen in fig . as can be seen in fig . as shown in fig . as shown in fig . this grating action causes small particles , called curd fines , to be lost from the curds and pass through the screen , thus reducing yields . when compared to curd tables , conveyor belt systems save labor . upon reaching the end of the first conveyor belt 48 , the curds and whey are deposited on the second conveyor belt 50 . in addition , to assist in maintaining the proper moisture content of the curds , a moisture sensing device may be provided . a photoeye 68 , which senses curd accumulation in auger trough 70 , is positioned at the second end of the second conveyor belt 50 . the rearward prongs 46 are dragged through the curds , thus stirring the curds , also without causing physical damage . also in a preferred embodiment , ventilation ducts are attached to the housing . in the preferred embodiment , the quantity sensor is operably connected to the salt dispenser , and directs the salt dispenser to release an amount of salt appropriate for the quantity of curds being processed on the belt . in the preferred embodiment , the attachments comprise forward and rearward prongs . furthermore , because the horizontal agitators tend to grind the cheese , they produce curd fines , thus reducing yields and causing profits to be lost . for about the last twenty-five years , stirred curd cheeses have been produced in large , open , tub-like curd tables . 4 and 5 , a cross-sectional view of the device 10 is depicted . line a represents the depth of the curds being processed on the belts 48 , 50 . each spray bar spans the width of the device 10 , and thus is well-suited to clean the belts 48 , 50 . in the preferred embodiment , the forward prong has a rectangular cross-section , with the wide portion of the prong being parallel to the belt . however , the agitators may be positioned in any manner suitable to the application . as depicted , the forward prongs 44 are moving to the right-hand side of the figure , thus scooping curds from the belt 50 without physically damaging them . however , any ratio of tube apparatuses to salt hoppers may be used in the practice of the invention . in a preferred embodiment , a temperature sensor detects the temperature of the curds . after passing over the peak 96 , salt is applied to the curds by a plurality of salt tube apparatuses 22 . in the preferred embodiment , the belt is made of interconnected segments between which liquid may flow . in the preferred embodiment , the agitators are positioned side by side , in pairs , across the width of the belt , and the area agitated by each agitator overlaps the area agitated by its adjacent paired agitator . in the preferred embodiment , the angle of the draining screen is adjustable with respect to the curd and whey inlet . the quantity sensor may be positioned anywhere on the housing , but preferably is positioned toward the downstream end of the housing , under the salt tube apparatuses . the cheesemaker must start with an empty table , and then fill it with curds and whey . as the curds are mixed and processed , salt must be added to the curds by hand at the proper point in the processing . in the preferred embodiment , the housing is enclosed in order to control heat and moisture levels , keep out contaminants , and allow efficient internal mechanized cleaning . curds are collected in auger trough 70 , and may be removed from the device 10 through curd outlet 72 . the paired agitators are spaced along the full length of the conveyor belt , as has been described . furthermore , horizontal agitators are unable to mix the salt uniformly across the width of the belt , and instead tend only to push the salt in the same straight-line direction in which the food already is travelling on the conveyor belt . these and other objects of the present invention will become apparent with reference to the drawings , the description of the preferred embodiment , and the appended claims . accordingly , it is intended that the scope of the present invention be dictated by the appended claims , rather than by the description of the preferred embodiment . because the tables are open , the curds are exposed to airborne contaminants , the rate at which process heat is lost can not be controlled , and moisture is lost into the atmosphere . because the curds cool as they move down the belt , they are less likely to knit together toward the downstream end of the device . 11 , but have been omitted from the other figures to enhance clarity . latimer et al. , u.s. pat . the salt is distributed evenly over the branches 162 and passes to the distribution ends 164 , where it is spread by the duckbill-shaped portions 166 over the food being processed on the conveyor belt 48 , 50 . in addition , curd tables drain the whey from the curds by means of a mesh screen at the bottom of the table . nevertheless , other fluids including water may be used to convey the salt in the present invention . as the mixture slides down the draining screen and onto the conveyor belt , a substantial portion of whey is drained from the curds and is collected . in the preferred embodiment , the agitators in each pair across the width of the belt rotate in opposite directions . when the wheel turns , salt is moved from the top portion of the chamber member to the bottom . in the preferred embodiment , the moisture sensing device is positioned toward the downstream end of the device . in a preferred embodiment of the present invention , a quantity sensor measures the amount of food to be salted . accordingly , in the preferred embodiment , the agitators are spaced farther apart toward the device & # 39 ; s downstream end than toward its upstream end , thus permitting the use of fewer agitators and agitator drive means along the length of the device . in an alternative embodiment , the probe assembly may be mounted directly on the side of the salt hopper 136 . while the curds are travelling through the device 10 , salt is flowing from the salt container 138 into the salt hopper 136 , which deposits the salt into the upper portion of the chamber member 148 and onto the dispensing wheel 152 . more specifically , the device uses one drive means for each pair of vertical agitators . rearward prongs 46 further stir the curds , also without physically damaging them . as the assembly moves back and forth above the table , the cheese curds are mixed . this embodiment is preferred because it allows effective stirring , and thus produces the most uniform mixing of the curds . if the salt is being applied to food being processed on a conveyor belt , the duckbill ends ensure that the salt is spread evenly over the width of the belt . the salt dispenser and tube apparatuses may be used to apply salt to any type of food being processed , and to any type of cheese being processed , whether of the stirred curd or milled varieties . 5 , which is a side view of only one end of the horizontal shaft 42 . further objects of the invention are to provide for consistent salt distribution , proper temperature control , consistent moisture control , and less generation of cheese fines . background of the invention the present invention is suitable for producing a variety of cheeses ( designated herein as & # 34 ; stirred curd & # 34 ; cheeses ) , including american style cheeses , such as current manufacture , cheddar , colby , american , and other washed curd varieties ; italian style cheeses , such as mozzarella , pizza cheese , parmesan , romano , and provolone cheeses ; semi-soft cheeses , such as brick , edam , gouda , muenster , monterey jack , and pepper jack ; and swiss varieties , such as traditional swiss , baby swiss , and jarlsberg cheeses . 9 , a chamber member 148 is mounted directly below the bottom of the salt hopper 136 . further , because some curds must sit for longer periods of time than others during the removal process , it is difficult to ensure that moisture levels are uniform in all of the curds . in the most preferred embodiment , the temperature sensor is operably connected to the ventilation ducts , thus controlling the amount of airflow over the curds in accordance with the temperature of the curds , and thereby allowing the curds to be processed at the desired temperature . each conveyor belt 48 , 50 allows the whey to be drained from the curds , travels along belt carryways 54 and belt returnways 56 , is tensioned by a gravity belt takeup 58 and takeup release arm 60 , and is mounted on belt drive and idler shafts 62 . it is connected to and receives salt from a salt hopper , and it dispenses the salt into the tube apparatuses . for example , a horizontal agitator with blunt attachments that tended to scoop and stir the curds , instead of the sharp finger-like attachments currently used with horizontal agitators , would produce stirred curd cheeses . as depicted in the figures submitted herewith , the forward prongs are made of rods , and thus have circular cross-sections . it is yet another object of the present invention to reduce costs for labor , maintenance , and space requirements . in addition , a bin vibrator 142 is attached to the side of the salt hopper 136 . in a preferred embodiment , the supply of salt is a polyhedral container capable of holding a quantity of salt therein . each of the ramps 88 , 90 , 94 , 98 also is optimally positioned to ensure proper drainage of the cleaning and rinsing solutions that are used when the clean-in-place procedures for the device 10 are followed . first , oscillating booms consist of many moving parts , and thus are expensive to manufacture and to maintain . referring now to figs . horizontal agitators are not able to level the mixture across the width of the belt , so mixing is not uniform . when the acid level is within the desired range , users of the curd table must spread salt over the curds manually . the conveyor belts 48 , 50 are positioned in a step-wise , overlapping fashion to ensure that all material is transferred from the first conveyor belt 48 to the second conveyor belt 50 as the curds and whey move through the processing stages . at the first end of the first conveyor belt 48 , an inlet deflector plate 82 is located next to the curd and whey inlet 14 . upon reaching the second end of the second conveyor belt 50 , the fully processed curds are deposited into the auger trough 70 . because the horizontal agitators can not level the height of the curds across the width of the belt , the salt concentration varies based on the height of the curd mass where the salt is applied . conversely , cleaning materials may leak into and damage the bearings . the rearward prongs extend into the curds , thus stirring them and breaking up clumps as the vertical agitator rotates . also in the preferred embodiment , a sealed , raised lip is placed on each generally vertical shaft to prevent fluids from leaking from the bearing or drive means into the food stream . because the assembly can remove the product from the curd table only in small scoops , and can not remove it all at once , the process of removing the curds is time consuming and labor-intensive . specifically , because moisture is lost as the curds sit , the curds that are removed earlier will have a higher moisture content than those that are removed later . when a plurality of tube apparatuses 22 are used , in the preferred embodiment of the invention they are staggered to ensure uniform coverage over the width of the belt 50 . in its preferred embodiment , the dispensing wheel has a plurality of teeth separated by large gaps . they use horizontal agitators , which have sharp prongs that physically alter the curds by knitting them together and then grinding them up . as best seen in fig . it is suitable for salting any type of food product , including these and other types of cheeses . 11 , various cleaning nozzles are located within the housing 12 . finally , this salting process also is labor-intensive , and inconsistent salt concentrations result because the quantity of cheese delivered from the vat to the curd table may vary from batch to batch . in the preferred embodiment , each salt tube apparatus 22 is identical to each other and to presalt tube apparatus 20 . furthermore , the agitator assemblies are complex and require significant maintenance . it is contemplated that other agitator configurations also may be suitable to practice the present invention , so long as the agitators stir the curds without physically damaging them . accordingly , reference may be made herein simply to a tube apparatus 20,22 . by increasing the spacing between vertical agitators 36 as the curds and whey proceed through the device 10 , fewer vertical agitators 36 are required by the device 10 , thereby reducing manufacturing and maintenance costs . the quantity sensor 168 determines the quantity of the food on the conveyor belt 50 to be salted and is operably connected to the drive means 144 , thereby ensuring that the amount of salt dispensed into the tube apparatus 20 , 22 is in proportion to the quantity of food being processed . salt is dispensed in proportion to the amount of food being processed , evenly distributed by staggered stationary salt nozzles over the food being processed , and mixed into the food by the agitators . a chamber member is positioned under the salt hopper , and an air inlet is attached to the side of the chamber member . although a venturi pickup tee 130 is used in the preferred embodiment of the invention , it is contemplated that other means for connecting the salt supply to the airstream also would be suitable . the quantity sensor may measure the quantity of curds by any suitable means , including by measuring either the depth or mass of curds on the belt . more important for cheese processing purposes is that the booms apply more salt to the food at each end of the oscillation cycle , and thus do not apply salt to the curds in a uniform manner . in a preferred embodiment , some take the form of spray balls , which are particularly suited to cleaning the inside of the housing , while others take the form of spray bars , which are particularly suited for cleaning the conveyor belts . spray bars 172 are located along the length of the device 10 on the inside of the belts 48 , 50 . nevertheless , it is contemplated that the invention may be practiced by arranging the tube apparatuses 22 in any suitable manner . first , making stirred curd cheeses on a curd table is a labor-intensive process . the forward prongs 44 scoop the curds , while the rearward prongs 46 are dragged through and stir the curds . in the preferred embodiment , each agitator has an axis of rotation that is generally perpendicular to the upper surface of the material being processed . a curd wash curtain 78 contains the liquid used in the curd wash. vents 80 are located at the second end of the first conveyor belt 48 , midway along the top of the device 10 . in the most preferred embodiment , the supply is a salt container 138 that is a generally rectangular solid directly coupled to the salt hoppers beneath it . this airstream enters the chamber member 148 through makeup inlet 150 after being passed through makeup inlet filter 158 after passing through the second end opening 134 of the venturi pickup tee 130 , the salt is conveyed into the hollow tubes 160 of the tube apparatus 20 , 22 . additional whey and the curd wash liquid , in addition to whey extruded from the curds when the presalt causes the curds to contract , runs onto the fourth ramp 98 and is collected at the main sweet whey outlet 100 . this initial salting , also called a & # 34 ; presalt , & # 34 ; is applied while the temperature of the curds is high to encourage the formation of films , which help keep the curds from knitting together . the top end of the tube apparatus 20 , 22 is connected to the second end opening 134 of the venturi pickup tee 130 . each distribution end 164 terminates in a duckbill-shaped portion 166 , thereby spreading the salt over a wide area . the operation of the device 10 now will be described . 8 , an inlet filter 116 is connected to a pump 118 by a first connecting tube 120 . furthermore , although inlet filter 116 and high-efficiency filter 124 are desirable and are used in the preferred embodiment of the present invention , the use of such filters is not necessary to practice the invention . the device comprises a horizontal conveyor belt over which is mounted a plurality of generally vertical agitators , thus permitting uniform mixing of the food with minimum physical damage to the food . because the salt is distributed by hand , uniform salt dispersion is inherently difficult ; and because it takes several minutes to distribute salt over the curds , curds that are salted first are salted at an earlier stage of acid development than are those that are salted later . in a most preferred embodiment , each tube apparatus 20 , 22 has a branch 162 that yields two hollow tubes 160 , each of which again has a branch 162 that yields two more hollow tubes 160 , thereby making a total of four distribution ends 164 for each tube apparatus 20 , 22 . in the preferred embodiment , where a plurality of salt hoppers 136 and thus a plurality of chamber members 148 are used , the makeup inlet 150 takes the form of a tube that connects each of the chamber members 148 . a mixture of curds and whey from the manufacturing vats enters the invention through the curd and whey inlet , and is deflected by the inlet deflector plate and deposited onto a draining screen . for example , it may be desirable in certain applications to have a plurality of salt hoppers for each tube apparatus , and it may be desirable in other applications to have a plurality of tube ape ratuses for each salt hopper . vertical agitators 36 continue to stir the curds as they travel along the second conveyor belt 50 . as the dispensing wheel 152 is turned by the drive means 144 , the salt is moved from above to below the dispensing wheel 152 , where it then leaves the chamber member 148 and enters the middle end opening 132 of the venturi pickup tee 130 . next to the belt is a catwalk 112 . a supply of salt is provided to the salt hopper . forward prongs 44 scoop while stirring , thereby avoiding physical damage to the curds and ensuring that the curds are processed into a uniform size . a further object of the present invention is to provide a salting apparatus that evenly distributes salt over the food being processed , and that applies an amount of salt that is in proportion to the quantity of food being salted . the curds and remaining whey travel along the first conveyor belt 48 , where they are subject to a curd wash from the curd wash headers 76 and a the presalt from presalt tube apparatus 20 . salt is dispensed into the tube apparatuses by a salt dispenser . the rearward prongs also may have any suitably shaped cross-section , but a circular cross-section is preferred . after mixing and processing the curds , the agitator attachments are removed and replaced with attachments that scoop the product from the table . the connecting tubes 120 , 122 , 126 also may be eliminated by connecting the components directly to one another or by other means without affecting the practice of the invention . at the same time , pump 118 pulls air through inlet filter 116 , and then forces the air through the high-efficiency filter 124 . in the preferred embodiment , each vertical agitator comprises a horizontal member that is held in place above the curds by a fixed axis vertical support member attached to drive means . the sideboards 52 are made of plastic or other easily cleaned , corrosion-resistant material . any suitable drive means may be used for the agitators . in the event the curds begin accumulating in the auger trough 70 , when they reach the height of the photoeye 68 , the photoeye 68 will detect the accumulation and stop the device 10 . in the preferred embodiment , the rearward prongs are closer to the agitator & # 39 ; s axis of rotation than are the forward prongs . salt tube apparatuses 22 are connected to the top of the housing 12 toward the downstream end of the device 10 , thus allowing the product to be salted toward the downstream end of the processing . in the preferred embodiment , the draining screen is a wedge wire draining screen . the conveyor belt allows whey to drain from the curds without producing cheese fines . the first ramp 88 and the second ramp 90 slope toward a salty whey outlet 92 , where whey is collected from the curds after they have been salted . although the description of the preferred embodiment has been presented , it is contemplated that various changes may be made without deviating from the spirit of the present invention . a temperature sensor 16 is mounted at the end of first conveyor belt 48 and operably connected to means for forcing cool air through the ventilation ductwork 18 , thereby automatically ensuring that the curds are processed at the proper temperature . vertical agitators 36 , as well as the motor and primary gear reduction box 102 and final gear reduction boxes 40 that drive them , have been removed for clarity . the invention comprises an elongated housing . this temperature sensor may be located anywhere , but preferably is located midway along the length of the housing . 8 is a elevational side view of the salt dispenser . brief description of the drawings fig . the quantity sensor is operably connected to the drive means and varies the rate at which the wheel turns , thereby controlling the amount of salt dispensed to ensure that the proper proportion of salt is applied to the food being processed . the curd outlet auger drive 108 removes processed curds from the device 10 . a salt hopper 136 receives a supply of salt . any number of agitators also may be used across the width of the belt . in the preferred embodiment , however , each agitators has an axis of rotation that is oriented generally vertically with respect to the plane of the upper surface of the material being processed , and most preferably the axis of rotation is perpendicular to the upper surface of the material being processed . any number of conveyor belts may be used with the present invention . detailed description of the preferred embodiments fig . 9 is a sectional front view of the salt dispenser . as the air passes through the venturi pickup tee 130 , it creates a partial vacuum in the middle end opening 132 and in the chamber member 148 . the air then enters the venturi pickup tee 130 through its first end opening 128 , and leaves through its second end opening 134 . a curd outlet auger 74 is located at the second end of the second conveyor belt 50 to aid in removing the processed curds . additional salt tube apparatuses are mounted toward the second end ( the downstream end ) of the housing to salt the curds more extensively . in the preferred embodiment , the draining screen 86 is a commercially available wedge wire dewheying screen . the forward prongs 44 are blunt . if the supply is in the form of a salt container 138 , a probe assembly 140 may be mounted on the side of the salt container 138 . in a preferred embodiment , the hollow tubes 160 have branches 162 , so that the tube apparatus 20 , 22 has one hollow tube 160 at its top end , and then has branches 162 that separate the single hollow tube 160 at the top end of the tube apparatus 20 , 22 into a plurality of hollow tubes 160 at the bottom end of the tube apparatus 20 , 22 . it is contemplated that any source of suitable fluid will suffice to practice the present invention , and thus that the invention may be practiced without a pump when a fluid is used that is propelled by other forces , such as gravity or a municipal water supply . a presalt tube apparatus 20 is connected on top of the housing 12 toward the upstream end of the device 10 to allow salt to be applied to the curds at the beginning of the processing . 3 , it can be seen that each pair of vertical agitators 36 is driven by a single motor and primary gear reduction box 102 . the salting belt drive 104 drives the second conveyor belt 50 , while the stirred curd belt drive 106 drives the first conveyor belt 48 . curd tables have vertical agitators mounted on an assembly above the table . in addition , the sequential nature of cheese curd processing on a curd table makes it difficult to obtain uniform salt concentrations and consistent levels of acid development . a moisture sensor 34 is mounted on top of the device 10 . 1 is a perspective view of the present invention . the tip of the forward prong is rounded so as not to damage the curds . 11 depicts a cross-sectional view of the device 10 . 2 , each vertical agitator 36 is connected by a vertical shaft 38 to a final gear reduction box 40 . a curd and whey inlet 14 is attached to the front of the housing 12 to allow curds and whey to be dispensed into the device 10 . the device 10 consists of an elongated housing 12 . 10 is a front elevational view of a curd sensor and of a tube apparatus mounted across the width of a conveyor belt . a curd and whey inlet is positioned at the first end ( the upstream end ) of the housing , and an inlet deflector plate is positioned next to the curd and whey inlet . a moisture sensor 34 is positioned toward the second end of the second conveyor belt 50 . the second belt scraper 66 ensures that the processed curds are removed from the second conveyor belt 50 . although systems with horizontal agitators are suitable for some types of cheeses , they are not suitable for processing stirred curd cheeses because they physically damage the cheese curds and can not produce uniform sized cheese curds . drive means are attached to the dispensing wheel . the dispensing wheel has a plurality of openings . neither the curd tables nor the conveyor belt systems provides a mechanism for monitoring the moisture level of the cheese curds . 4 that the paired horizontal shafts 42 are 90° out of phase , in that , when the horizontal shaft 42 of one vertical agitator 36 is parallel to the cross-section of the device 10 , the horizontal shaft 42 of the other vertical agitator 36 is perpendicular to the cross-section of the device 10 . in the preferred embodiment , more than one grouping of prongs will be operably connected to the agitator & # 39 ; s axis of rotation , and each grouping will comprise one forward prong and more than one rearward prong . a mixture of curds and whey is pumped from a processing vat through the curd and whey inlet 14 into the food processing device 10 . drive means 144 also are attached to the side of the salt hopper 136 . the bearings used with horizontal agitators are subject to large loads , and when the bearings wear out and begin to leak . prescribes the ranges for each type of cheese . curd wash headers 76 are located at the first end of the first conveyor belt 48 . a temperature sensor 16 is mounted midway along the housing 12 and is operably connected to ventilation ductwork 18 , thereby controlling the amount of cool air that circulates into the device 10 to control the temperature of the curds . a first belt scraper 64 ensures that all curds and whey are removed from the first conveyor belt 48 and deposited on the second conveyor belt 50 . they thus need more agitation toward the upstream end of the device , and less agitation toward the downstream end of the device . the moisture sensor 34 detects the moisture content of the curds near the end of the processing in the device 10 . it further would be desirable if the food processing device had a mechanized salting apparatus that did not have moving parts , but that did spread the salt evenly over the food being processed and in proportion to the amount of food being processed . whey that is drained from the curds toward the first end of the second conveyor belt 50 runs onto the third ramp 94 and is collected at the secondary sweet whey outlet 97 . the salt dispenser comprises a chamber member and other components described herein . various cleaning nozzles are located along the length of the belt . the cheese moisture level is greatly affected by salt content and distribution . such agitators could be mounted either to the sides or top of the food processing device . a first ramp 88 and a second ramp 90 are located under that portion of the second conveyor belt 50 that is under the salt tube apparatuses 22 . it may be desirable in some applications , however , to alternate or otherwise arrange the forward and rearward prongs from the agitator & # 39 ; s axis of rotation outward to the edge of the agitator & # 39 ; s reach . each generally vertical agitator may have any suitable attachments that stir the curds without physically damaging them . a quantity sensor 168 is mounted above the curds to detect the quantity of the curds passing beneath the salt tube apparatuses 22 . horizontal agitator systems also have sanitation problems . the pump will take the form of an air blower , and the fluid that enters the chamber members through the makeup inlets is air . a presalt tube apparatus is positioned near the entrance of the device to apply an initial salting to the curds . inclined surfaces are positioned under the conveyor belt to drain whey toward collecting receptacles . there is an unmet need for a food processing device that allows processing of large quantities of stirred curd cheeses while maintaining the physical consistency and integrity of the curds , and at the same time solves the timing problems associated with curd tables and reduces the amount of labor required to process the cheese curds . each branch 162 diverges at the same angle from the hollow tube 160 , thereby ensuring that the salt is evenly dispensed at the branch 162 . 1 depicts a food processing device 10 constructed in accordance with the present invention . a first belt scraper 64 is positioned at the second end ( the downstream end ) of first conveyor belt 48 , and a second belt scraper 66 is positioned at the second end of second conveyor belt 50 . to make matters worse , because the assembly is not able to remove curds from the corners and edges of the curd table , after the assembly has been used to remove most of the curds the cheesemaker manually must remove the product that remains in the corners and edges of the curd table . the result of these difficulties is that the acid development and moisture content of the curds are not uniform . these salting problems are exacerbated by the use of the horizontal agitators with conveyor belts . for example , it may be desirable to position the agitators so that they agitate an area that overlaps the area agitated by adjacent upstream or downstream agitators . to ensure that the salt flows freely from the salt hopper into the chamber member , the salt hopper has steep sides and a bin vibrator is attached to the sides of the salt hopper . the inlet deflector plate 82 may be adjusted so that its distance from the curd and whey inlet 14 is directly proportional to the rate at which the curds and whey are being introduced into the device 10 . summary of the invention the present invention is directed to a food processing device . it can be seen that each of the two vertical agitators 36 that are rotated by the same motor and primary gear reduction box 102 rotate in opposite directions , and each overlaps the area swept by the other . the forward and rearward prongs may be arranged in any manner and number . the first end of the inlet deflector plate 82 is pivotally mounted on top of the curd and whey inlet 14 . the present application is a division of u.s. ser . the processed curds may be removed from the device 10 through the curd outlet 72 with the aid of the curd outlet auger 74 . the conveyor belts 48 , 50 may be operated at speeds from approximately 0.333 feet per minute ( fpm ) to approximately 2 fpm , with a preferred rate of speed of approximately 1 fpm . each tube apparatus consists of hollow tubes connected to a second end opening of the venturi pickup tee . the pump 118 is connected by a second connecting tube 122 to a high-efficiency filter 124 , which is connected by a third connecting tube 126 to the first end opening 128 of a venturi pickup tee 130 . any agitator with a generally vertical axis of rotation is suitable to practice the invention , regardless of the agitator & # 39 ; s configuration and regardless of whether it has a vertical member . a makeup inlet 150 is attached to the side of the chamber member 148 . there also are disadvantages to the oscillating boom salting apparatuses currently used with conveyor belt systems . 6 also depicts the interaction between the two vertical agitators 36 . this partial vacuum sucks the salt into the middle end opening 132 of the venturi pickup tee 130 , where it then is conveyed in the airstream out the second end opening 134 of the venturi pickup tee 130 . in the united states , the united states department of agriculture ( u.s.d.a . ) the salt hopper 136 has steeply sloped sides to ensure the salt flows freely . the venturi pickup tee creates a partial vacuum in the lower portion of the chamber member , thereby pulling the salt from the lower portion of the chamber member into the airstream . located below the inlet deflector plate 82 is a draining screen 86 . the salt is carried into the chamber member in air that enters the system through the makeup inlets on the chambers . each agitator may rotate in either the same or in the opposite direction from that of the agitators adjacent to it across the width of the belt and along the length of the belt . it is contemplated that many types of agitators would work with the present invention . horizontal agitator systems also have several inherent processing disadvantages . the middle end opening of a venturi pickup tee is connected to the lower end of the chamber member . the salt fills the gaps 156 between the teeth 154 of the dispensing wheel 152 . the bottom of the chamber member is connected to the middle end opening 132 of the venturi pickup tee 130 . because the moisture levels in fully processed cheese can not be adjusted , if the moisture levels fall outside prescribed parameters , the entire previous day & # 39 ; s production of cheese must be disposed of at less than fair market value for that type of cheese . the moisture levels therefore can not be measured until the next day . the quantity sensor 168 measures the quantity of food being processed on the belt and sends a signal to the drive means 144 , thus operating the drive means 144 faster as the quantity of food being processed on the conveyor belt 50 increases . a stream of air is provided to convey the salt from the bottom of the chamber member 148 into the middle end opening 132 of the venturi pickup tee 130 . mounted on top of the housing 12 is the ventilation duct 18 . a vertically oriented dispensing wheel is located inside the chamber member . a fourth ramp 98 is positioned under the first conveyor belt 48 to collect the sweet whey drained from the curds on the first conveyor belt 48 at a main sweet whey outlet 100 . adjustments thus may be made promptly if the curd moisture levels are not within the proper tolerances . 3 is a top view with some internal components shown in phantom . the draining screen 86 drains a substantial portion of the whey from the curd and whey mixture . the probe assembly 140 has an element that detects when the salt level in the hopper has fallen too low . each motor and primary gear reduction box 102 is operably connected to two final gear reduction boxes 40 , one above each of two vertical agitators 36 . the probe assembly 140 also may have a second element that detects when the level of salt in the salt container 138 is at a maximum level . the drive means preferably is a motor with a direct current proportioner . a horizontal shaft 42 is attached to the bottom end of the vertical shaft 38 , and forward prongs 44 and rearward prongs 46 are attached to the horizontal shaft . the dispensing wheel 152 has a plurality of large teeth 154 , with large gaps 156 between the teeth 154 . the distance between the curd and whey inlet and the inlet deflector plate may be adjusted so as to be proportioned to the rate at which the curds and whey flow through the curd and whey inlet . the inlet deflector plate 82 spreads the curd and whey mixture so that it is distributed evenly onto the draining screen 86 . the prongs revolve about the agitator & # 39 ; s generally vertical axis of rotation . the belt systems that currently are in use were developed approximately fifteen years ago . whey that is separated from the curds after the curds pass the peak 96 runs onto the first ramp 88 and the second ramp 90 and is collected at the salty whey outlet 92 . 7 is a elevational side view of the salt dispenser and a front elevational view of a tube apparatus . the vertical agitators 36 may be operated from approximately 7.5 rotations per minute ( rpm ) to approximately 30 rpm , with a preferred rate of 15 rpm . the first belt scraper 64 and second belt scraper 66 ensure that the food is removed completely from the first conveyor belt 48 and the second conveyor belt 50 . they are curved toward and located just above first conveyor belt 48 ( the stirring belt ) and second conveyor belt 50 ( the salting belt ) . sweet whey that falls on the third ramp 94 runs in the opposite direction from the salty whey collected on the second ramp 90 , and is collected at a secondary sweet whey outlet 97 . the venturi pickup tee 130 also has a middle end opening 132 and a second end opening 134 . 2 is a side elevational view with parts cut away to show the interior of the food processing device . a primary object of the present invention is to provide a machine for processing a stirred curd cheese that is closed to the atmosphere and that easily may be cleaned . the moisture sensing device informs the cheesemaker whether the curds & # 39 ; moisture levels are within proper parameters . the tube apparatus & # 39 ; s distribution ends are spaced over the food to be salted in a manner that ensures that the salt is applied uniformly to the food . a platform 146 is located adjacent to the salt hopper 136 to provide access to the salt hopper 136 . in addition , any desired ratio of drive means to agitators may be used ; the ratio may vary anywhere from having all agitators driven by a single drive means to having each agitator driven by its own dedicated drive means . the inclined surfaces are positioned independently so that whey drained from nonsalted and presalted curds is collected separately from whey drained from the curds after they have received their more extensive salting later in the processing . still another object of the present invention is to provide a salting apparatus that has only minimal moving parts . spray balls 170 are mounted from the top of the housing 12 along the length of the device 10 in order to clean the inside of the device 10 . technical field the present invention relates generally to the field of food processing equipment . access ports 28 allow manual access to the inside of the device 10 . drive means 144 are operably connected to a dispensing wheel 152 located and vertically oriented within the chamber member 148 . the configuration of the forward prongs 44 and rearward prongs 46 on the horizontal shaft 42 most clearly can be seen in fig . a spray ball 170 and a spray bar 172 are depicted in fig . the whey runs onto the fourth ramp 98 and is collected at the main sweet whey outlet 100 . a suitable wedge wire draining screen may be purchased from johnson filtration systems of st. paul . the second ramp 90 meets a third ramp 94 at a peak 96 . the second end of the inlet deflector plate 82 is held in place by an inlet deflector plate arm 84 . a suitable dimension for the cross-section of this forward prong is roughly two inches by one-half inch . the housing 12 has reinforcing ribs 30 and support legs with adjustable feet 32 . significant maintenance is required to detect and correct leakage problems as soon as they occur . air that enters the makeup inlet 150 first must pass through a makeup inlet filter 158 . inspection ports 24 and lights 26 mounted above sightglasses ( not shown ) allow the user to view the processing taking place inside the device 10 . a pump attached to a first end opening of the venturi pickup tee pushes air that has passed through a high-efficiency filter into the venturi pickup tee . 11 is a fragmentary sectional view taken along line 11 -- 11 in fig . 4 is a fragmentary sectional view taken along line 4 -- 4 in fig . 6 is a fragmentary sectional view taken along line 6 -- 6 in fig . cheesemakers have strong financial incentives to ensure that these cheeses are made up of uniform sized curds and have moisture levels that fall within specific ranges prescribed by government and industry bodies . 5 is a fragmentary sectional view taken along line 5 -- 5 in fig . the position of the inlet deflector plate 82 is maintained by the inlet deflector plate arm 84 . a sealed lip 110 is placed on each vertical shaft to prevent lubricating fluids from entering the housing 12 from the final gear reduction box 40 . as used herein , & # 34 ; revolve & # 34 ; means either & # 34 ; rotate & # 34 ; or & # 34 ; revolve. & # 34 ; the forward prongs curve as they approach the belt so that the bottom end of each forward prong points in the direction that the prong is travelling , thus enabling the prong to scoop curds from the belt surface without physically damaging them . each final gear reduction box 40 drives a single vertical agitator 36 and is suited to withstand lateral stresses imposed by the vertical agitator 36 . bacteria are added to obtain the proper acid levels in the cheese ; the acid develops at a rate that is a function of the amount of bacteria added and the time the bacteria are allowed to work .\n",
      "------------------------------------------------------------\n",
      "A device for processing food products, such as cheeses. The device includes a plurality of conveyor belts. A plurality of vertical agitators are positioned above the conveyor belt, along the length of the belt, to agitate the curds.\n"
     ]
    }
   ],
   "source": [
    "input_ids = tokenizer(sample[\"description\"], return_tensors=\"pt\", truncation=True).input_ids.to(\"mps\")\n",
    "# with torch.inference_mode():\n",
    "outputs = model.generate(input_ids=input_ids, max_new_tokens=512, do_sample=True, top_p=0.9)\n",
    "print(f\"input sentence: {sample['description']}\\n{'---'* 20}\")\n",
    "\n",
    "print(tokenizer.batch_decode(outputs.detach().cpu().numpy(), skip_special_tokens=True)[0])"
   ]
  },
  {
   "cell_type": "code",
   "execution_count": 8,
   "metadata": {},
   "outputs": [
    {
     "data": {
      "text/plain": [
       "tensor([[    2,     0,   250,  2187,    13,  5774,   689,   785,     6,   215,\n",
       "            25, 21629,   293,     4,    20,  2187,  1171,    10, 43285,     9,\n",
       "         15451,   368, 20252,     4,    83, 43285,     9, 12194,  5951,   405,\n",
       "          3629,    32, 11375,  1065,     5, 15451,   368,  7494,     6,   552,\n",
       "             5,  5933,     9,     5,  7494,     6,     7,  5951, 12624,     5,\n",
       "          5350, 11622,     4,     2]], device='mps:0')"
      ]
     },
     "execution_count": 8,
     "metadata": {},
     "output_type": "execute_result"
    }
   ],
   "source": [
    "outputs"
   ]
  },
  {
   "cell_type": "code",
   "execution_count": 9,
   "metadata": {},
   "outputs": [
    {
     "name": "stderr",
     "output_type": "stream",
     "text": [
      "huggingface/tokenizers: The current process just got forked, after parallelism has already been used. Disabling parallelism to avoid deadlocks...\n",
      "To disable this warning, you can either:\n",
      "\t- Avoid using `tokenizers` before the fork if possible\n",
      "\t- Explicitly set the environment variable TOKENIZERS_PARALLELISM=(true | false)\n"
     ]
    }
   ],
   "source": [
    "import evaluate\n",
    "import numpy as np\n",
    "from datasets import load_from_disk\n",
    "from tqdm import tqdm\n",
    "\n",
    "# Metric\n",
    "metric = evaluate.load(\"rouge\")\n",
    "\n",
    "def evaluate_peft_model(sample,max_target_length=512):\n",
    "    # generate summary\n",
    "    outputs = model.generate(input_ids=sample[\"input_ids\"].unsqueeze(0).to(\"mps\"), do_sample=True, top_p=0.9, max_new_tokens=max_target_length)\n",
    "    prediction = tokenizer.decode(outputs[0].detach().cpu().numpy(), skip_special_tokens=True)\n",
    "    # decode eval sample\n",
    "    # Replace -100 in the labels as we can't decode them.\n",
    "    labels = np.where(sample['labels'] != -100, sample['labels'], tokenizer.pad_token_id)\n",
    "    labels = tokenizer.decode(labels, skip_special_tokens=True)\n",
    "\n",
    "    # Some simple post-processing\n",
    "    return prediction, labels"
   ]
  },
  {
   "cell_type": "code",
   "execution_count": 10,
   "metadata": {},
   "outputs": [
    {
     "name": "stderr",
     "output_type": "stream",
     "text": [
      "100%|██████████| 2259/2259 [5:01:29<00:00,  8.01s/it]  \n"
     ]
    },
    {
     "name": "stdout",
     "output_type": "stream",
     "text": [
      "Rogue1: 46.324662%\n",
      "rouge2: 21.349415%\n",
      "rougeL: 31.337844%\n",
      "rougeLsum: 31.415142%\n"
     ]
    }
   ],
   "source": [
    "# load test dataset from distk\n",
    "test_dataset = load_from_disk(\"./tokenized_data_Aug_S2_EXT4_M2L/test\").with_format(\"torch\")\n",
    "\n",
    "# run predictions\n",
    "# this can take ~45 minutes\n",
    "predictions, references = [] , []\n",
    "for sample in tqdm(test_dataset):\n",
    "    p,l = evaluate_peft_model(sample)\n",
    "    predictions.append(p)\n",
    "    references.append(l)\n",
    "\n",
    "# compute metric\n",
    "rogue = metric.compute(predictions=predictions, references=references, use_stemmer=True)\n",
    "\n",
    "# print results\n",
    "print(f\"Rogue1: {rogue['rouge1']* 100:2f}%\")\n",
    "print(f\"rouge2: {rogue['rouge2']* 100:2f}%\")\n",
    "print(f\"rougeL: {rogue['rougeL']* 100:2f}%\")\n",
    "print(f\"rougeLsum: {rogue['rougeLsum']* 100:2f}%\")\n",
    "\n",
    "# Rogue1: 50.386161%\n",
    "# rouge2: 24.842412%\n",
    "# rougeL: 41.370130%\n",
    "# rougeLsum: 41.394230%"
   ]
  },
  {
   "cell_type": "code",
   "execution_count": 11,
   "metadata": {},
   "outputs": [],
   "source": [
    "# Extracting Rouge scores\n",
    "rouge1_score = rogue['rouge1'] * 100\n",
    "rouge2_score = rogue['rouge2'] * 100\n",
    "rougeL_score = rogue['rougeL'] * 100\n",
    "rougeLsum_score = rogue['rougeLsum'] * 100\n",
    "\n",
    "# Plotting the Rouge scores\n",
    "labels = ['Rouge-1', 'Rouge-2', 'Rouge-L', 'Rouge-Lsum']\n",
    "scores = [rouge1_score, rouge2_score, rougeL_score, rougeLsum_score]"
   ]
  },
  {
   "cell_type": "code",
   "execution_count": 12,
   "metadata": {},
   "outputs": [
    {
     "data": {
      "text/plain": [
       "(0.0, 100.0)"
      ]
     },
     "execution_count": 12,
     "metadata": {},
     "output_type": "execute_result"
    },
    {
     "data": {
      "image/png": "[encoded data removed]",
      "text/plain": [
       "<Figure size 1000x600 with 1 Axes>"
      ]
     },
     "metadata": {},
     "output_type": "display_data"
    }
   ],
   "source": [
    "import matplotlib.pyplot as plt\n",
    "\n",
    "plt.figure(figsize=(10, 6))\n",
    "plt.bar(labels, scores, color=['blue', 'green', 'orange', 'red'])\n",
    "plt.ylabel('Rouge Score (%)')\n",
    "plt.title('Rouge Scores for Bart model with LoRA (Split 2)')\n",
    "plt.ylim(0, 100)"
   ]
  },
  {
   "cell_type": "code",
   "execution_count": 13,
   "metadata": {},
   "outputs": [],
   "source": [
    "from evaluate import load\n",
    "bertscore = load(\"bertscore\")"
   ]
  },
  {
   "cell_type": "code",
   "execution_count": 14,
   "metadata": {},
   "outputs": [
    {
     "name": "stderr",
     "output_type": "stream",
     "text": [
      "Some weights of RobertaModel were not initialized from the model checkpoint at roberta-large and are newly initialized: ['roberta.pooler.dense.bias', 'roberta.pooler.dense.weight']\n",
      "You should probably TRAIN this model on a down-stream task to be able to use it for predictions and inference.\n"
     ]
    }
   ],
   "source": [
    "results = bertscore.compute(predictions=predictions, references=references, lang=\"en\")"
   ]
  },
  {
   "cell_type": "code",
   "execution_count": 15,
   "metadata": {},
   "outputs": [],
   "source": [
    "#results['precision']\n",
    "average_precision = sum(results['precision']) / len(results['precision'])\n",
    "average_recall = sum(results['recall']) / len(results['recall'])\n",
    "average_f1 = sum(results['f1']) / len(results['f1'])\n"
   ]
  },
  {
   "cell_type": "code",
   "execution_count": 16,
   "metadata": {},
   "outputs": [
    {
     "name": "stdout",
     "output_type": "stream",
     "text": [
      "Precision: 0.8724395584722386\n",
      "Recall: 0.8669176560790732\n",
      "F1: 0.8694064154620718\n"
     ]
    }
   ],
   "source": [
    "print(f\"Precision: {average_precision}\")\n",
    "print(f\"Recall: {average_recall}\")\n",
    "print(f\"F1: {average_f1}\")"
   ]
  },
  {
   "cell_type": "code",
   "execution_count": 17,
   "metadata": {},
   "outputs": [
    {
     "name": "stderr",
     "output_type": "stream",
     "text": [
      "[nltk_data] Downloading package wordnet to\n",
      "[nltk_data]     /Users/nevidujayatilleke/nltk_data...\n",
      "[nltk_data]   Package wordnet is already up-to-date!\n",
      "[nltk_data] Downloading package punkt to\n",
      "[nltk_data]     /Users/nevidujayatilleke/nltk_data...\n",
      "[nltk_data]   Package punkt is already up-to-date!\n",
      "[nltk_data] Downloading package omw-1.4 to\n",
      "[nltk_data]     /Users/nevidujayatilleke/nltk_data...\n",
      "[nltk_data]   Package omw-1.4 is already up-to-date!\n"
     ]
    }
   ],
   "source": [
    "meteor = load('meteor')"
   ]
  },
  {
   "cell_type": "code",
   "execution_count": 18,
   "metadata": {},
   "outputs": [],
   "source": [
    "meteor_results = meteor.compute(predictions=predictions, references=references)"
   ]
  },
  {
   "cell_type": "code",
   "execution_count": 19,
   "metadata": {},
   "outputs": [
    {
     "data": {
      "text/plain": [
       "0.30467847402555975"
      ]
     },
     "execution_count": 19,
     "metadata": {},
     "output_type": "execute_result"
    }
   ],
   "source": [
    "meteor_results['meteor']"
   ]
  }
 ],
 "metadata": {
  "kernelspec": {
   "display_name": ".venv",
   "language": "python",
   "name": "python3"
  },
  "language_info": {
   "codemirror_mode": {
    "name": "ipython",
    "version": 3
   },
   "file_extension": ".py",
   "mimetype": "text/x-python",
   "name": "python",
   "nbconvert_exporter": "python",
   "pygments_lexer": "ipython3",
   "version": "3.9.6"
  }
 },
 "nbformat": 4,
 "nbformat_minor": 2
}
