{
 "cells": [
  {
   "cell_type": "code",
   "execution_count": 1,
   "metadata": {},
   "outputs": [
    {
     "name": "stderr",
     "output_type": "stream",
     "text": [
      "/Users/nevidujayatilleke/Documents/FYP-Abstractive Text Summarization/.venv/lib/python3.9/site-packages/urllib3/__init__.py:35: NotOpenSSLWarning: urllib3 v2 only supports OpenSSL 1.1.1+, currently the 'ssl' module is compiled with 'LibreSSL 2.8.3'. See: https://github.com/urllib3/urllib3/issues/3020\n",
      "  warnings.warn(\n",
      "/Users/nevidujayatilleke/Documents/FYP-Abstractive Text Summarization/.venv/lib/python3.9/site-packages/tqdm/auto.py:21: TqdmWarning: IProgress not found. Please update jupyter and ipywidgets. See https://ipywidgets.readthedocs.io/en/stable/user_install.html\n",
      "  from .autonotebook import tqdm as notebook_tqdm\n"
     ]
    }
   ],
   "source": [
    "import torch\n",
    "from peft import PeftModel, PeftConfig\n",
    "from transformers import AutoModelForSeq2SeqLM, AutoTokenizer"
   ]
  },
  {
   "cell_type": "code",
   "execution_count": 2,
   "metadata": {},
   "outputs": [],
   "source": [
    "#pip install --upgrade peft"
   ]
  },
  {
   "cell_type": "code",
   "execution_count": 3,
   "metadata": {},
   "outputs": [],
   "source": [
    "# pip install bert-score"
   ]
  },
  {
   "cell_type": "code",
   "execution_count": 4,
   "metadata": {},
   "outputs": [],
   "source": [
    "#pip install sentencepiece"
   ]
  },
  {
   "cell_type": "code",
   "execution_count": 5,
   "metadata": {},
   "outputs": [
    {
     "name": "stderr",
     "output_type": "stream",
     "text": [
      "/Users/nevidujayatilleke/Documents/FYP-Abstractive Text Summarization/.venv/lib/python3.9/site-packages/bitsandbytes/cextension.py:34: UserWarning: The installed version of bitsandbytes was compiled without GPU support. 8-bit optimizers, 8-bit multiplication, and GPU quantization are unavailable.\n",
      "  warn(\"The installed version of bitsandbytes was compiled without GPU support. \"\n"
     ]
    },
    {
     "name": "stdout",
     "output_type": "stream",
     "text": [
      "'NoneType' object has no attribute 'cadam32bit_grad_fp32'\n",
      "Peft model loaded\n"
     ]
    }
   ],
   "source": [
    "# Load peft config for pre-trained checkpoint etc.\n",
    "#peft_model_id = \"results\"\n",
    "config = PeftConfig.from_pretrained(\"M2L_LR_S2_EXT4_EXP16_model\")\n",
    "\n",
    "# load base LLM model and tokenizer\n",
    "model = AutoModelForSeq2SeqLM.from_pretrained(config.base_model_name_or_path)\n",
    "tokenizer = AutoTokenizer.from_pretrained(config.base_model_name_or_path)\n",
    "\n",
    "# Load the Lora model\n",
    "model = PeftModel.from_pretrained(model, \"M2L_LR_S2_EXT4_EXP16_model\", use_dora = False, device_map='mps:0').to(\"mps\")\n",
    "model.eval()\n",
    "\n",
    "print(\"Peft model loaded\")"
   ]
  },
  {
   "cell_type": "code",
   "execution_count": 6,
   "metadata": {},
   "outputs": [],
   "source": [
    "from datasets import load_from_disk, DatasetDict\n",
    "from random import randrange\n",
    "\n",
    "\n",
    "# Load dataset from the hub and get a sample\n",
    "#dataset = load_from_disk('../../Data/Textile_Patent_(70-20-10)_LexRank')\n",
    "dataset = DatasetDict({\n",
    "    'train': load_from_disk('../../Data/Textile_Patent_(70-20-10)_Aug_LexRank_thres_3/train'),\n",
    "    'validation': load_from_disk('../../Data/Textile_Patent_(70-20-10)_Aug_LexRank_thres_3/validation'),\n",
    "    'test': load_from_disk('../../Data/Textile_Patent_(70-20-10)_Aug_LexRank_thres_3/test')\n",
    "})\n",
    "sample = dataset['test'][randrange(len(dataset[\"test\"])-300)]\n"
   ]
  },
  {
   "cell_type": "code",
   "execution_count": 7,
   "metadata": {},
   "outputs": [
    {
     "name": "stdout",
     "output_type": "stream",
     "text": [
      "input sentence: the system includes an apparatus for combining aggregate material , for example , chat or tailings , with water to form an emulsion , and a pump . in an apparatus for combining aggregate material , for example , chat or tailings , with water , an emulsion is formed . [ 0032 ] while the system 20 has been shown and described for chat or tailings , for example , from zinc or lead , this is exemplary only . no . the mine casing 65 b , is , for example , typically common to the underground cavern ( s ) 64 . [ 0020 ] the system 20 includes an aggregate bin 30 , or other storage container , with scalper bars 32 , for the removal of large pieces , such a boulders , roots , and the like from the chat and tailings piles . 2a , shown in an exemplary operation ; and , [ 0018 ] fig . [ 0011 ] the disclosed methods and systems employ separators , to render the chat and tailings , such that they can be blended into a homogeneous material , such as an emulsion , that is pumped under pressure , back into the underground caverns for safe disposal and storage . [ 0021 ] the first conveyer 40 , is , for example , a standard conveyer belt system , and includes a screening unit 44 . the second pump ( p 2 ) 72 is , for example , a 12″ by 10″ sand pump , powered by a motor ( m ) 73 , that is , for example , an n-14 400 horsepower diesel engine , available from cummins engines . the water is drawn from the cavern , through a casing . the water source 62 is , typically underground ( through a layer or layers of strata 90 , hereinafter “ strata layer ” , such as dirt , rock and the like ) , and for example , in an underground cavern 64 of the former mine . the second pump 72 ( p 2 ) pumps the emulsion 80 e , for example , into the pipe 76 for delivery to the mine cavern 64 . there may be a bore hole 65 x intermediate the casing 65 b and the cavern 64 , depending on the strata , dirt , rock , etc. , for example , as shown in fig . the resultant emulsion 80 e was delivered at a relative high velocity , for example , approximately 120 tons of chat or tailings per hour , to the mine cavern 64 ( also filled with water ) , between the mine ceiling 64 a and mine floor 64 b . 3 , the action of the pump ( p 2 ) 72 is such that it forces the emulsion or slurry to move at a relative high velocity , for example , approximately 80-140 tons of chat or tailings per hour . moreover , the chat and tailings just dumped into the casing 12 in this manner , as shown in fig . the screening unit 44 is , for example , a shaker screen , for example , of an approximately half-inch size , to create material that is suitable to be flowable , for example , in an emulsion or slurry , as detailed below . the first conveyer 40 , delivers the chat or tailings 80 b , to the screening unit 44 , where it is again sorted to be of an approximately half-inch size , to create material that is suitable to be flowable . the system 20 and methods for its use can also be used with other mined aggregates , or other aggregates , such a coal , dirt ( e.g. , contaminated soil ) and the like . rather , the chat and tailings accumulated in a conical pile 15 , as shown in fig . initially , chat or tailings 80 , from chat or tailings piles are dumped into the aggregate bin 30 , by a loader 82 . the pumping is at pressures of up to 30 psi , and , for example , at pressures of at least approximately 20 psi , in order to overcome the resistance of the water in the cavern 64 ( any resistance from any ground water in the down hole 88 is negligible ) . lead , zinc , and cadmium from the chat and tailings leached into the shallow ground water , contaminating local wells , and runoff moved contaminants into nearby streams and rivers . the depth of the dirt/rock strata layer ( s ) 91 a ( d l1 ) , formed of dirt and shale , was approximately 100 to 120 feet , and the depth of the rock strata layer ( s ) 91 b ( d l2 ) , formed of solid rock , for example , bedrock , was approximately 150 to 195 feet . [ 0026 ] the chat or tailings 80 d ( also known as aggregate ) flows downward , by gravity to the gated proportioning mechanism 56 , where it enters the water line 60 ( as shown by the broken line bent arrow 84 ) . the emulsion is pumped back into the cavern below ground level , through another casing , the pumping at pressures that overcome the forces of the water in the cavern and create turbulence in the water , such that the emulsion spreads throughout the cavern , at a good angle of repose , to maximize the amount of material disposed of . 3 , the mined land had a water level , approximately 12-20 feet below the ground surface 22 . the chat or tailings 80 a passes through the scalper bars 32 , to remove large materials , such as boulders , tree roots and the like . the water line 60 originates in an irrigation or first pump ( p 1 ) 61 , that is typically submersible , as shown in a water source 62 . the spreading action , resulting from the high pumping speeds , also creates turbulence in the water of the cavern 64 , allowing for further spreading of the emulsion 80 e . the water is obtained from the water source 62 , as the pump ( p 1 ) 61 pumps the water through the water line 60 ( for example , an approximately six inch internal diameter pipe ) , that extends through the casing 65 a to the gated proportioning mechanism 56 . fig . a pipe 76 ( for example , 12 inches in internal diameter ) extends from the pump ( p 2 ) 72 , into a mine casing ( shaft ) 65 b , for example , typically to depths proximate the last solid layer of rock prior ( of the strata 90 ) to at least proximate the cavern 64 . 60/858,560 , entitled : system and method for aggregate disposal , filed nov. 13 , 2006 , the disclosure of which is incorporated by reference herein . however , the biggest problem faced was that the caverns in the mines were filled with water , that was contaminated . the complete spreading action is shown by the broken lines 92 , and is such that the emulsion 80 e is completely spread over the maximum volume of the cavern 64 , at a good angle of repose , for example , at least a 1.5:1 to 3.5:1 slope on the sides . for example , these “ chat ” and “ tailings ” piles cover over 40,000 acres in cherokee county , kansas , ottawa and craig counties in oklahoma , and jasper county , missouri , making it some of the most environmentally blighted land in the united states . additionally , the water used for the methods is the same water presently in the caverns , and therefore , avoids using and contaminating fresh water . the method includes , obtaining aggregate material , and combining the aggregate material with water to form an emulsion . 1 . for example , this allows for the land above the mines to be reclaimed . 1 ) . also , raw chat plugged the casings quickly . [ 0006 ] as a result most of the space in the caverns 14 , between the mine roof 14 a and the mine floor 14 b , was not filled ( as shown in fig . [ 0022 ] there is a second conveyer 50 , that receives material from the screening unit 44 . summary [ 0009 ] the disclosed subject matter provides systems and methods for returning the materials of chat and tailing piles back underground , and typically back to the caverns of the former mines from which the ores were removed , in a long-term , pollution free and environmentally safe manner . these systems and methods also include methods for flowing emulsified chat or tailings , such that it can be deposited into the caverns , so as to flow through the voids , maximizing the amount of material that can be deposited in the caverns . 2b . 3 . technical field [ 0002 ] the disclosed subject matter is directed to systems and methods for waste disposal , and more particularly , to systems and methods for safely disposing of chat and tailings for underground storage . there is a hopper 54 , that receives material from the second conveyer 50 . the pump ( p 2 ) 72 pulls emulsion or slurry ( chat or tailings mixed with water ) from the grated proportioning mechanism 56 and pushes it down the casing 65 b , through the pipe 76 . [ 0033 ] while preferred embodiments have been described , so as to enable one of skill in the art to practice the disclosed subject matter , the preceding description is intended to be exemplary only . 2b and 3 , an exemplary operation of the system 20 is detailed . [ 0007 ] additionally , the chat and tailings can not be put in large holes and ditches on the ground surface and buried therein , as the rock table is too close to the ground surface . simply dumping the chat and tailings 10 back down the mine casings ( shafts ) 12 into the caverns 14 , formed between the mine roof 14 a and the mine floor 14 b , that either were or over time filled with water , did not spread the chat and tailings 10 in a volume efficient manner . the casing 65 b alone , and with the bore hole 65 x , if necessary , form the down hole 88 . [ 0008 ] with additional reference to the mine cavern 14 , the total depth of the mine , from the surface 16 to the mine floor 14 b is represented by the arrows labeled d t . the pump 61 ( p 1 ) may be , for example , a 1000 gallon per minute ( gpm ) deep well irrigation 40 horsepower ( hp ) pump . the system 20 includes multiple components for processing the chat or tailings , emulsifying it , and causing it to flow in such a manner that emulsified material can fill a maximum amount of space in the underground caverns . the pump acts on the emulsion , to pump it into a cavern below ground level at pressures that overcome the forces of the water in the cavern and create turbulence in the water , such that the emulsion spreads throughout the cavern . the now sorted chat or tailings 80 c is received on a second conveyer 50 , that delivers it to the hopper 54 . as shown in fig . [ 0030 ] a casing 65 b was made ( drilled ) to accommodate a 12 inch internal diameter pipe 76 , that extended from the pump ( p 2 ) 72 , through the dirt and shale portion 91 a , as was an approximately 11 inch bore hole 65 x continuing from the dirt and shale portion 91 a through the solid rock portion 91 b to the cavern . [ 0028 ] turning also to fig . the gate 34 is opened , such that the sifted chat or tailings is received on the first conveyer 40 . this pump unit 70 includes a second pump ( p 2 ) 72 , powered by motor ( m ) 73 . the water for the water line 60 is delivered from the pump ( p 1 ) 61 , that moves the water in the direction of the thin arrows 85 . the chat was typically not screened for large particles , hindering the dumping process . accordingly , there is simply not enough over burden to facilitate such a process . 1 is a diagram of a mine cavern showing the present storage of chat or tailings ; [ 0016 ] fig . detailed description [ 0019 ] fig . [ 0023 ] a water line 60 runs under the hopper 54 at the gated proportioning mechanism 56 ( with an opening into the water line 60 whose size may be set manually ) , to receive the aggregate . in the drawings : [ 0015 ] fig . [ 0013 ] there is also disclosed a system for disposing of aggregate material . [ 0027 ] the pressure from the water ( first ) pump ( p 1 ) 61 , coupled with the suction from the second pump ( p 2 ) 72 moves the emulsion or slurry 80 e ( in the water line 60 ′ ) into the second pump ( p 2 ) 72 . the cavern 64 was full of water . [ 0025 ] turning also to figs . 1 , and eventually returned above the ground surface 16 in the form of toxic dust . example 1 [ 0029 ] a system in accordance with figs . the bin 30 also includes a gate 34 , that when released , opens the bin 30 and allows material to flow onto a first conveyer 40 . the depth through the dirt/rock strata 18 , from the surface 16 to the mine roof 14 a is represented by the arrows labeled d m , and the mine cavern height , from roof 14 a to floor 14 b is represented by the arrows labeled h m . wind also blew fine metal-bearing dust ( from chat and tailings piles and roads made of chat and tailings ) into the air , spreading the contamination to nearby non-mined areas . it should not be used to limit the scope of the disclosed subject matter , which should be determined by reference to the following claims . 2b is a diagram of the system of fig . [ 0031 ] the irrigation pump ( p 1 ) 61 pumped water at approximately 1000 gallons per minute and combined with the aggregate delivered through the hopper 54 . the depth to the mine cavern ( d m ) 64 was approximately 150 to 195 feet . 2a is a diagram of a system in accordance with the disclosed subject matter ; [ 0017 ] fig . [ 0005 ] it was attempted to dispose of the chat and tailings by depositing it back into the mines . the aggregate 80 d combines with the water in the water line 60 , as the aggregate 80 d flows into the water at speeds sufficient to create an emulsion or slurry 80 e ( the speed in which the aggregate flows to combine with the water is based on the speed of the second conveyer 50 —the speed of the conveyer 50 also influenced by the air temperature and other atmospheric conditions , and the size of the opening of the gated proportioning mechanism 56 ) . [ 0004 ] these wastes were also a source of contamination . the height of the mine cavern ( h m ) 64 was approximately 30 to 40 feet . [ 0012 ] the disclosed subject matter is directed to a method for disposing of aggregate material . the emulsion is then pumped into a cavern below ground level at pressures that overcome the forces of the water in the cavern and create turbulence in the water , such that the emulsion spreads throughout the cavern . 3 shows a land profile , representative of the mined land of the aforementioned site . [ 0024 ] the water line 60 ′ extends from the hopper 54 to a pump unit 70 . the total depth of the mine ( d t ) was approximately 180 to 235 feet . [ 0010 ] the disclosed subject matter is directed to systems and methods for disposing of aggregate material in the mine caverns from which these materials were originally obtained . brief description of the drawings [ 0014 ] attention is now directed to the drawings , where like numerals or characters indicate corresponding or like components . the second pump ( p 2 ) 72 pumped at pressures averaging at least 20 psi . this pump ( p 2 ) 72 pumps at pressures from approximately 15-30 pounds per square inch ( psi ) . the remaining material or by product of this ore separation is known as “ chat ” or “ tailings. ” while some of the chat or tailings was deposited into the mine shafts once the mines were exhausted or abandoned , most of the chat and tailings were left behind in piles of leftover rock . 3 is a diagram of a mine showing the results of the exemplary operation of fig . provisional patent application ser . 2a shows the disclosed subject matter as a system 20 both above and below the ground surface 22 . this speed of movement causes a spreading action of the emulsion 80 e as it enters the cavern 64 . the systems and methods disclosed provide for the movement of large amounts of chat and tailings in a cost effective manner . the hopper 54 includes a gated proportioning mechanism 56 . the belt of this conveyer 50 typically includes an electronic weighting system . the deposited emulsion 80 e settled at an angle of repose having a slope of approximately 3:1 . background [ 0003 ] lead and zinc production involved crushing and grinding the mined rock to standard sizes and separating the ore . cross-references to related applications [ 0001 ] this application is related to and claims priority from commonly owned u.s . the emulsion or slurry 80 e flows along a path indicated by the thick arrows 86 . the pipe 76 was extended to the rock portion 91 b of the strata layer 90 . 2a and 2b was built on 170 acres of mined land on the west edge of commerce okla .\n",
      "------------------------------------------------------------\n",
      "The disclosure relates to a method and apparatus for safely disposing of aggregates, such as chat or tailings, from a former mine. The system includes an apparatus for combining aggregate material, for example, chat, with water to form an emulsion, and a pump. The apparatus includes a first conveyer and a second pump for delivering the emulsion to the caverns of the former mine, where the water is drawn from the cavern, through a casing. The second pump is a pump, powered by a motor, that is, for instance, an N-14 400 horsepower diesel engine, available from cummins engines. The pumping is at pressures of up to 30 psi, in order to overcome the resistance of the water in the cavern.\n"
     ]
    }
   ],
   "source": [
    "input_ids = tokenizer(sample[\"description\"], return_tensors=\"pt\", truncation=True).input_ids.to(\"mps\")\n",
    "# with torch.inference_mode():\n",
    "outputs = model.generate(input_ids=input_ids, max_new_tokens=512, do_sample=True, top_p=0.9)\n",
    "print(f\"input sentence: {sample['description']}\\n{'---'* 20}\")\n",
    "\n",
    "print(tokenizer.batch_decode(outputs.detach().cpu().numpy(), skip_special_tokens=True)[0])"
   ]
  },
  {
   "cell_type": "code",
   "execution_count": 8,
   "metadata": {},
   "outputs": [
    {
     "data": {
      "text/plain": [
       "tensor([[    2,     0,   133,  6262, 16009,     7,    10,  5448,     8, 26529,\n",
       "            13,  7385, 22031,   154,     9, 26683,  1626,     6,   215,    25,\n",
       "          7359,    50,  7886,  1033,     6,    31,    10,   320,  4318,     4,\n",
       "            20,   467,  1171,    41, 26529,    13, 15224, 13884,  1468,     6,\n",
       "            13,  1246,     6,  7359,     6,    19,   514,     7,  1026,    41,\n",
       "          2841, 31254,     6,     8,    10,  9296,     4,    20, 26529,  1171,\n",
       "            10,    78, 15451,   254,     8,    10,   200,  9296,    13,  5830,\n",
       "             5,  2841, 31254,     7,     5, 37472,    29,     9,     5,   320,\n",
       "          4318,     6,   147,     5,   514,    16,  4777,    31,     5, 37472,\n",
       "             6,   149,    10, 38507,     4,    20,   200,  9296,    16,    10,\n",
       "          9296,     6,  8852,    30,    10,  4243,     6,    14,    16,     6,\n",
       "            13,  4327,     6,    41,   234,    12,  1570,  3675, 22325,  7611,\n",
       "          3819,     6,   577,    31, 17751, 30658,  8186,     4,    20, 17741,\n",
       "            16,    23,  9985,     9,    62,     7,   389, 46044,     6,    11,\n",
       "           645,     7,  6647,     5,  5910,     9,     5,   514,    11,     5,\n",
       "         37472,     4,     2]], device='mps:0')"
      ]
     },
     "execution_count": 8,
     "metadata": {},
     "output_type": "execute_result"
    }
   ],
   "source": [
    "outputs"
   ]
  },
  {
   "cell_type": "code",
   "execution_count": 9,
   "metadata": {},
   "outputs": [
    {
     "name": "stderr",
     "output_type": "stream",
     "text": [
      "huggingface/tokenizers: The current process just got forked, after parallelism has already been used. Disabling parallelism to avoid deadlocks...\n",
      "To disable this warning, you can either:\n",
      "\t- Avoid using `tokenizers` before the fork if possible\n",
      "\t- Explicitly set the environment variable TOKENIZERS_PARALLELISM=(true | false)\n"
     ]
    }
   ],
   "source": [
    "import evaluate\n",
    "import numpy as np\n",
    "from datasets import load_from_disk\n",
    "from tqdm import tqdm\n",
    "\n",
    "# Metric\n",
    "metric = evaluate.load(\"rouge\")\n",
    "\n",
    "def evaluate_peft_model(sample,max_target_length=512):\n",
    "    # generate summary\n",
    "    outputs = model.generate(input_ids=sample[\"input_ids\"].unsqueeze(0).to(\"mps\"), do_sample=True, top_p=0.9, max_new_tokens=max_target_length)\n",
    "    prediction = tokenizer.decode(outputs[0].detach().cpu().numpy(), skip_special_tokens=True)\n",
    "    # decode eval sample\n",
    "    # Replace -100 in the labels as we can't decode them.\n",
    "    labels = np.where(sample['labels'] != -100, sample['labels'], tokenizer.pad_token_id)\n",
    "    labels = tokenizer.decode(labels, skip_special_tokens=True)\n",
    "\n",
    "    # Some simple post-processing\n",
    "    return prediction, labels"
   ]
  },
  {
   "cell_type": "code",
   "execution_count": 10,
   "metadata": {},
   "outputs": [
    {
     "name": "stderr",
     "output_type": "stream",
     "text": [
      "100%|██████████| 2259/2259 [6:47:59<00:00, 10.84s/it]  \n"
     ]
    },
    {
     "name": "stdout",
     "output_type": "stream",
     "text": [
      "Rogue1: 45.759859%\n",
      "rouge2: 21.260445%\n",
      "rougeL: 31.472124%\n",
      "rougeLsum: 31.547141%\n"
     ]
    }
   ],
   "source": [
    "# load test dataset from distk\n",
    "test_dataset = load_from_disk(\"./tokenized_data_Aug_S2_EXT4_M2L/test\").with_format(\"torch\")\n",
    "\n",
    "# run predictions\n",
    "# this can take ~45 minutes\n",
    "predictions, references = [] , []\n",
    "for sample in tqdm(test_dataset):\n",
    "    p,l = evaluate_peft_model(sample)\n",
    "    predictions.append(p)\n",
    "    references.append(l)\n",
    "\n",
    "# compute metric\n",
    "rogue = metric.compute(predictions=predictions, references=references, use_stemmer=True)\n",
    "\n",
    "# print results\n",
    "print(f\"Rogue1: {rogue['rouge1']* 100:2f}%\")\n",
    "print(f\"rouge2: {rogue['rouge2']* 100:2f}%\")\n",
    "print(f\"rougeL: {rogue['rougeL']* 100:2f}%\")\n",
    "print(f\"rougeLsum: {rogue['rougeLsum']* 100:2f}%\")\n",
    "\n",
    "# Rogue1: 50.386161%\n",
    "# rouge2: 24.842412%\n",
    "# rougeL: 41.370130%\n",
    "# rougeLsum: 41.394230%"
   ]
  },
  {
   "cell_type": "code",
   "execution_count": 11,
   "metadata": {},
   "outputs": [],
   "source": [
    "# Extracting Rouge scores\n",
    "rouge1_score = rogue['rouge1'] * 100\n",
    "rouge2_score = rogue['rouge2'] * 100\n",
    "rougeL_score = rogue['rougeL'] * 100\n",
    "rougeLsum_score = rogue['rougeLsum'] * 100\n",
    "\n",
    "# Plotting the Rouge scores\n",
    "labels = ['Rouge-1', 'Rouge-2', 'Rouge-L', 'Rouge-Lsum']\n",
    "scores = [rouge1_score, rouge2_score, rougeL_score, rougeLsum_score]"
   ]
  },
  {
   "cell_type": "code",
   "execution_count": 12,
   "metadata": {},
   "outputs": [
    {
     "data": {
      "text/plain": [
       "(0.0, 100.0)"
      ]
     },
     "execution_count": 12,
     "metadata": {},
     "output_type": "execute_result"
    },
    {
     "data": {
      "image/png": "[encoded data removed]",
      "text/plain": [
       "<Figure size 1000x600 with 1 Axes>"
      ]
     },
     "metadata": {},
     "output_type": "display_data"
    }
   ],
   "source": [
    "import matplotlib.pyplot as plt\n",
    "\n",
    "plt.figure(figsize=(10, 6))\n",
    "plt.bar(labels, scores, color=['blue', 'green', 'orange', 'red'])\n",
    "plt.ylabel('Rouge Score (%)')\n",
    "plt.title('Rouge Scores for Bart model with LoRA (Split 2)')\n",
    "plt.ylim(0, 100)"
   ]
  },
  {
   "cell_type": "code",
   "execution_count": 13,
   "metadata": {},
   "outputs": [],
   "source": [
    "from evaluate import load\n",
    "bertscore = load(\"bertscore\")"
   ]
  },
  {
   "cell_type": "code",
   "execution_count": 14,
   "metadata": {},
   "outputs": [
    {
     "name": "stderr",
     "output_type": "stream",
     "text": [
      "Some weights of RobertaModel were not initialized from the model checkpoint at roberta-large and are newly initialized: ['roberta.pooler.dense.bias', 'roberta.pooler.dense.weight']\n",
      "You should probably TRAIN this model on a down-stream task to be able to use it for predictions and inference.\n"
     ]
    }
   ],
   "source": [
    "results = bertscore.compute(predictions=predictions, references=references, lang=\"en\")"
   ]
  },
  {
   "cell_type": "code",
   "execution_count": 15,
   "metadata": {},
   "outputs": [],
   "source": [
    "#results['precision']\n",
    "average_precision = sum(results['precision']) / len(results['precision'])\n",
    "average_recall = sum(results['recall']) / len(results['recall'])\n",
    "average_f1 = sum(results['f1']) / len(results['f1'])\n"
   ]
  },
  {
   "cell_type": "code",
   "execution_count": 16,
   "metadata": {},
   "outputs": [
    {
     "name": "stdout",
     "output_type": "stream",
     "text": [
      "Precision: 0.8747978590926854\n",
      "Recall: 0.8659376633436398\n",
      "F1: 0.8700857013134157\n"
     ]
    }
   ],
   "source": [
    "print(f\"Precision: {average_precision}\")\n",
    "print(f\"Recall: {average_recall}\")\n",
    "print(f\"F1: {average_f1}\")"
   ]
  },
  {
   "cell_type": "code",
   "execution_count": 17,
   "metadata": {},
   "outputs": [
    {
     "name": "stderr",
     "output_type": "stream",
     "text": [
      "[nltk_data] Downloading package wordnet to\n",
      "[nltk_data]     /Users/nevidujayatilleke/nltk_data...\n",
      "[nltk_data]   Package wordnet is already up-to-date!\n",
      "[nltk_data] Downloading package punkt to\n",
      "[nltk_data]     /Users/nevidujayatilleke/nltk_data...\n",
      "[nltk_data]   Package punkt is already up-to-date!\n",
      "[nltk_data] Downloading package omw-1.4 to\n",
      "[nltk_data]     /Users/nevidujayatilleke/nltk_data...\n",
      "[nltk_data]   Package omw-1.4 is already up-to-date!\n"
     ]
    }
   ],
   "source": [
    "meteor = load('meteor')"
   ]
  },
  {
   "cell_type": "code",
   "execution_count": 18,
   "metadata": {},
   "outputs": [],
   "source": [
    "meteor_results = meteor.compute(predictions=predictions, references=references)"
   ]
  },
  {
   "cell_type": "code",
   "execution_count": 19,
   "metadata": {},
   "outputs": [
    {
     "data": {
      "text/plain": [
       "0.29590644720350656"
      ]
     },
     "execution_count": 19,
     "metadata": {},
     "output_type": "execute_result"
    }
   ],
   "source": [
    "meteor_results['meteor']"
   ]
  }
 ],
 "metadata": {
  "kernelspec": {
   "display_name": ".venv",
   "language": "python",
   "name": "python3"
  },
  "language_info": {
   "codemirror_mode": {
    "name": "ipython",
    "version": 3
   },
   "file_extension": ".py",
   "mimetype": "text/x-python",
   "name": "python",
   "nbconvert_exporter": "python",
   "pygments_lexer": "ipython3",
   "version": "3.9.6"
  }
 },
 "nbformat": 4,
 "nbformat_minor": 2
}
