{
 "cells": [
  {
   "cell_type": "code",
   "execution_count": 1,
   "metadata": {},
   "outputs": [
    {
     "name": "stderr",
     "output_type": "stream",
     "text": [
      "/Users/nevidujayatilleke/Documents/FYP-Abstractive Text Summarization/.venv/lib/python3.9/site-packages/urllib3/__init__.py:35: NotOpenSSLWarning: urllib3 v2 only supports OpenSSL 1.1.1+, currently the 'ssl' module is compiled with 'LibreSSL 2.8.3'. See: https://github.com/urllib3/urllib3/issues/3020\n",
      "  warnings.warn(\n",
      "/Users/nevidujayatilleke/Documents/FYP-Abstractive Text Summarization/.venv/lib/python3.9/site-packages/tqdm/auto.py:21: TqdmWarning: IProgress not found. Please update jupyter and ipywidgets. See https://ipywidgets.readthedocs.io/en/stable/user_install.html\n",
      "  from .autonotebook import tqdm as notebook_tqdm\n"
     ]
    }
   ],
   "source": [
    "import torch\n",
    "from peft import PeftModel, PeftConfig\n",
    "from transformers import AutoModelForSeq2SeqLM, AutoTokenizer"
   ]
  },
  {
   "cell_type": "code",
   "execution_count": 2,
   "metadata": {},
   "outputs": [],
   "source": [
    "#pip install --upgrade peft"
   ]
  },
  {
   "cell_type": "code",
   "execution_count": 3,
   "metadata": {},
   "outputs": [
    {
     "name": "stdout",
     "output_type": "stream",
     "text": [
      "Requirement already satisfied: bert-score in /Users/nevidujayatilleke/Documents/FYP-Abstractive Text Summarization/.venv/lib/python3.9/site-packages (0.3.13)\n",
      "Requirement already satisfied: torch>=1.0.0 in /Users/nevidujayatilleke/Documents/FYP-Abstractive Text Summarization/.venv/lib/python3.9/site-packages (from bert-score) (2.2.1)\n",
      "Requirement already satisfied: pandas>=1.0.1 in /Users/nevidujayatilleke/Documents/FYP-Abstractive Text Summarization/.venv/lib/python3.9/site-packages (from bert-score) (2.2.0)\n",
      "Requirement already satisfied: transformers>=3.0.0 in /Users/nevidujayatilleke/Documents/FYP-Abstractive Text Summarization/.venv/lib/python3.9/site-packages (from bert-score) (4.38.2)\n",
      "Requirement already satisfied: numpy in /Users/nevidujayatilleke/Documents/FYP-Abstractive Text Summarization/.venv/lib/python3.9/site-packages (from bert-score) (1.26.4)\n",
      "Requirement already satisfied: requests in /Users/nevidujayatilleke/Documents/FYP-Abstractive Text Summarization/.venv/lib/python3.9/site-packages (from bert-score) (2.31.0)\n",
      "Requirement already satisfied: tqdm>=4.31.1 in /Users/nevidujayatilleke/Documents/FYP-Abstractive Text Summarization/.venv/lib/python3.9/site-packages (from bert-score) (4.66.2)\n",
      "Requirement already satisfied: matplotlib in /Users/nevidujayatilleke/Documents/FYP-Abstractive Text Summarization/.venv/lib/python3.9/site-packages (from bert-score) (3.8.3)\n",
      "Requirement already satisfied: packaging>=20.9 in /Users/nevidujayatilleke/Documents/FYP-Abstractive Text Summarization/.venv/lib/python3.9/site-packages (from bert-score) (23.2)\n",
      "Requirement already satisfied: python-dateutil>=2.8.2 in /Users/nevidujayatilleke/Documents/FYP-Abstractive Text Summarization/.venv/lib/python3.9/site-packages (from pandas>=1.0.1->bert-score) (2.8.2)\n",
      "Requirement already satisfied: pytz>=2020.1 in /Users/nevidujayatilleke/Documents/FYP-Abstractive Text Summarization/.venv/lib/python3.9/site-packages (from pandas>=1.0.1->bert-score) (2024.1)\n",
      "Requirement already satisfied: tzdata>=2022.7 in /Users/nevidujayatilleke/Documents/FYP-Abstractive Text Summarization/.venv/lib/python3.9/site-packages (from pandas>=1.0.1->bert-score) (2024.1)\n",
      "Requirement already satisfied: filelock in /Users/nevidujayatilleke/Documents/FYP-Abstractive Text Summarization/.venv/lib/python3.9/site-packages (from torch>=1.0.0->bert-score) (3.13.1)\n",
      "Requirement already satisfied: typing-extensions>=4.8.0 in /Users/nevidujayatilleke/Documents/FYP-Abstractive Text Summarization/.venv/lib/python3.9/site-packages (from torch>=1.0.0->bert-score) (4.9.0)\n",
      "Requirement already satisfied: sympy in /Users/nevidujayatilleke/Documents/FYP-Abstractive Text Summarization/.venv/lib/python3.9/site-packages (from torch>=1.0.0->bert-score) (1.12)\n",
      "Requirement already satisfied: networkx in /Users/nevidujayatilleke/Documents/FYP-Abstractive Text Summarization/.venv/lib/python3.9/site-packages (from torch>=1.0.0->bert-score) (3.2.1)\n",
      "Requirement already satisfied: jinja2 in /Users/nevidujayatilleke/Documents/FYP-Abstractive Text Summarization/.venv/lib/python3.9/site-packages (from torch>=1.0.0->bert-score) (3.1.3)\n",
      "Requirement already satisfied: fsspec in /Users/nevidujayatilleke/Documents/FYP-Abstractive Text Summarization/.venv/lib/python3.9/site-packages (from torch>=1.0.0->bert-score) (2023.10.0)\n",
      "Requirement already satisfied: huggingface-hub<1.0,>=0.19.3 in /Users/nevidujayatilleke/Documents/FYP-Abstractive Text Summarization/.venv/lib/python3.9/site-packages (from transformers>=3.0.0->bert-score) (0.20.3)\n",
      "Requirement already satisfied: pyyaml>=5.1 in /Users/nevidujayatilleke/Documents/FYP-Abstractive Text Summarization/.venv/lib/python3.9/site-packages (from transformers>=3.0.0->bert-score) (6.0.1)\n",
      "Requirement already satisfied: regex!=2019.12.17 in /Users/nevidujayatilleke/Documents/FYP-Abstractive Text Summarization/.venv/lib/python3.9/site-packages (from transformers>=3.0.0->bert-score) (2023.12.25)\n",
      "Requirement already satisfied: tokenizers<0.19,>=0.14 in /Users/nevidujayatilleke/Documents/FYP-Abstractive Text Summarization/.venv/lib/python3.9/site-packages (from transformers>=3.0.0->bert-score) (0.15.2)\n",
      "Requirement already satisfied: safetensors>=0.4.1 in /Users/nevidujayatilleke/Documents/FYP-Abstractive Text Summarization/.venv/lib/python3.9/site-packages (from transformers>=3.0.0->bert-score) (0.4.2)\n",
      "Requirement already satisfied: contourpy>=1.0.1 in /Users/nevidujayatilleke/Documents/FYP-Abstractive Text Summarization/.venv/lib/python3.9/site-packages (from matplotlib->bert-score) (1.2.0)\n",
      "Requirement already satisfied: cycler>=0.10 in /Users/nevidujayatilleke/Documents/FYP-Abstractive Text Summarization/.venv/lib/python3.9/site-packages (from matplotlib->bert-score) (0.12.1)\n",
      "Requirement already satisfied: fonttools>=4.22.0 in /Users/nevidujayatilleke/Documents/FYP-Abstractive Text Summarization/.venv/lib/python3.9/site-packages (from matplotlib->bert-score) (4.49.0)\n",
      "Requirement already satisfied: kiwisolver>=1.3.1 in /Users/nevidujayatilleke/Documents/FYP-Abstractive Text Summarization/.venv/lib/python3.9/site-packages (from matplotlib->bert-score) (1.4.5)\n",
      "Requirement already satisfied: pillow>=8 in /Users/nevidujayatilleke/Documents/FYP-Abstractive Text Summarization/.venv/lib/python3.9/site-packages (from matplotlib->bert-score) (10.2.0)\n",
      "Requirement already satisfied: pyparsing>=2.3.1 in /Users/nevidujayatilleke/Documents/FYP-Abstractive Text Summarization/.venv/lib/python3.9/site-packages (from matplotlib->bert-score) (3.1.1)\n",
      "Requirement already satisfied: importlib-resources>=3.2.0 in /Users/nevidujayatilleke/Documents/FYP-Abstractive Text Summarization/.venv/lib/python3.9/site-packages (from matplotlib->bert-score) (6.1.1)\n",
      "Requirement already satisfied: charset-normalizer<4,>=2 in /Users/nevidujayatilleke/Documents/FYP-Abstractive Text Summarization/.venv/lib/python3.9/site-packages (from requests->bert-score) (3.3.2)\n",
      "Requirement already satisfied: idna<4,>=2.5 in /Users/nevidujayatilleke/Documents/FYP-Abstractive Text Summarization/.venv/lib/python3.9/site-packages (from requests->bert-score) (3.6)\n",
      "Requirement already satisfied: urllib3<3,>=1.21.1 in /Users/nevidujayatilleke/Documents/FYP-Abstractive Text Summarization/.venv/lib/python3.9/site-packages (from requests->bert-score) (2.2.0)\n",
      "Requirement already satisfied: certifi>=2017.4.17 in /Users/nevidujayatilleke/Documents/FYP-Abstractive Text Summarization/.venv/lib/python3.9/site-packages (from requests->bert-score) (2024.2.2)\n",
      "Requirement already satisfied: zipp>=3.1.0 in /Users/nevidujayatilleke/Documents/FYP-Abstractive Text Summarization/.venv/lib/python3.9/site-packages (from importlib-resources>=3.2.0->matplotlib->bert-score) (3.17.0)\n",
      "Requirement already satisfied: six>=1.5 in /Users/nevidujayatilleke/Documents/FYP-Abstractive Text Summarization/.venv/lib/python3.9/site-packages (from python-dateutil>=2.8.2->pandas>=1.0.1->bert-score) (1.16.0)\n",
      "Requirement already satisfied: MarkupSafe>=2.0 in /Users/nevidujayatilleke/Documents/FYP-Abstractive Text Summarization/.venv/lib/python3.9/site-packages (from jinja2->torch>=1.0.0->bert-score) (2.1.5)\n",
      "Requirement already satisfied: mpmath>=0.19 in /Users/nevidujayatilleke/Documents/FYP-Abstractive Text Summarization/.venv/lib/python3.9/site-packages (from sympy->torch>=1.0.0->bert-score) (1.3.0)\n",
      "Note: you may need to restart the kernel to use updated packages.\n"
     ]
    }
   ],
   "source": [
    "pip install bert-score"
   ]
  },
  {
   "cell_type": "code",
   "execution_count": 4,
   "metadata": {},
   "outputs": [],
   "source": [
    "#pip install sentencepiece"
   ]
  },
  {
   "cell_type": "code",
   "execution_count": 5,
   "metadata": {},
   "outputs": [
    {
     "name": "stderr",
     "output_type": "stream",
     "text": [
      "/Users/nevidujayatilleke/Documents/FYP-Abstractive Text Summarization/.venv/lib/python3.9/site-packages/bitsandbytes/cextension.py:34: UserWarning: The installed version of bitsandbytes was compiled without GPU support. 8-bit optimizers, 8-bit multiplication, and GPU quantization are unavailable.\n",
      "  warn(\"The installed version of bitsandbytes was compiled without GPU support. \"\n"
     ]
    },
    {
     "name": "stdout",
     "output_type": "stream",
     "text": [
      "'NoneType' object has no attribute 'cadam32bit_grad_fp32'\n",
      "Peft model loaded\n"
     ]
    }
   ],
   "source": [
    "# Load peft config for pre-trained checkpoint etc.\n",
    "#peft_model_id = \"results\"\n",
    "config = PeftConfig.from_pretrained(\"M2L_LR_S2_EXT4_EXP16_model\")\n",
    "\n",
    "# load base LLM model and tokenizer\n",
    "model = AutoModelForSeq2SeqLM.from_pretrained(config.base_model_name_or_path)\n",
    "tokenizer = AutoTokenizer.from_pretrained(config.base_model_name_or_path)\n",
    "\n",
    "# Load the Lora model\n",
    "model = PeftModel.from_pretrained(model, \"M2L_LR_S2_EXT4_EXP16_model\", use_dora = False, device_map='mps:0').to(\"mps\")\n",
    "model.eval()\n",
    "\n",
    "print(\"Peft model loaded\")"
   ]
  },
  {
   "cell_type": "code",
   "execution_count": 6,
   "metadata": {},
   "outputs": [],
   "source": [
    "from datasets import load_from_disk, DatasetDict\n",
    "from random import randrange\n",
    "\n",
    "\n",
    "# Load dataset from the hub and get a sample\n",
    "#dataset = load_from_disk('../../Data/Textile_Patent_(70-20-10)_LexRank')\n",
    "dataset = DatasetDict({\n",
    "    'train': load_from_disk('../../Data/Textile_Patent_(70-20-10)_LexRank_thres_3/train'),\n",
    "    'validation': load_from_disk('../../Data/Textile_Patent_(70-20-10)_LexRank_thres_3/validation'),\n",
    "    'test': load_from_disk('../../Data/Textile_Patent_(70-20-10)_LexRank_thres_3/test')\n",
    "})\n",
    "sample = dataset['test'][randrange(len(dataset[\"test\"])-300)]\n"
   ]
  },
  {
   "cell_type": "code",
   "execution_count": 7,
   "metadata": {},
   "outputs": [
    {
     "name": "stdout",
     "output_type": "stream",
     "text": [
      "input sentence: no . no . no . no . no . at this point , as shown in fig . thus , as shown in fig . as shown in fig . as shown in fig . in the position shown in fig . 3 , and a position raised out of and over the basket 78 , as shown in fig . within the extractor 26 , as shown in fig . 1 to the position raised over the drum , shown in fig . more particularly , as shown in figs . 1 . 3 . finally , as shown in figs . 8 . 7 . 7 . 4 . 5 . 2 . 2 . 9 . 12 . 3 and fig . 3 to the position shown in fig . nos . 4 to the position shown in fig . referring now to fig . with the laundry transfer apparatus 24 in the position shown in fig . for example , u.s. pat . when a third laundry batch 28c is located on the transfer apparatus 24 , as shown in fig . 1 , includes a washing machine 22 , a laundry transfer apparatus 24 and a centrifugal extractor 26 . the carrier 80 then raises from the position shown in fig . with the cam 134b in its third position , the conveyor belt motor 126b is operated by the conveyor belt relay 154 , advancing the loads of laundry 28a and 28b from the position shown in fig . 1 ; fig . when the first batch of laundry 28a is located on the transfer apparatus 24 , as indicated in fig . 7 ; fig . 10 ; and fig . 9 ; fig . the apparatus 24 is then back in its original position , under the slide 30 . 1 in its raised position ; fig . in position ten after the zero speed switch 170 closes , indicating that the extractor has stopped rotating , cam 134g operates the relay 181 and moves the subassembly 47 longitudinally forwardly , undergoing its third stage of forward longitudinal movement , to the position shown in fig . 2 is a partially sectioned , side elevational of the embodiment shown in fig . 1 to the position shown in solid lines in fig . the laundry transfer apparatus 24 , arranged to receive the batches 28 from the washer 22 , includes a generally horizontal , rotatable , endless belt conveyor 32 mounted on a support frame 34 . u.s. pat . in u.s. pat . in u.s. pat . 5 , the photorelay 152 is again actuated , closing switch 153 and stepping the motor to position five . 3 and 6 . 2 to the position shown in dotted lines in fig . 3 , the photo-relay 148 is actuated , closing the switch 149 . when the second laundry batch 28b is positioned on the transfer apparatus 24 , the second photorelay 152 , located opposite the photorelay 148 , is operated , closing switch 153 and stepping the motor 132 to position three . 8 , causing the laundry to be thrown onto the ring conveyor 72 . 5 shifted laterally , forwardly and vertically ; fig . the movement of the apparatus 24 between the positions shown in fig . in accordance with another preferred embodiment of the present invention , shown in figs . after processing , the laundry is raised out of the extractor drum on a reciprocal wall that is still rotating . 9 is a partial , cross-sectional view of another embodiment of the present invention ; fig . 9-11 , a vacuum unloading mechanism 102 , that may replace the circular conveyor 72 , is provided for unloading the centrifugal extractor 26 . a vacuum draw off conveyor 69 , extending through the wall 74 , is connected to a vacuum source , to remove the laundry from the conveyor 72 . 1 , arranged to receive an initial batch of laundry 28 from the tunnel washer 22 , the extractor motor 126j and the extractor 26 are running , and the cams 134 are in their number one positions . in step five , the cam 134a completes an electrical connection with the relay 150 causing the conveyor to move from the position shown in fig . the motor 132 is then stepped to position seven . the assembly 45 is now lowered from the position shown in solid lines in fig . as the carrier 80 reaches the down position , the photorelay 177 closes the switch 179 to step the motor 132 to position ten . 3 is a plan view of the embodiment shown in fig . background of the invention 1 . an opening 76 is provided in the wall 74 to allow the transfer apparatus 24 access to the extractor 26 , as shown in fig . 7 is a plan view of the embodiment shown in fig . 6 and in dotted lines in fig . as indicated in dot-dashed lines in fig . upon completion of the extraction cycle and appropriate positioning of the carrier 80 , as described previously , the bag may be pulled outwardly causing the laundry to be expelled . in position sixteen , the cam 134c closes the cam switch to longitudinally retract the assembly 47 , once the down limit switch 198 is closed . 4 after the conveyor belt has been rotated to a different position ; fig . 5 , it is now in a position closer to but slightly spaced from the outer peripheral surface of the extractor 26 . 3,577,751 , 3,570,273 , 2,808,153 , 2,534,286 , and 1,938,146 disclose washing machines or extractors with segmented , rotating drums . normally , after membrane-type extraction , subsequent drying , for example in a tumble dryer , is required because these extractors are not highly efficient . in position eleven , the cam 134h opens a cam switch which stops the index motor 126h . moreover centrifugal extractors generally are incapable of accepting and processing discrete laundry batches , other than one at a time . brief description of the drawing fig . 4 is a plan view of the embodiment of the present invention shown in fig . however , the curb 84 may be independently operated through the pneumatic cylinders 97 , mounted on the tube 92 , to vertically reciprocate separately of the remainder of the carrier 80 . 5 is a plan view of the embodiment of the present invention shown in fig . this causes the carrier 80 to be raised to its upstanding position . 5 to the laterally shifted position shown in figs . 6 is a plan view of the embodiment of the present invention shown in fig . 3 after having been laterally shifted ; fig . the basket 78 receives a vertically reciprocable carrier 80 translatable between a position totally within the basket 78 , as shown in fig . each compartment 88 is pie-shaped and has a generally cylindrical , vertically aligned , open peripheral side 90 . the embodiment illustrated in figs . upon release of the pressure , the carrier 80 falls to its lower position surrounding the shaft 98 . 7 and 8 , the conveyor 32 is longitudinally translatable towards and away from the centrifugal extractor 26 . 4 , the transfer apparatus 24 is arranged to receive a second batch of laundry 28b in a position beside the batch of laundry previously received from the washer 22 . cam 134h closes a cam switch and starts the index motor 126h , rotating the basket 78 by 180° , until the proximity switch 174 is operated stepping the motor 132 to position thirteen . in accordance with another embodiment of the present invention a method for transferring serially received discrete batches of laundry between spaced processing stations , such as a washer and an extractor , includes the step of arranging a conveying mechanism to receive a plurality of batches of laundry on a surface of the mechanism from a first laundry station . when the curb 84 is in its lowered position , a photorelay 196 operates switch 197 and steps the motor 132 to position sixteen . when the fourth laundry load 28d is received and sensed by photorelay 148 , the switch 149 is closed and the motor 132 steps to position number six . 1 and 3 , the support frame 34 includes a cross member 40 , resting on the floor 38 , that supports a pair of spaced , vertically extending , slotted posts 42 . this is due to the mounting of the subassembly 47 on the assembly 45 , through a set of transverse , linear rack gears 60 . 12 is a circuit schematic for the embodiment of the present invention shown in fig . the positioning of a first batch of laundry on the surface is sensed . when the speed of rotation of the extractor basket 78 slows sufficiently , perhaps to 100 revolutions per minute , due to the opening of the extractor timer contacts , signaling the end of the extraction cycle , the low rpm switch 166 is closed , the unload pump motor 126d is then operated , a hydraulic valve is shifted as a result of current in the relay 168 and a time delay relay 170 is energized . in position seven the cam 134d raises the conveying apparatus 24 from the position shown in dotted lines in fig . the switch 131 includes a rotary wiper 135 , also stepped by the motor 132 , that makes an electrical connection with the twenty contacts 137 . this results in the photorelay 148 being deenergized , closing the contacts 180 and stepping the motor 132 to position twelve . 7 , with its ramp portion 71 directly aligned over the compartments 88 in the extractor 26 . the bleeding off of the fluid pressure generated in the actuator assembly 91 causes the carrier 80 , excluding the curb 80 , to move downwardly into the extractor 26 . after processing in the washing machine 22 , the wet laundry batches , indicated as 28 , exit from the washing machine 22 onto a slide 30 . the conveyor 32 is mounted to be vertically , laterally , and longitudinally translatable with respect to the support frame 34 and the surface 38 upon which the apparatus 24 rests . the switch defined by the cam 134e is opened when the timing motor 132 moves to position nine , shutting off the pump motor 126d . secured to the surface 115 , a resilient , cylindical , frame-like gasket 116 provides an airtight seal between the member 106 and the open peripheral side 90 of a compartment 88 aligned with the mechanism 102 when the duct 104 is in position adjacent the carrier 80 . in addition after processing in the centrifugal extractor , the laundry is sometimes difficult to remove because it tends to pack along the peripheral surface of the drum . 10 , the member 106 includes a flared free end portion 114 . in position number eight , the cam 134e closes the switch formed between its contact 136 and contact 140 . surrounding the basket 78 , an outer casing or enclosure 75 , having a generally cylindrical wall 77 , conforms to the basket wall 79 . the step programmer 122 includes a rotary stepping switch 131 , a stepper or pulse generator 133 , a stepping motor 132 , and a plurality of cams 134 rotated by the motor 132 . 3 , closest to the washer 22 , and cam 134g is connected through relay 146 to also maintain the conveyor in its retracted position closest to the washer 22 . a circuit is completed by the cam 134a through the relay 142 responsible for positioning the conveyor assembly 45 in the lateral position shown in fig . in accordance with another embodiment of the present invention a batch continuous laundry transfer apparatus for transferring serially received , discrete batches of laundry between spaced laundry processing stations such as a washer and extractor includes a conveying mechanism with a generally horizontal laundry batch receiving surface . this completes a circuit through the stepper 131 , stepping the motor 132 to position two and causing each of the cams 134 to rotate to their second angular position . 12 , a motor control circuit 120 includes a step programmer 122 and a relay bank 124 operative to control a plurality of motors 126 , responsible for the operation of the plant 20 , through the motor switch contacts 127 . detailed description of the preferred embodiment referring to the drawing wherein like reference characters are used for like parts throughout the several views , a laundry washing and extraction plant 20 , shown in fig . however , only a two stage longitudinal movement of the assembly 47 is required , the second of the three stages of movement described previously now being unnecessary . in any case , the use of the segmented carrier 80 divides the laundry load into separated , sufficiently evenly weighted portions so that load imbalance problems are unlikely . 1 is a partially sectioned , side elevational view of one embodiment of the present invention in its lowered portion , partially showing a washer arranged to interact with the present invention ; fig . when the closure of the switch 162 is sensed , the relay 163 is operated and the subassembly 47 is again moved longitudinally toward the extractor 26 , undergoing the second stage of its forward longitudinal movement , until the second stage limit switch 164 closes . the movement of the subassembly 47 along the rack 60 continues until the second stage retract limit switch 188 is closed , stepping the motor 132 to position fifteen . while the washing machine 22 may take a wide variety of forms , the present invention is highly effective when used with a washer known as a tunnel washer which processes generally equally weighted , discrete batches of laundry in a continuous fashion , conventionally using an extremely large archimedian screw mechanism . for example , a first batch of laundry may be expelled from the first compartment , the carrier may then be rotated to the same position at which expulsion previously occurred and the next batch may then be expelled . currently , membrane presses are used for liquid extraction in conjunction with tunnel washers . tunnel washers have a plurality of sections linked by a rotating archimedian screw , so that discrete batches of laundry may be continuously processed through the washer . the cam 134b , then closes the cam switch which starts the conveyor belt motor 126b to gravity unload the nearest two batches 28a and 28b from the transfer apparatus 24 into the adjacent and aligned compartments 88 . when the photorelay 156 is operated by the positioning of the laundry loads 28a and 28b near the end of the conveyor belt 68 closest to the extractor 26 , the switch 157 is closed and the timing motor 132 is stepped to position four causing the conveyor belt motor 126b to stop . 6 after the conveying system has been shifted longitudinally ; fig . the cam 134h then operates the relay 183 that starts the index motor 126h to rotate the extractor basket 78 until the index proximity switch 174 is operated , indicating that two compartments 88 are aligned under the transfer apparatus 24 and stepping the motor 132 to position eleven . the switch 131 and each of the cams 134 in the illustrated embodiment have 20 positions , indicated by slashed radial lines on each cam and partially numbered in fig . the vacuum suction motor 126f may then be operated , developing a vacuum in the draw off conveyor 69 and causing the laundry to be removed from the ring conveyor 72 . a ramp portion 71 , adjacent the free end 70 , is downwardly inclined and defines an angled ramp . this produces an electrical connection through the contact 136 to the relay 150 responsible for operating the motor 126a that moves the transfer apparatus 24 from the position shown in fig . the curb 84 is separable from the remainder of the carrier 80 . the drum is rotated for a period of time to remove the fluid from the laundry batches . when the switch 164 is operated the stepping motor 132 is stepped to position number eight . automatic systems for processing laundry are also known in the art . although only two methods and apparatus for automatically removing the laundry from the extractor after the completion of the extractor cycle have been described , it will be obvious that a number of different positive , automatic systems may be used in place of the methods and apparatus described herein to implement the present invention . again this is under the control of the motor 126a through operation of the chain drive . thus , reciprocation of the pistons 112 results in movement of the member 106 toward and away from the cylindrical open peripheral side 90 of an aligned compartment 88 , generally in the direction indicated by the arrows in fig . similarly the cam 134c completes the circuit through the relay 144 responsible for positioning the subassembly 47 in its retracted position shown in fig . according to one preferred embodiment of the present invention , the centrifugal extractor 26 is surrounded by a circular conveyor 72 encircled by a circular upstanding wall 74 . 3,945,921 to toth a system for automatically expelling the laundry after centrifugal extraction is disclosed . the extractor is used in conjunction with a conveyor system to automatically process laundry received on the conveyor from a washer . in position fourteen , cam 134b opens the cam switch to stop the conveyor belt motor 126b and cam 134g operates relays 146 and 147 to retract the subassembly 47 towards the washer 22 . it is still another object of the present invention to provide an improved conveyor system for transferring laundry from a washing machine to a centrifugal extractor . the batches of laundry are continuously and automatically loaded into each of the compartments in a segmented rotatable centrifugal extraction drum . in position number six , cam 134c moves the conveyor subassembly 47 longitudinally forward toward the extractor 26 due to the operation of the relay 158 which produces an electrical connection to the motor 126c which drives the pinion 61 on the rack gear 60 . at this point the conveyor belt motor 126b is deenergized due to the operation of cam 134b . means for automatically unloading the laundry batches into second station are included as well . for example , an air inflatable bag ( not shown ) may be located within the radially innermost position within each compartment 88 of the carrier 80 so that upon completion of an extraction cycle the carrier may be raised to its upward position and the bags may be sequentially inflated to displace the laundry from each of the compartments . the free end 70 of the end portion 64 is generally circular , having a radius comparable to that of the extractor 26 . the carrier 80 has a lower surface 82 conforming to the base wall 81 and located closely adjacent to the basket wall 79 , an upper horizontal curb 84 , and a plurality of vertically arranged dividing walls 86 . the laundry is thereafter automatically removed from each of the compartments after a period of rotation is completed . a suitable mechanism for actuating the carrier 80 is described in u.s. pat . the laundry is then conveyed from the first station to the second station . in accordance with another embodiment of the present invention a method for batch continuous extraction involves continuously conveying a plurality of laundry batches from a washing machine to a centrifugal extractor . in this way it is possible to process batches of laundry so that each batch is maintained in tact through out its processing . however , it is advantageous to use an even number of compartments to enable dual loading of the compartments . 9-11 may be implemented generally in manner described above . thus , the forward longitudinal movement accomplished in the second and third stages is reversed in a single stage retraction . it is still another object of the present invention to provide a method and apparatus for transferring a plurality of discrete laundry batches in a continuous fashion between laundry processing stations . still another alternative uses a mechanical arm ( not shown ) , the carrier 80 being appropriately positioned to enable the robot arm to positively remove the laundry onto a suitable conveying system . the location of the carrier 80 in its full upward position operates the proximity switch 174 advancing the timing motor 132 to position number nine . however , centrifugal extractors are not generally believed to be amenable to high capacity or high output continuous processing . an appropriate conveyor can be aligned to receive each batch of laundry as it is expelled by the air bag expulsion system . moreover , the computer control for the extractor 26 and the apparatus 24 may advantageously be combined with a washer 22 computer control system . this facilitates sorting of the laundry and enables special treatment of certain batches . the belt subassembly 47 includes an inclined , widened front end 64 , a pair of upstanding lateral walls 66 and an endless rotatable conveyor belt 68 also forming a part of the subassembly 47 . 2 , the conveyor free end 70 is aligned with the upstanding wall 74 , the adjacent ramp portion 71 completing the barrier formed by the wall 74 and closing the opening 76 therein . 8 , a rotatable basket 78 has a perforated or liquid permeable cylindrical wall 79 and a base wall 81 . these and other objects of the present invention are achieved by an apparatus for batch continuous extraction that continuously centrifugally extracts fluid from sequentially received batches of washed laundry . field of the invention this invention relates generally to laundry processing and more particularly to an extraction system that processes laundry in discrete batches in a continuous fashion . 3,844,142 to miller discloses a hydraulic press extractor which compresses the laundry into a cake . the walls 86 extend from the upper curb 84 to the lower surface 82 , conform to the cylindrical wall 79 and divide the carrier 80 into four distinct compartments 88 . 3 , the conveyor 32 is also laterally translatable since the platform 36 includes a set of tracks 56 that allow the belt assembly 45 to slide laterally or generally perpendicularly to a line connecting the extractor 26 and machine 22 . the surface is translated to enable the mechanism to receive a second pair of laundry batches on the surface . the carrier 80 is frictionally keyed to the shaft 98 to rotate with the basket 78 during extraction . the duct 104 is connected to a rigid interface member 106 by means of a flexible , expandable accordian conduit 108 . the upstanding walls 66 in conjunction with the end portion 64 guide the batches of laundry 28 received on the apparatus 24 from the washing machine 22 to the centrifugal extractor 26 . instead of actuating the ring conveyor 72 in step eight , the unloading mechanism 102 may be operated to sequentially engage each compartment 88 and to vacuum remove the batch 28 contained therein . summary of the invention it is an object of the present invention to provide a centrifugal extraction method and apparatus which is capable of continuously and automatically extracting the washing fluid from discrete batches of laundry received from a washer . although the motor control for the plant 20 is described herein as a cam actuated system , those skilled in the art will appreciate that a computerized or microcomputerized system may be used instead . when the cam 134a moves to its second position , its contact 136 moves from a position electrically connected to the contact 140 to a position connected to the contact 138 . the laundry is expelled onto a plurality of surrounding conveyors where it is collected for additional processing . at this point the apparatus is ready to recycle through the steps described previously . the upward movement of the assembly 45 continues until the up limit switch 162 is operated . it is also an object of the present invention to provide a method and apparatus for facilitating the loading and unloading of centrifugal extractors . normally the curb 84 moves upwardly and downwardly with the remainder of the carrier 80 . the movement of the carrier 80 is due to the operation of the pump motor 126d that generates the needed fluid pressure , and a hydraulic valve which allows the fluid pressure to be conveyed to the actuator assembly 91 . the scraping action provided by the carrier 80 during its upward reciprocation frees the laundry from the basket 78 walls so that it may be easily unloaded . thus , due to inefficiencies in transferring between the washers and the centrifugal extractors as well as deficiencies in speed of operation and in loading and unloading efficiency , centrifugal extractors have not been found to be satisfactory for use in conjunction with the high capacity tunnel washers . the first stage retract limit switch 206 is closed by the subassembly 47 to step the motor 132 through positions 17 through 20 to position number 1 . moreover , the end 59 of the transfer apparatus 24 previously positioned under the slide 30 is now clear of the slide 30 . 1 due to the action of cam 134d which operates the lower relay 190 . the completion of loading of the extractor 26 is sensed by photorelay 156 which energizes and closes contacts 182 to step the motor 132 to its next position . in addition unloading does not occur until the rotation of the basket 78 is stopped . since the apparatus 24 is now clear of the slide 30 no interference occurs . the cam 134f operates the relay 192 that actuates the cylinders 97 to retain the curb 84 in its raised position . 3,945,921 to toth already incorporated by reference herein . the longitudinal translation of the belt subassembly 47 may be powered by a pair of motors 65 mounted on the subassembly 47 , each driving a pinion 61 . the apparatus includes a centrifugal extractor with a segmented drum divided into a plurality of compartments and a means for rotating the drum . since the bars 50 are rigidly secured to the conveyor platform 36 , the chain 48 may be connected to the bars 50 to translate the conveyor 32 vertically . it is yet another object of the present invention to provide such a method and apparatus that lessens the likelihood of extractor load imbalances . for most anticipated applications it is preferable to use four or six compartments with the present invention . while the carrier 80 has been described as having four compartments 88 it will be obvious that the carrier may have any number of compartments . 4,285,219 issued to grunewald an apparatus which uses centrifugal extraction and vacuum conveying in conjunction with conventional commercial laundry machines is taught . in step thirteen , the cam 134h opens the cam switch to stop the indexing motor 126h and cam 134b closes the cam switch to start the conveyor belt motor 126b to unload the last two loads 28c and 28d into the two newly aligned compartments 88 . because of the slow speed of operation of centrifugal extractors , current practice requires the use of a plurality of centrifugal extractors to keep up with one high capacity tunnel washer . specifically , the tube 92 frictionally engages the rotating shaft 98 while the carrier 80 frictionally engages the base wall 81 so that the carrier 80 rotates with the basket 78 . a winch 43 is connected to the conveyor 32 by a chain 48 to power this vertical translation . brief description of the background art with the advent of ultra high capacity tunnel washers which are capable of continuously processing enormous quantities of laundry in discrete batches , the need for more advanced systems of extraction for use in conjunction with these washers has grown dramatically . also a means translates the mechanism from a position adjacent the first station to a position adjacent the second station . the fluid pressure produced in the line 96 is communicated to a chamber ( not shown ) within the tube 92 , thereby translating a piston ( not shown ) with respect to the chamber . the apparatus also includes means for automatically loading a batch of laundry into each of the compartments and means for automatically displacing the laundry from each of the compartments in the drum after a period of rotation of the drum . the circular conveyor 72 is conveniently a conventional ring conveyor which includes a rotated annular surface 73 . due to the sequential removal of these batches their discrete character is preserved by the unloading mechanism 102 . suitable drain structure ( not shown ) is provided for liquids extracted from material within the basket 78 . the mechanism is automatically shifted laterally to receive a second batch of laundry beside the first batch of laundry when the first batch is sensed . it is another object of the present invention to provide a centrifugal extraction system which is capable of operating in a continuous fashion with batch continuous washers . segmented centrifugal extraction drums that divide the laundry into separate portions decreasing the likelihood of developing imbalance problems are known in the art . the portion 114 defines a tubular surface 115 that mates and conforms to the outer periphery of the carrier 80 . after a predetermined period of operation the time delay relay 170 opens the contacts 172 shutting off the conveyor 72 and blower motor 126e . a lower surface of base wall 81 supports a conventional bearing assembly ( not shown ) located within the bell-shaped portion 83 . the conveyor 32 includes a translatable platform 36 and a belt assembly 45 mounted on the platform 36 . this is conveniently accomplished by providing two passages in the rotary union 94 and line 96 , one passage to supply the carrier actuator 91 and the other to supply the pneumatic cylinders 97 . the assembly 45 in turn includes an endless belt subassembly 47 mounted on the assembly 45 . the mechanism 102 includes a vacuum conveying duct 104 connected to a vacuum source . the suspension pedestal assemblies 100 are described in greater detail in u.s. pat . 3,945,921 to toth hereby expressly incorporated by reference herein in full . the carrier 80 is raised and lowered by a an actuator assembly 91 mounted on the hub 85 and including a cylindrical sleeve or tube 92 . membrane presses have an internal membrane which squeezes the laundry into a compressed state known as a cheese in order to remove the fluid from the washed laundry . the platform 36 is also connected by a pair of angled bars 50 to each of the slotted posts 42 . the tube 92 is connected by a rotary union 94 to a source of pressurized fluid through a line 96 . the basket 78 is mounted for rotation and the wall 81 includes an inner generally bell-shaped portion 83 terminating in a hub 85 that connects to a motor driven shaft 98 . 11 , the flared portion 114 defines a rectangular opening 118 through which a vacuum applied to the duct 104 may be conveyed to the interior of a compartment 88 in sealed relationship with the member 106 and thus the duct 104 . each bar 50 includes a roller 49 which slides within a track 44 at a position elevated with respect to the position at which the rollers 46 engage the tracks 44 . 8 is a partial cross-sectional view taken generally along the line 8 -- 8 in fig . this upward movement is achieved through the relay 161 that operates the winch 43 and particularly through the operation of winch motor 126i and chain drive 48 . the position of the member 106 with respect to the upwardly translated carrier 80 may be adjusted through the operation of a pair of fluid actuated cylinders 110 mounted on each side of the duct 104 and connected to the interface member 106 by their reciprocating pistons 112 . alternatively , a & # 34 ; canvas & # 34 ; bag removal system ( not shown ) may be implemented by canvas bag that lines the innermost peripheral surfaces of each compartment . 10 is a partial cross-sectional view taken generally along the line 10 -- 10 in fig . the motors 126 are connected to the remainder of the circuit 120 by a conventional fuse box 128 and an on-off switch 130 . at the same time cam 134f disconnects the relay 192 and connects the vacuum pump relay 194 to operate the pump motor 126k and to lower the curb 84 . 11 is a partial cross-sectional view taken generally along the line 11 -- 11 in fig . a central upstanding barrier 67 divides the belt 68 into two side by side regions . the belt subassembly 47 is supported on the gears 60 by pinions 61 geared for movement with respect to the rack gears 60 in the directions indicated in fig . cam 134c energizes a time delay 200 to close the contacts 204 connecting a solenoid valve 202 to reset the extractor timer . 4 is accomplished by operating the winch motor 126a to rotate the pinions 55 and to drive the associated chain 53 to make the required linear translation . the time delay relay 170 closes the contacts 172 actuating relay 173 to start the ring conveyor 72 motor 126g and the relay 175 to operate the blower motor 126e . centrifugal extractors with internal drums that rotate at high speed to centrifugally expel the water or other cleaning fluid from the laundry are known to be highly advantageous in terms of energy efficiency and effectiveness of liquid removal . means for automatically translating the mechanism with respect to one of the stations to arrange the serially received discrete batches in at least two side by side rows is provided . the lateral translation may be powered by a conventional chain drive including a winch 57 and chain 53 secured to the assembly 45 at one point and supported by a pair of pinions 55 ( only one of which is shown ) . operation of the first stage forward limit switch 160 halts this movement and indicates that the apparatus 24 has undergone the first stage of its forward longitudinal movement . a significant deficiency in presently known commercial centrifugal extraction systems is that they are prone to developing non-uniform load distributions resulting in load imbalances destructive to the apparatus . each cam 134 is arranged to interact with a cam following switch contact 136 pivotable between one of two contacts 138 and 140 arranged at angularly spaced positions near the free end of the contact 136 . the extractor casing 75 is supported atop three vibration and lateral movement damping suspension pedestal assemblies 100 positioned at regularly spaced positions around the rotational axis of the basket 78 . the contact 136 normally makes a connection with the contact 140 whenever the contact 136 is not displaced by a cam 134 . each pedestal assembly 100 includes a housing portion 101 with a depending internal rod ( not shown ) attached through the agency of resilient spacers ( not shown ) to arm members ( not shown ) radially extending from the casing 75 . the foregoing detailed description has been given for clearness of understanding only and no unnecessary limitations should be understood therefrom as many modifications will be obvious to those skilled in the art . each slotted post 42 includes an inwardly facing track 44 which receives a pair of rollers 46 secured to the platform 36 so that the belt conveyor 32 may be translated vertically along the track 44 in each post 42 . conveniently a set of rollers 58 secured to the lower side of the belt assembly 45 rollingly engage and are secured within the tracks 56 to make this translation possible and to prevent the assembly 45 from leaving its tracks 56 .\n",
      "------------------------------------------------------------\n",
      "A method and apparatus for processing laundry in a centrifugal extractor is provided. The apparatus includes a washing machine, a laundry transfer apparatus, and an extractor. The washing machine transfers the laundry from the washing machine to the transfer apparatus. The transfer apparatus includes an endless belt conveyor mounted on a support frame. The extractor includes a rotatable, centrifugal drum mounted on the support frame, and a plurality of cams operatively connected to the conveyor belt. The cams control the movement of the apparatus between the positions shown in FIG. 1. and FIG. 2.\n"
     ]
    }
   ],
   "source": [
    "input_ids = tokenizer(sample[\"description\"], return_tensors=\"pt\", truncation=True).input_ids.to(\"mps\")\n",
    "# with torch.inference_mode():\n",
    "outputs = model.generate(input_ids=input_ids, max_new_tokens=512, do_sample=True, top_p=0.9)\n",
    "print(f\"input sentence: {sample['description']}\\n{'---'* 20}\")\n",
    "\n",
    "print(tokenizer.batch_decode(outputs.detach().cpu().numpy(), skip_special_tokens=True)[0])"
   ]
  },
  {
   "cell_type": "code",
   "execution_count": 8,
   "metadata": {},
   "outputs": [
    {
     "data": {
      "text/plain": [
       "tensor([[    2,     0,   250,  5448,     8, 26529,    13,  5774, 16937,    11,\n",
       "            10, 40564, 39029, 14660,   368,    16,  1286,     4,    20, 26529,\n",
       "          1171,    10, 14784,  3563,     6,    10, 16937,  2937, 26529,     6,\n",
       "             8,    41, 14660,   368,     4,    20, 14784,  3563, 12291,     5,\n",
       "         16937,    31,     5, 14784,  3563,     7,     5,  2937, 26529,     4,\n",
       "            20,  2937, 26529,  1171,    41, 12210,  7494, 15451,   368, 13296,\n",
       "            15,    10,   323,  5120,     4,    20, 14660,   368,  1171,    10,\n",
       "         13351, 18564,     6, 40564, 39029, 12638, 13296,    15,     5,   323,\n",
       "          5120,     6,     8,    10, 43285,     9,   740,  7042, 19470, 10481,\n",
       "          3665,     7,     5, 15451,   368,  7494,     4,    20,   740,  7042,\n",
       "           797,     5,  2079,     9,     5, 26529,   227,     5,  2452,  2343,\n",
       "            11, 37365,     4,   112,     4,     8, 37365,     4,   132,     4,\n",
       "             2]], device='mps:0')"
      ]
     },
     "execution_count": 8,
     "metadata": {},
     "output_type": "execute_result"
    }
   ],
   "source": [
    "outputs"
   ]
  },
  {
   "cell_type": "code",
   "execution_count": 9,
   "metadata": {},
   "outputs": [
    {
     "name": "stderr",
     "output_type": "stream",
     "text": [
      "huggingface/tokenizers: The current process just got forked, after parallelism has already been used. Disabling parallelism to avoid deadlocks...\n",
      "To disable this warning, you can either:\n",
      "\t- Avoid using `tokenizers` before the fork if possible\n",
      "\t- Explicitly set the environment variable TOKENIZERS_PARALLELISM=(true | false)\n"
     ]
    }
   ],
   "source": [
    "import evaluate\n",
    "import numpy as np\n",
    "from datasets import load_from_disk\n",
    "from tqdm import tqdm\n",
    "\n",
    "# Metric\n",
    "metric = evaluate.load(\"rouge\")\n",
    "\n",
    "def evaluate_peft_model(sample,max_target_length=512):\n",
    "    # generate summary\n",
    "    outputs = model.generate(input_ids=sample[\"input_ids\"].unsqueeze(0).to(\"mps\"), do_sample=True, top_p=0.9, max_new_tokens=max_target_length)\n",
    "    prediction = tokenizer.decode(outputs[0].detach().cpu().numpy(), skip_special_tokens=True)\n",
    "    # decode eval sample\n",
    "    # Replace -100 in the labels as we can't decode them.\n",
    "    labels = np.where(sample['labels'] != -100, sample['labels'], tokenizer.pad_token_id)\n",
    "    labels = tokenizer.decode(labels, skip_special_tokens=True)\n",
    "\n",
    "    # Some simple post-processing\n",
    "    return prediction, labels"
   ]
  },
  {
   "cell_type": "code",
   "execution_count": 10,
   "metadata": {},
   "outputs": [
    {
     "name": "stderr",
     "output_type": "stream",
     "text": [
      "100%|██████████| 2259/2259 [7:01:15<00:00, 11.19s/it]   \n"
     ]
    },
    {
     "name": "stdout",
     "output_type": "stream",
     "text": [
      "Rogue1: 46.437346%\n",
      "rouge2: 21.930581%\n",
      "rougeL: 32.040169%\n",
      "rougeLsum: 32.182737%\n"
     ]
    }
   ],
   "source": [
    "# load test dataset from distk\n",
    "test_dataset = load_from_disk(\"./tokenized_data_S2_EXT4_M2L/test\").with_format(\"torch\")\n",
    "\n",
    "# run predictions\n",
    "# this can take ~45 minutes\n",
    "predictions, references = [] , []\n",
    "for sample in tqdm(test_dataset):\n",
    "    p,l = evaluate_peft_model(sample)\n",
    "    predictions.append(p)\n",
    "    references.append(l)\n",
    "\n",
    "# compute metric\n",
    "rogue = metric.compute(predictions=predictions, references=references, use_stemmer=True)\n",
    "\n",
    "# print results\n",
    "print(f\"Rogue1: {rogue['rouge1']* 100:2f}%\")\n",
    "print(f\"rouge2: {rogue['rouge2']* 100:2f}%\")\n",
    "print(f\"rougeL: {rogue['rougeL']* 100:2f}%\")\n",
    "print(f\"rougeLsum: {rogue['rougeLsum']* 100:2f}%\")\n",
    "\n",
    "# Rogue1: 50.386161%\n",
    "# rouge2: 24.842412%\n",
    "# rougeL: 41.370130%\n",
    "# rougeLsum: 41.394230%"
   ]
  },
  {
   "cell_type": "code",
   "execution_count": 11,
   "metadata": {},
   "outputs": [],
   "source": [
    "# Extracting Rouge scores\n",
    "rouge1_score = rogue['rouge1'] * 100\n",
    "rouge2_score = rogue['rouge2'] * 100\n",
    "rougeL_score = rogue['rougeL'] * 100\n",
    "rougeLsum_score = rogue['rougeLsum'] * 100\n",
    "\n",
    "# Plotting the Rouge scores\n",
    "labels = ['Rouge-1', 'Rouge-2', 'Rouge-L', 'Rouge-Lsum']\n",
    "scores = [rouge1_score, rouge2_score, rougeL_score, rougeLsum_score]"
   ]
  },
  {
   "cell_type": "code",
   "execution_count": 12,
   "metadata": {},
   "outputs": [
    {
     "data": {
      "text/plain": [
       "(0.0, 100.0)"
      ]
     },
     "execution_count": 12,
     "metadata": {},
     "output_type": "execute_result"
    },
    {
     "data": {
      "image/png": "[encoded data removed]",
      "text/plain": [
       "<Figure size 1000x600 with 1 Axes>"
      ]
     },
     "metadata": {},
     "output_type": "display_data"
    }
   ],
   "source": [
    "import matplotlib.pyplot as plt\n",
    "\n",
    "plt.figure(figsize=(10, 6))\n",
    "plt.bar(labels, scores, color=['blue', 'green', 'orange', 'red'])\n",
    "plt.ylabel('Rouge Score (%)')\n",
    "plt.title('Rouge Scores for Bart model with LoRA (Split 2)')\n",
    "plt.ylim(0, 100)"
   ]
  },
  {
   "cell_type": "code",
   "execution_count": 13,
   "metadata": {},
   "outputs": [],
   "source": [
    "from evaluate import load\n",
    "bertscore = load(\"bertscore\")"
   ]
  },
  {
   "cell_type": "code",
   "execution_count": 14,
   "metadata": {},
   "outputs": [
    {
     "name": "stderr",
     "output_type": "stream",
     "text": [
      "Some weights of RobertaModel were not initialized from the model checkpoint at roberta-large and are newly initialized: ['roberta.pooler.dense.bias', 'roberta.pooler.dense.weight']\n",
      "You should probably TRAIN this model on a down-stream task to be able to use it for predictions and inference.\n"
     ]
    }
   ],
   "source": [
    "results = bertscore.compute(predictions=predictions, references=references, lang=\"en\")"
   ]
  },
  {
   "cell_type": "code",
   "execution_count": 15,
   "metadata": {},
   "outputs": [],
   "source": [
    "#results['precision']\n",
    "average_precision = sum(results['precision']) / len(results['precision'])\n",
    "average_recall = sum(results['recall']) / len(results['recall'])\n",
    "average_f1 = sum(results['f1']) / len(results['f1'])\n"
   ]
  },
  {
   "cell_type": "code",
   "execution_count": 16,
   "metadata": {},
   "outputs": [
    {
     "name": "stdout",
     "output_type": "stream",
     "text": [
      "Precision: 0.8751991085111172\n",
      "Recall: 0.8670980976766693\n",
      "F1: 0.8708609987170678\n"
     ]
    }
   ],
   "source": [
    "print(f\"Precision: {average_precision}\")\n",
    "print(f\"Recall: {average_recall}\")\n",
    "print(f\"F1: {average_f1}\")"
   ]
  },
  {
   "cell_type": "code",
   "execution_count": 17,
   "metadata": {},
   "outputs": [
    {
     "name": "stderr",
     "output_type": "stream",
     "text": [
      "[nltk_data] Downloading package wordnet to\n",
      "[nltk_data]     /Users/nevidujayatilleke/nltk_data...\n",
      "[nltk_data]   Package wordnet is already up-to-date!\n",
      "[nltk_data] Downloading package punkt to\n",
      "[nltk_data]     /Users/nevidujayatilleke/nltk_data...\n",
      "[nltk_data]   Package punkt is already up-to-date!\n",
      "[nltk_data] Downloading package omw-1.4 to\n",
      "[nltk_data]     /Users/nevidujayatilleke/nltk_data...\n",
      "[nltk_data]   Package omw-1.4 is already up-to-date!\n"
     ]
    }
   ],
   "source": [
    "meteor = load('meteor')"
   ]
  },
  {
   "cell_type": "code",
   "execution_count": 18,
   "metadata": {},
   "outputs": [],
   "source": [
    "meteor_results = meteor.compute(predictions=predictions, references=references)"
   ]
  },
  {
   "cell_type": "code",
   "execution_count": 19,
   "metadata": {},
   "outputs": [
    {
     "data": {
      "text/plain": [
       "0.3053649062890501"
      ]
     },
     "execution_count": 19,
     "metadata": {},
     "output_type": "execute_result"
    }
   ],
   "source": [
    "meteor_results['meteor']"
   ]
  }
 ],
 "metadata": {
  "kernelspec": {
   "display_name": ".venv",
   "language": "python",
   "name": "python3"
  },
  "language_info": {
   "codemirror_mode": {
    "name": "ipython",
    "version": 3
   },
   "file_extension": ".py",
   "mimetype": "text/x-python",
   "name": "python",
   "nbconvert_exporter": "python",
   "pygments_lexer": "ipython3",
   "version": "3.9.6"
  }
 },
 "nbformat": 4,
 "nbformat_minor": 2
}
