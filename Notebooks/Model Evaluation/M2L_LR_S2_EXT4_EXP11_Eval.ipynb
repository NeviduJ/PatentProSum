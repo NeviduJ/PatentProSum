{
 "cells": [
  {
   "cell_type": "code",
   "execution_count": 1,
   "metadata": {},
   "outputs": [
    {
     "name": "stderr",
     "output_type": "stream",
     "text": [
      "/Users/nevidujayatilleke/Documents/FYP-Abstractive Text Summarization/.venv/lib/python3.9/site-packages/urllib3/__init__.py:35: NotOpenSSLWarning: urllib3 v2 only supports OpenSSL 1.1.1+, currently the 'ssl' module is compiled with 'LibreSSL 2.8.3'. See: https://github.com/urllib3/urllib3/issues/3020\n",
      "  warnings.warn(\n",
      "/Users/nevidujayatilleke/Documents/FYP-Abstractive Text Summarization/.venv/lib/python3.9/site-packages/tqdm/auto.py:21: TqdmWarning: IProgress not found. Please update jupyter and ipywidgets. See https://ipywidgets.readthedocs.io/en/stable/user_install.html\n",
      "  from .autonotebook import tqdm as notebook_tqdm\n"
     ]
    }
   ],
   "source": [
    "import torch\n",
    "from peft import PeftModel, PeftConfig\n",
    "from transformers import AutoModelForSeq2SeqLM, AutoTokenizer"
   ]
  },
  {
   "cell_type": "code",
   "execution_count": 2,
   "metadata": {},
   "outputs": [],
   "source": [
    "#pip install --upgrade peft"
   ]
  },
  {
   "cell_type": "code",
   "execution_count": 3,
   "metadata": {},
   "outputs": [
    {
     "name": "stderr",
     "output_type": "stream",
     "text": [
      "/Users/nevidujayatilleke/Documents/FYP-Abstractive Text Summarization/.venv/lib/python3.9/site-packages/bitsandbytes/cextension.py:34: UserWarning: The installed version of bitsandbytes was compiled without GPU support. 8-bit optimizers, 8-bit multiplication, and GPU quantization are unavailable.\n",
      "  warn(\"The installed version of bitsandbytes was compiled without GPU support. \"\n"
     ]
    },
    {
     "name": "stdout",
     "output_type": "stream",
     "text": [
      "'NoneType' object has no attribute 'cadam32bit_grad_fp32'\n",
      "Peft model loaded\n"
     ]
    }
   ],
   "source": [
    "# Load peft config for pre-trained checkpoint etc.\n",
    "#peft_model_id = \"results\"\n",
    "config = PeftConfig.from_pretrained(\"M2L_LR_S2_EXT4_EXP11_model\")\n",
    "\n",
    "# load base LLM model and tokenizer\n",
    "model = AutoModelForSeq2SeqLM.from_pretrained(config.base_model_name_or_path)\n",
    "tokenizer = AutoTokenizer.from_pretrained(config.base_model_name_or_path)\n",
    "\n",
    "# Load the Lora model\n",
    "model = PeftModel.from_pretrained(model, \"M2L_LR_S2_EXT4_EXP11_model\", use_dora = False, device_map={\"mps\":0}).to(\"mps\")\n",
    "model.eval()\n",
    "\n",
    "print(\"Peft model loaded\")"
   ]
  },
  {
   "cell_type": "code",
   "execution_count": 4,
   "metadata": {},
   "outputs": [],
   "source": [
    "from datasets import load_from_disk, DatasetDict\n",
    "from random import randrange\n",
    "\n",
    "\n",
    "# Load dataset from the hub and get a sample\n",
    "#dataset = load_from_disk('../../Data/Textile_Patent_(70-20-10)_LexRank')\n",
    "dataset = DatasetDict({\n",
    "    'train': load_from_disk('../../Data/Textile_Patent_(70-20-10)_LexRank_thres_3/train'),\n",
    "    'validation': load_from_disk('../../Data/Textile_Patent_(70-20-10)_LexRank_thres_3/validation'),\n",
    "    'test': load_from_disk('../../Data/Textile_Patent_(70-20-10)_LexRank_thres_3/test')\n",
    "})\n",
    "sample = dataset['test'][randrange(len(dataset[\"test\"])-300)]\n"
   ]
  },
  {
   "cell_type": "code",
   "execution_count": 5,
   "metadata": {},
   "outputs": [
    {
     "name": "stdout",
     "output_type": "stream",
     "text": [
      "input sentence: in a third embodiment , the apparel folding device 2 may only comprise three panels , namely , first panel 4 , first side panel 8 and second side panel 10 . in this regard , first side panel 8 may comprise first upper side panel 40 and first lower side panel 42 , as in the first embodiment , or may be a single panel as in the second embodiment . the apparel folding device 2 preferably comprises a first panel 4 , bottom panel 6 , and first 8 and second 10 opposing side panels . if so provided , at least one of the bottom panel , the first side panel , and the second side panel may include a handle member that extends above the surface of the respective panel . at least one of the panel , first side panel or second side panel of the apparel folding device may include a display surface . in the first , and preferred embodiment of the present invention , side panel 10 is comprised of a second upper side panel 80 and second lower side panel 82 . in another embodiment , an apparel folding device comprises a panel having first and second side edges , a first side panel hingedly engaged with the panel along the first side edge , and a second side panel hingedly engaged with the panel along the second side edge . similarly , second side panel 10 may comprise second upper side panel 80 and second lower side panel 82 , as in the first embodiment , or may be a single panel as in the second embodiment . in the first , and preferred embodiment of the present invention , side panel 8 is comprised of a first upper side panel 40 and a first lower side panel 42 . one embodiment of the apparel folding device of the present invention comprises a panel having first and second side edges , a first side panel hingedly engaged with the panel along its first side edge , and a second side panel hingedly engaged with the panel along its second side edge . however , it will be appreciated that second side panel 10 is located adjacent to second edge 16 of first panel 4 . no . no . as with first upper side panel 40 , in the preferred embodiment , the second edge 86 of second upper side panel 80 is raised from the third edge 88 and the first edge 84 . in this regard , first upper side panel 40 and first lower side panel 42 will either not be connected to each other , or will be folded along second edge 46 of first upper side panel 40 and second edge 52 of first lower side panel 42 . in this embodiment , first side panel 8 and second side panel 10 are each formed from a single sheet of material . the first side panel and the second side panel may form apertures therein . the first edge 14 is adjacent to the first side panel 8 , the fourth edge 20 is adjacent to the bottom panel 6 , and the second edge 16 is adjacent to the second side panel 10 . similarly , the second upper side panel and second lower side panel may be hingedly engaged to each other at all times . in other embodiments , the first upper side panel may be separated from the first lower side panel and the second upper side panel may be separated from the second lower side panel . the four side panels 40 , 42 , 80 , 82 may then be placed upon first panel 4 in a stacked configuration . the first lower side panel 42 also comprises a second edge 52 extending perpendicular to the first edge 50 , and adjacent to second edge 46 of first upper side panel 40 . the apertures 96 are typically identical to the apertures 22 of first panel 4 , the apertures 38 of bottom panel 6 , and the apertures 56 of first upper side panel 40 and first lower side panel 42 , although they need not be . this enables second side panel 10 to lie completely flat against first panel 4 and bottom panel 6 , when in its folded condition . as with the previous panels , first upper side panel 40 and first lower side panel 42 also preferably contain a series of apertures 56 . this enables first side panel 8 to lie completely flat against first panel 4 and bottom panel 6 , when in a folded condition . at least one of the first side panel and the second side panel includes a handle member , such as a lipped handle , that extends above the surface of the respective side panels . as previously stated , the first side panel may comprise a first upper side panel and a first lower side panel and the second side panel may comprise a second upper side panel and second lower side panel . the first upper side panel and first lower side panel may be hingedly engaged to each other at all times . for example , in the preferred embodiment , the apparel folding device 2 may be shipped in a box ( not shown ) which is substantially the same size as first panel 4 . an article of apparel may be folded using the apparel folding device by placing the article on the device and successively flipping and unflipping the first side panel , said second side panel and bottom panel . 1a , each of the edges 50 , 52 , 54 , combine to form an essentially square first lower side panel 42 . 1 , adjacent to the first edge 14 of first panel 4 is located first & # 39 ; side panel 8 . in order to connect first upper panel 40 to first lower side panel 42 , the circular apertures 62 are placed above the self locking protrusions 64 . if so provided , at least one of the first side panel and the second side panel may include a cut out adapted to permit the handle member of the bottom panel to protrude therefrom when the respective side panel is folded . this box will be approximately the same size as first side panel 8 and first side panel 10 , as these side panels are not separable . there may also be provided a bottom panel hingedly engaged with the panel along the second side edge . as with the previous panels , second upper side panel 80 and second lower side panel 82 also contain a series of apertures 96 . 1 , the first edge 44 of first upper side panel 40 contains a pair of hinged members 76 a , 76 b . 1 , the second edge 46 of first upper side panel 40 is raised from the third edge 48 and the first edge 44 . for example , depending on the panel material , living hinges may be utilized . the first side panel may comprise a first upper side panel and a first lower side panel and the second side panel may comprise a second upper side panel and a second lower side panel . the first side panel may comprise a first upper side panel and a first lower side panel and a second side panel may comprise a second upper side panel and a second lower side panel . 1 , each of the edges 90 , 92 , 94 combine to form an essentially square second lower side panel 82 . the first upper side panel may also be detached from the first lower side panel and the second upper side panel may also be detached from the second lower side panel . the second upper side panel 80 comprises a first edge 84 located parallel and adjacent to the second edge 16 of first panel 4 . as with first panel 4 , bottom panel 6 also comprises a series of apertures 38 and a display surface 39 . if so provided , the bottom panel may also include a display surface . the panel of the apparel folding device of this embodiment may also comprise first and second end edges . the second lower side panel 82 also comprises a second edge 92 extending perpendicular to the first edge 90 , and adjacent to the second edge 86 of second upper side panel 80 . second side panel 10 is constructed in much the same manner as first side panel 8 . if so provided , the bottom panel may also form apertures therein . by providing such a raised handle 58 , first lower side panel 42 may lie completely flat against a work surface ( not shown ) of course , feet may also be provided . after centering the garment ( not shown ) , the user may successively fold and unfold each side panel 8 , 10 , and then the bottom panel 6 ( if provided ) . each of the three edges 44 , 46 , 48 combine to form an essentially square first upper side panel 40 . the arcuate cutout 60 is preferably provided in first lower side panel 42 so that when the panel 42 is rotated towards first panel 4 and bottom panel 6 , lipped handle 36 of bottom panel 6 may protrude therethrough . the first upper side panel may be hingedly engaged with the first lower side panel and the second upper side panel may be hingedly engaged with the second lower side panel . the self locking protrusion 84 of second lower side panel 82 are identical to the self locking protrusions 64 of first lower side panel 42 , as shown in fig . the first upper side panel may be capable of being connected to the first lower side panel and the second upper side panel may be capable of being connected to the second lower side panel . if so provided , the bottom panel may be capable of being placed upon the panel to facilitate shipping and storage of the apparel folding device . the arcuate cutout 100 is preferably provided in second lower side panel 82 so that when the panel 82 is rotated towards first panel 4 and bottom panel 6 , lipped handle 36 of bottom panel 6 may protrude therethrough . by providing such a raised handle 98 , second lower side panel 82 may lie completely flat against a work surface ( not shown ) , if feet are not provided . 1 , each of the three edges 84 , 86 , 88 combined to form an essentially square second upper side panel 80 . second upper side panel 80 may be connected to second lower side panel 82 by placing the protrusions 104 of the second lower side panel through the circular apertures 102 of the second upper side panel 80 , thus locking the two panels 80 , 82 together . the self-locking protrusions may engage the voids to firmly attach the first upper side panel to the first lower side panel . the apparel folding device may also comprise first and second end edges with a bottom panel hingedly engaged to the panel along its second end edge . the second lower side panel 82 comprises a first edge 90 located parallel and adjacent to the second edge 28 of bottom panel 6 . likewise , second upper side panel 80 and second lower side panel 82 will either be shipped apart from each other , or will be folded together along second edge 86 of second upper side panel 80 and second edge 92 of second lower side panel 82 . first upper side panel 40 may be connected to first lower side panel 42 by placing the protrusions 64 of the first lower side panel through the circular apertures 62 of the first upper side panel 40 . this rotatable engagement permits bottom panel 6 to rotate relative to fourth edge 20 of first panel 4 , when so desired . finally , bottom panel 6 may be similarly placed on the stack . the first lower side panel 42 comprises a first edge 50 located parallel and adjacent to the first edge 26 of bottom panel 6 . this engagement allows second side panel 10 to freely rotate relative the second edge 16 of first panel 4 . the first side panel may also comprise a first upper side panel and a first lower side panel and the second side panel may comprise a second upper side panel and a second lower side panel where the first upper side panel is hingedly engaged with the first lower side panel and the second upper side panel is hingedly engaged with the second lower side panel . the first upper side panel 40 also comprises a second edge 46 extending perpendicular to the first edge 44 . a third edge 18 and opposing fourth edge 20 are oriented transverse to the first and second edges 14 , 16 of the first panel 4 . this engagement allows first side panel 8 to freely rotate relative the first edge 14 of first panel 4 . the first upper side panel 40 comprises a first edge 44 located parallel and adjacent to the first edge 14 of first panel 4 . the first panel 4 comprises a continuous edge 12 . along second edge 52 of first lower side panel 42 are disposed a plurality of self locking protrusions 64 . the first upper side panel and the first lower side panel may be capable of being stacked on one another to form a first stack and the second upper side panel and second lower side panel may be capable of being stacked on one another to form a second stack . the second upper side panel 80 also comprises a second edge 86 extending perpendicular to the first edge 84 . the apertures 56 are typically identical to the apertures 22 of first panel 4 and 38 of bottom panel 6 , although they need not be . referring to the figures , fig . of course , feet may be provided on the bottom of the panels , if so desired . rotatably engaged along the fourth edge 20 of first panel 4 is bottom panel 6 . fig . fig . while fig . in this regard , the lipped handle 36 is designed to enable a user to easily grasp first lower side panel 42 to facilitate rotation of same . by providing such a raised handle 36 , bottom panel 6 may lie completely flat against a work surface ( not shown ) , yet still permit a user to easily grasp it of course , feet capable of lifting the panel 6 may also be provided . the lipped handle 98 is typically crescent-shaped , similar to the lipped handle 36 of bottom panel 6 , and the lipped handle 58 of first lower side panel 42 . bottom panel 6 comprises a first edge 26 and an opposed second edge 28 . further , the display surface 39 of bottom panel 6 is typically similar to the display surface 24 of first panel 4 . the second edge 46 is raised a distance equal to the thickness of first lower side panel 42 , and results in the formation of a raised plateau 61 extending from second edge 46 . the third edge 30 , located adjacent to the fourth edge 20 of first panel 4 , contains a pair of hinged members 34 a and 34 b which rotatably engage receiving hinges 21 c and 21 d of first panel 4 . in this context , the apparel folding device may be constructed of any relatively rigid material such as various plastics , metals , woods , or the like . the apertures 38 are typically identical to the apertures 22 of first panel 4 , although they need not be . the first upper side panel may include a raised plateau forming a plurality of voids and the first lower side panel may include a plurality of self-locking protrusions extending therefrom . an article of apparel may be folded using the apparel folding device by placing the article of apparel on the device and successively flipping and unflipping the first side panel and second side panel . 20 , 2002 , now u.s. pat . first panel 4 also may preferably comprise a display surface 24 . the hinged members 76 a , 76 b of first upper side panel 40 rotatively engage receiving hinges 21 a and 21 b of first panel 4 . in this regard , the lipped handle 98 is designed to enable a user to easily grasp second lower side panel 82 to facilitate rotation of same . 1 depicts a top prospective view of an apparel folding device in accordance with the first embodiment of the present invention , fig . it will be appreciated that in the preferred embodiments , when the panels 80 , 82 are connected , the apparel folding device 2 lays completely flat against a work surface ( not shown ) , when in its open condition . to use the apparel folding device 2 , a user should place the garment , for example a shirt ( not shown ) , on the unfolded device . yet , it is to be understood that this device may be used to fold sweaters , pants , shorts and scarves , among other garments . for purposes of this application , however , the apparel folding device will be referred to as if constructed of plastic . it will be appreciated that when the panels 42 , 44 are connected , the apparel folding device 2 lays completely flat against a work surface ( not shown ) , when in its open condition , unless feet are provided . 2 . apertures 38 , 56 , 96 may also be provided to permit air to flow through the panels 6 ( if provided ) , 8 , 10 . the first stack and second stack may be capable of being placed on the panel to facilitate shipping and storage of the apparel folding device . although the invention has been described as preferably including crescent-shaped lipped handles 36 , 58 , 98 , it will be appreciated that any member which extends beyond the upper surface of the respective panel will suffice . once the undercuts 72 are cleared , the extensions 66 will spring back to their natural state and the undercuts 72 will prevent first upper side panel 40 from becoming separated from first lower side panel 42 as the undercuts are of a greater diameter than the apertures 62 when in their natural , unflexed condition . in the second embodiment , the apparel folding device 2 must be shipped in a larger box . it will be appreciated that to facilitate a user grasping the panels 6 ( if provided ) , 8 , 10 , each is provided with a lipped handle 36 , 58 , 98 . first lower side panel 42 is provided with a lipped handle 58 and an arcuate cutout 60 along its third edge 54 . each extension preferably begins with a first section 68 extending from the first lower side panel 42 and ends with a second section 70 . although shown as slots , the apertures 22 may be in the form of virtually any shape including circles , squares , stars , and the like . along second edge 92 of second lower side panel 82 are disposed a plurality of self locking protrusions 104 . the lipped handle 36 is a crescent shaped member , which rises from the surface of bottom panel 6 . despite these devices , there remains a need for a simple , inexpensive and efficient apparel folding device . the raised plateau may be placed above the first lower side panel in engagement with the self-locking protrusions such that the voids are located completely below the under cuts . the first edge 84 of second upper side panel 80 contains a pair of hinged members 106 a and 106 b . first panel 4 may also preferably contain a series of apertures 22 extending therethrough . the second edge 86 is raised a distance equal to the thickness of the lower side panel 82 , and results in the formation of a raised plateau 101 extending from second edge 86 . as with the previous embodiment , the apparel folding device of the second embodiment lays completely flat when in its opened condition , unless feet are provided . preferably , the hinges are detachable to facilitate shipping of the apparel folding device . as shown in fig . as shown in fig . as shown in fig . as shown in fig . the bottom panel may include a handle member that extends above the surface of the bottom panel . it will be appreciated that this stack may then be placed in a box ( not shown ) which is not substantially larger than first panel 4 . second lower side panel 82 is also preferably provided with a lipped handle 98 and an arcuate cutout 100 along its third edge 94 . the apertures may be dispersed in a uniform pattern , as shown in the figures , or may be randomly dispersed . this prevents the garment from adhering to the panels 6 ( if provided ) , 8 , 10 as they are being unfolded . it will also be appreciated that a single hinge of the types previously discussed , particularly living hinges , may be used . similarly , many types of garments may be folded using this device . each self locking protrusions 64 preferably consists of two extensions 66 extending normal to the upper surface of first lower side panel 42 . however , this application will generally refer to shirts . the first extension may comprise an elongated first extension first section adjacent to the first lower side panel at its proximal end and a first under cut at its distal end . the hinged members 106 a and 106 b of second upper side panel 80 rotatingly engage receiving hinges 21 e and 21 f of first panel 4 . in the personal setting , many homemakers are also desirous of folding shirts quickly , efficiently and in a uniform manner . finally , it is to be understood that although the invention is hereinafter described with two-part hinges , many hinges may be utilized . as will be described hereinafter , the receiving hinges mate with hinged members of the other panels to permit rotation of these other panels relative to the respective edges of the first panel 4 . upon the application of pressure along the plateau 61 of first upper panel 40 , each extension 66 will flex inwards to close gap 74 and the circular apertures will pass over the undercuts 72 to a point adjacent to first section 68 . as is show in fig . in both a commercial and personal setting , it is often desirable to quickly and efficiently fold shirts , for example , in a compact and uniform matter . the first extension and second extension may be separated by a gap . thus , when received by the final customer , a neat and orderly appearance is maintained . for large families , the need for efficiency is increased . by successively folding and unfolding the panels in a predetermined pattern , a user may fold the article . it will be appreciated that the remaining aspects of each of these panels may coincide with those found in the first and second embodiments . the self-locking protrusions may include a first extension and a second extension . this permits the panel to be shipped as two separate pieces , thus reducing the length of the package required to ship the device . along the fourth edge 32 of bottom panel 6 is preferably located lipped handle 36 . the lipped handle 58 is typically crescent shaped , similar to lipped handle 36 of bottom panel 6 . 1 is an exploded perspective view of an apparel folding device in accordance with the first embodiment of the present invention . such placement will lock the two panels 40 , 42 together . typically , this is a result of a single monolithic pour of material . more particularly , the present invention relates to a manually operated device for folding shirts and other articles of apparel in a quick and consistent manner . 1 depicts an exploded perspective view of an apparel folding device in accordance with the first embodiment of the present invention . the continuous edge 12 comprises a first edge 14 and an opposing second edge 16 . in addition , the apertures 22 facilitate the folding of apparel when the apparel folding device is in use by permitting air to flow therethrough . referring back to fig . for example , a commercial silk screener may have an order for a number of shirts in which a particular design may be placed . on each of the first edge 14 , fourth edge 20 , and second edge 16 , there is preferably located a pair of receiving hinges 21 a through 21 f. more particularly , receiving hinges 21 a and 21 b are located on first edge 14 , receiving hinges 21 c and 21 d are located on fourth edge 20 , and receiving hinges 21 e and 21 f are located on second edge 16 . various devices have been created to assist with the folding of garments in a quick , efficient and uniform manner . there also remains a need for an apparel folding device that may be shipped in a compact manner . 3 depicts a prospective view of a folding device in accordance with the second embodiment of the present invention . this is especially true where shirts may be placed on shelves , which are visible to the home & # 39 ; s occupants and guests , but may also be the case where such shirts are to be placed in a drawer . third edge 30 and opposed fourth edge 32 are oriented transverse to the first 26 and second 38 edges . however , this display surface 39 generally includes graphically illustrated instructions designed to teach a user how to use the apparel folding device 2 . this air penetration prevents garments ( not shown ) from adhering to the panel 4 as it is unfolded . it will be appreciated that to achieve the tightest fit possible , the first section 68 of each self locking protrusion 64 is of a length only slightly greater than the thickness of plateau 61 . the lipped handle 36 is designed to enable a user to easily grasp bottom panel 6 to facilitate rotation of same . in the commercial setting , such folding enables employees to quickly set up aesthetically pleasing garment displays . 2 is an enlarged side elevational view of a self locking protrusion of the present invention ; fig . a third edge 88 extends from the end of the second edge 86 opposite to the first edge 84 along an arcuate path and ends at the opposite of first edge 84 . in describing the embodiments illustrated in the drawings , specific terminology will be used for the sake of clarity . prior to packaging and delivering the shirts , it is often desirable to fold the shirts in a uniform manner , perhaps even with the silk screened image exposed . brief description of the drawings fig . the second section 70 contains an undercut 72 . a third edge 48 extends from the end of the second edge 46 opposite to the first edge 44 along an arcuate path and ends at the opposite end of first edge 44 . a third edge 94 extends from the end of the second edge 92 opposite to the first edge 90 along an arcuate path and ends at the opposite end of first edge 90 . a third edge 54 extends from the end of the second edge 52 opposite to the first edge 50 along an arcuate path and ends at the opposite end of first edge 50 . 29/162,790 filed on jun . other hinges contemplated include butt hinges , slip hinges , continuous hinges , flag hinges , liftoff hinges , and many other hinges generally known in the industry . the device consists of a plurality of panels upon which an unfolded garment may be placed . also , it is well known that shoppers routinely disrupt the uniform appearance of folded garments on display while browsing through stores . background of the invention the present invention relates to apparel folding devices . such hinges are commonly known in the industry . however , the invention is not intended to be limited to the specific terms so selected , and it is to be understood that each specific term includes all technical equivalents that operate in a similar manner to accomplish a similar purpose . the display surface may be utilized to display any number of graphical images , but is typically utilized to display the name of the apparel folding device product 2 and information regarding the manufacturer . this will result in the garment ( not shown ) being folded . 3 is a top perspective view of an apparel folding device in accordance with the second embodiment of the present invention ; detailed description of the preferred embodiment in the following is described the embodiments of the apparel folding device of the present invention . the apertures 22 provide weight and material savings while still permitting the panel to have sufficient rigidity for its intended purpose . although the invention herein has been described with reference to particular embodiments , it is to be understood that these embodiments are merely illustrative of the principles and applications of the present invention . the preferred embodiment has the advantage of being shipped in a more compact manner than the second embodiment . it is thus very important for an employee to be able to recompile clothing displays quickly and efficiently , throughout the shopping day . other commercial settings also call for the quick and efficient folding of shirts . plateau 61 contains a plurality of circular apertures 62 . plateau 101 contains a plurality of circular apertures 102 . crescent-shaped lipped handles are merely preferable . between each extension 66 lies a gap 74 . summary of the invention the present invention addresses these needs . 2 depicts a detailed illustration of a self locking protrusion 64 . each self locking protrusion is aligned with an aperture 102 on plateau 101 . d. 475,193 and incorporates the disclosure of same by reference . each self locking protrusion 64 is aligned with an aperture 62 on plateau 61 . it is therefore to be understood that numerous modifications may be made to the illustrative embodiments and that other arrangements may be devised without departing from the spirit and scope of the present invention as defined by the appended claims . they provide the ability to flex repeatedly without the use of a mechanical hinge . cross-reference to related applications this application is a continuation-in-part of and claims the benefit of application ser . they are generally created by the placement of a thin portion of material bridging two heavier portions of the same material .\n",
      "------------------------------------------------------------\n",
      "summary:\n",
      "An apparel folding device comprises a panel having first and second side edges. The panel includes a first side panel hingedly engaged with the panel along its first side edge, and a second side panel that is hingededly engaged to each other along its second side edge. At least one of the bottom panel, the top panel, and the second side panels may include a handle member that extends above the surface of the respective panel.\n"
     ]
    }
   ],
   "source": [
    "input_ids = tokenizer(sample[\"description\"], return_tensors=\"pt\", truncation=True).input_ids.to(\"mps\")\n",
    "# with torch.inference_mode():\n",
    "outputs = model.generate(input_ids=input_ids, max_new_tokens=512, do_sample=True, top_p=0.9)\n",
    "print(f\"input sentence: {sample['description']}\\n{'---'* 20}\")\n",
    "\n",
    "print(f\"summary:\\n{tokenizer.batch_decode(outputs.detach().cpu().numpy(), skip_special_tokens=True)[0]}\")"
   ]
  },
  {
   "cell_type": "code",
   "execution_count": 6,
   "metadata": {},
   "outputs": [
    {
     "data": {
      "text/plain": [
       "tensor([[    2,     0,  4688, 14710, 29556,  2187, 16755,    10,  2798,   519,\n",
       "            78,     8,   200,   526, 15716,     4,    20,  2798,  1171,    10,\n",
       "            78,   526,  2798,  1368, 25963,   352,  4009,    19,     5,  2798,\n",
       "           552,    63,    78,   526,  3543,     6,     8,    10,   200,   526,\n",
       "          2798,    14,    16,  1368, 25963,   196,   352,  4009,     7,   349,\n",
       "            97,   552,    63,   200,   526,  3543,     4,   497,   513,    65,\n",
       "             9,     5,  2576,  2798,     6,     5,   299,  2798,     6,     8,\n",
       "             5,   200,   526,  9217,   189,   680,    10,  3679,   919,    14,\n",
       "         14269,  1065,     5,  4084,     9,     5,  7091,  2798,     4,     2]],\n",
       "       device='mps:0')"
      ]
     },
     "execution_count": 6,
     "metadata": {},
     "output_type": "execute_result"
    }
   ],
   "source": [
    "outputs"
   ]
  },
  {
   "cell_type": "code",
   "execution_count": 7,
   "metadata": {},
   "outputs": [
    {
     "name": "stderr",
     "output_type": "stream",
     "text": [
      "huggingface/tokenizers: The current process just got forked, after parallelism has already been used. Disabling parallelism to avoid deadlocks...\n",
      "To disable this warning, you can either:\n",
      "\t- Avoid using `tokenizers` before the fork if possible\n",
      "\t- Explicitly set the environment variable TOKENIZERS_PARALLELISM=(true | false)\n"
     ]
    }
   ],
   "source": [
    "import evaluate\n",
    "import numpy as np\n",
    "from datasets import load_from_disk\n",
    "from tqdm import tqdm\n",
    "\n",
    "# Metric\n",
    "metric = evaluate.load(\"rouge\")\n",
    "\n",
    "def evaluate_peft_model(sample,max_target_length=512):\n",
    "    # generate summary\n",
    "    outputs = model.generate(input_ids=sample[\"input_ids\"].unsqueeze(0).to(\"mps\"), do_sample=True, top_p=0.9, max_new_tokens=max_target_length)\n",
    "    prediction = tokenizer.decode(outputs[0].detach().cpu().numpy(), skip_special_tokens=True)\n",
    "    # decode eval sample\n",
    "    # Replace -100 in the labels as we can't decode them.\n",
    "    labels = np.where(sample['labels'] != -100, sample['labels'], tokenizer.pad_token_id)\n",
    "    labels = tokenizer.decode(labels, skip_special_tokens=True)\n",
    "\n",
    "    # Some simple post-processing\n",
    "    return prediction, labels"
   ]
  },
  {
   "cell_type": "code",
   "execution_count": 8,
   "metadata": {},
   "outputs": [
    {
     "name": "stderr",
     "output_type": "stream",
     "text": [
      "100%|██████████| 2259/2259 [4:40:21<00:00,  7.45s/it]  \n"
     ]
    },
    {
     "name": "stdout",
     "output_type": "stream",
     "text": [
      "Rogue1: 45.895532%\n",
      "rouge2: 21.488772%\n",
      "rougeL: 31.429787%\n",
      "rougeLsum: 31.587867%\n"
     ]
    }
   ],
   "source": [
    "# load test dataset from distk\n",
    "test_dataset = load_from_disk(\"./tokenized_data_S2_EXT4_M2L/test\").with_format(\"torch\")\n",
    "\n",
    "# run predictions\n",
    "# this can take ~45 minutes\n",
    "predictions, references = [] , []\n",
    "for sample in tqdm(test_dataset):\n",
    "    p,l = evaluate_peft_model(sample)\n",
    "    predictions.append(p)\n",
    "    references.append(l)\n",
    "\n",
    "# compute metric\n",
    "rogue = metric.compute(predictions=predictions, references=references, use_stemmer=True)\n",
    "\n",
    "# print results\n",
    "print(f\"Rogue1: {rogue['rouge1']* 100:2f}%\")\n",
    "print(f\"rouge2: {rogue['rouge2']* 100:2f}%\")\n",
    "print(f\"rougeL: {rogue['rougeL']* 100:2f}%\")\n",
    "print(f\"rougeLsum: {rogue['rougeLsum']* 100:2f}%\")\n",
    "\n",
    "# Rogue1: 50.386161%\n",
    "# rouge2: 24.842412%\n",
    "# rougeL: 41.370130%\n",
    "# rougeLsum: 41.394230%"
   ]
  },
  {
   "cell_type": "code",
   "execution_count": 9,
   "metadata": {},
   "outputs": [],
   "source": [
    "# Extracting Rouge scores\n",
    "rouge1_score = rogue['rouge1'] * 100\n",
    "rouge2_score = rogue['rouge2'] * 100\n",
    "rougeL_score = rogue['rougeL'] * 100\n",
    "rougeLsum_score = rogue['rougeLsum'] * 100\n",
    "\n",
    "# Plotting the Rouge scores\n",
    "labels = ['Rouge-1', 'Rouge-2', 'Rouge-L', 'Rouge-Lsum']\n",
    "scores = [rouge1_score, rouge2_score, rougeL_score, rougeLsum_score]"
   ]
  },
  {
   "cell_type": "code",
   "execution_count": 10,
   "metadata": {},
   "outputs": [
    {
     "data": {
      "text/plain": [
       "(0.0, 100.0)"
      ]
     },
     "execution_count": 10,
     "metadata": {},
     "output_type": "execute_result"
    },
    {
     "data": {
      "image/png": "[encoded data removed]",
      "text/plain": [
       "<Figure size 1000x600 with 1 Axes>"
      ]
     },
     "metadata": {},
     "output_type": "display_data"
    }
   ],
   "source": [
    "import matplotlib.pyplot as plt\n",
    "\n",
    "plt.figure(figsize=(10, 6))\n",
    "plt.bar(labels, scores, color=['blue', 'green', 'orange', 'red'])\n",
    "plt.ylabel('Rouge Score (%)')\n",
    "plt.title('Rouge Scores for Bart model with LoRA (Split 2)')\n",
    "plt.ylim(0, 100)"
   ]
  },
  {
   "cell_type": "code",
   "execution_count": 11,
   "metadata": {},
   "outputs": [],
   "source": [
    "from evaluate import load\n",
    "bertscore = load(\"bertscore\")"
   ]
  },
  {
   "cell_type": "code",
   "execution_count": 12,
   "metadata": {},
   "outputs": [
    {
     "name": "stderr",
     "output_type": "stream",
     "text": [
      "Some weights of RobertaModel were not initialized from the model checkpoint at roberta-large and are newly initialized: ['roberta.pooler.dense.bias', 'roberta.pooler.dense.weight']\n",
      "You should probably TRAIN this model on a down-stream task to be able to use it for predictions and inference.\n"
     ]
    }
   ],
   "source": [
    "results = bertscore.compute(predictions=predictions, references=references, lang=\"en\")"
   ]
  },
  {
   "cell_type": "code",
   "execution_count": 13,
   "metadata": {},
   "outputs": [],
   "source": [
    "#results['precision']\n",
    "average_precision = sum(results['precision']) / len(results['precision'])\n",
    "average_recall = sum(results['recall']) / len(results['recall'])\n",
    "average_f1 = sum(results['f1']) / len(results['f1'])"
   ]
  },
  {
   "cell_type": "code",
   "execution_count": 14,
   "metadata": {},
   "outputs": [
    {
     "name": "stdout",
     "output_type": "stream",
     "text": [
      "Precision: 0.8720625860071541\n",
      "Recall: 0.8664606412251791\n",
      "F1: 0.8689782502588945\n"
     ]
    }
   ],
   "source": [
    "print(f\"Precision: {average_precision}\")\n",
    "print(f\"Recall: {average_recall}\")\n",
    "print(f\"F1: {average_f1}\")"
   ]
  },
  {
   "cell_type": "code",
   "execution_count": null,
   "metadata": {},
   "outputs": [],
   "source": []
  }
 ],
 "metadata": {
  "kernelspec": {
   "display_name": ".venv",
   "language": "python",
   "name": "python3"
  },
  "language_info": {
   "codemirror_mode": {
    "name": "ipython",
    "version": 3
   },
   "file_extension": ".py",
   "mimetype": "text/x-python",
   "name": "python",
   "nbconvert_exporter": "python",
   "pygments_lexer": "ipython3",
   "version": "3.9.6"
  }
 },
 "nbformat": 4,
 "nbformat_minor": 2
}
