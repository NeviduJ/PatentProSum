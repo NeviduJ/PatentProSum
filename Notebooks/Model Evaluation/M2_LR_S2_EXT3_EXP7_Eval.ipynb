{
 "cells": [
  {
   "cell_type": "code",
   "execution_count": 1,
   "metadata": {},
   "outputs": [
    {
     "name": "stderr",
     "output_type": "stream",
     "text": [
      "/Users/nevidujayatilleke/Documents/FYP-Abstractive Text Summarization/.venv/lib/python3.9/site-packages/urllib3/__init__.py:35: NotOpenSSLWarning: urllib3 v2 only supports OpenSSL 1.1.1+, currently the 'ssl' module is compiled with 'LibreSSL 2.8.3'. See: https://github.com/urllib3/urllib3/issues/3020\n",
      "  warnings.warn(\n",
      "/Users/nevidujayatilleke/Documents/FYP-Abstractive Text Summarization/.venv/lib/python3.9/site-packages/tqdm/auto.py:21: TqdmWarning: IProgress not found. Please update jupyter and ipywidgets. See https://ipywidgets.readthedocs.io/en/stable/user_install.html\n",
      "  from .autonotebook import tqdm as notebook_tqdm\n"
     ]
    }
   ],
   "source": [
    "import torch\n",
    "from peft import PeftModel, PeftConfig\n",
    "from transformers import AutoModelForSeq2SeqLM, AutoTokenizer"
   ]
  },
  {
   "cell_type": "code",
   "execution_count": 2,
   "metadata": {},
   "outputs": [],
   "source": [
    "# pip install nltk rouge_score"
   ]
  },
  {
   "cell_type": "code",
   "execution_count": 3,
   "metadata": {},
   "outputs": [
    {
     "name": "stdout",
     "output_type": "stream",
     "text": [
      "'NoneType' object has no attribute 'cadam32bit_grad_fp32'\n",
      "Peft model loaded\n"
     ]
    },
    {
     "name": "stderr",
     "output_type": "stream",
     "text": [
      "/Users/nevidujayatilleke/Documents/FYP-Abstractive Text Summarization/.venv/lib/python3.9/site-packages/bitsandbytes/cextension.py:34: UserWarning: The installed version of bitsandbytes was compiled without GPU support. 8-bit optimizers, 8-bit multiplication, and GPU quantization are unavailable.\n",
      "  warn(\"The installed version of bitsandbytes was compiled without GPU support. \"\n"
     ]
    }
   ],
   "source": [
    "# Load peft config for pre-trained checkpoint etc.\n",
    "#peft_model_id = \"results\"\n",
    "config = PeftConfig.from_pretrained(\"M2_LR_S2_EXT3_EXP7_model\")\n",
    "\n",
    "# load base LLM model and tokenizer\n",
    "model = AutoModelForSeq2SeqLM.from_pretrained(config.base_model_name_or_path)\n",
    "tokenizer = AutoTokenizer.from_pretrained(config.base_model_name_or_path)\n",
    "\n",
    "# Load the Lora model\n",
    "model = PeftModel.from_pretrained(model, \"M2_LR_S2_EXT3_EXP7_model\", device_map={\"\":0})\n",
    "model.eval()\n",
    "\n",
    "print(\"Peft model loaded\")"
   ]
  },
  {
   "cell_type": "code",
   "execution_count": 4,
   "metadata": {},
   "outputs": [],
   "source": [
    "from datasets import load_from_disk, DatasetDict\n",
    "from random import randrange\n",
    "\n",
    "\n",
    "# Load dataset from the hub and get a sample\n",
    "#dataset = load_from_disk('../../Data/Textile_Patent_(70-20-10)_LexRank')\n",
    "dataset = DatasetDict({\n",
    "    'train': load_from_disk('../../Data/Textile_Patent_(70-20-10)_LexRank_thres_2/train'),\n",
    "    'validation': load_from_disk('../../Data/Textile_Patent_(70-20-10)_LexRank_thres_2/validation'),\n",
    "    'test': load_from_disk('../../Data/Textile_Patent_(70-20-10)_LexRank_thres_2/test')\n",
    "})\n",
    "sample = dataset['test'][randrange(len(dataset[\"test\"])-300)]\n"
   ]
  },
  {
   "cell_type": "code",
   "execution_count": 5,
   "metadata": {},
   "outputs": [
    {
     "name": "stdout",
     "output_type": "stream",
     "text": [
      "input sentence: in the skipped-stitch position of the control lever defined by the program , the control roll 11 thereof presses the disengaging lever 12 and , thereby , the coupling pin 15b out of its engagement with the needle bar 10 . no . it has a coupling device which , by means of a control lever 8a , 8b can be engaged with and released from the needle bar 10 independently of the lateral swing-out position of the latter . the bolt is in operable engagement with a disengaging lever which , independently of the lateral position of the needle bar in the upper section of its path of motion , is operated by a program-controlled control lever in the direction of disengagement of the needle bar . 1 , in which the double-armed lever 3a , 3b is in the position of engagement by means of the cam 4a , the sensing arm 3a follows the peripheral depression of the program cam plate 2 which corresponds to the release of the needle bar 10 . the locking is cancelled out when the control lever 8a , 8b is swiveled back to the position which enables the driver to be coupled with the needle bar . the spring-loaded bolt on the needle bar driver with a disengaging lever constitutes only a slight mass which is to be moved along with the needle bar , and a special advantage resides in the fact that the disengaged needle bar is constrained , that is to say , is positively held in its upper final position by a pawl and not , for example , through friction . when the driver 13 , which carries the now-released disengaging lever 12 , with the spring-loaded pin 15b is flush with hole 10a of the released needle bar 10 , the driver 13 is positively coupled with the needle bar 10 . consequently , during the upward motion of the driver 13 and , thereby , of the needle 10 coupled therewith through the spring-loaded piston 15 , the lifting flank 12a of the disengaging lever moves against the control roll 11 so that this disengaging lever is swiveled to the position indicated by the broken lines in fig . the coupling member is a horizontally-disposed swiveling lever which , in order to couple the needle bar with the driver , engages in a slot in the needle bar when the latter is in a given lateral swing position ( zigzag stitch ) . 1 , the notch 19 engages the lower pawl area 17a during the upward movement of the needle bar and practically , simultaneously with the release of the latter , and the needle bar 10 remains positively locked in its upper final position . therefore , an object of the present invention is to provide a skipped-stitch mechanism of the type referred to above which , independently of the swing-out position of the needle bar , enables the release of the positive coupling of the needle bar with the driver and simultaneously produces a positive locking of the disengaged needle bar in its upper final position . if the skipped-stitch mechanism is to be switched off , the lever arm 3b is lifted to the higher section of the cam 4a by means of the control knob 4b , thereby preventing the sensing arm 3a from sinking into the depressed portion of the program cam plate 2 , which causes the release of the needle bar . 1 . 1 . advantageously , this pin has a conical configuration in order to ensure clearance-free coupling with the needle bar 10 . this leads to the swiveled position of the control lever 8a , 8b indicated by the solid lines in fig . this causes the control lever 8a , 8b to be swiveled to the position indicated by the dotted lines in fig . in this way , not only is control roll 11 moved out of the path of motion of the disengaging lever 12 but also the bolt 20 presses through arm 17b of pawl 17 , the catch arm 17a out of its engagement with notch 19 of the needle bar 10 . the control lever 8a , 8b swings around an axis 9 and can follow each lateral position of the needle bar 10 via mechanical or electromechanical means not shown in detail . the disengaging lever 12 coacts with a control roll 11 of the control lever 8a , 8b . lug 12b of the disengaging lever 12 presses the piston 15 with its pin 15b against the action of the spring 16 out of engagement with the needle bar 10 , thereby releasing the latter . aside from the fact that the coupling slot weakens the needle bar , this mechanism has the considerable drawback that during the lifter motion of the needle bar the disengaged coupling lever wipes over the control arm and the friction pad provided for the locking of the bar exerts a continuous braking action . to this end , the skipped-stitch mechanism according to the present invention is characterized in that the coupling device is provided with a spring-loaded bolt positioned on the needle bar drive and engaged in a hole in the needle bar . as the program cam plate 2 rotates further , the sensing arm 3a moves against the higher area of the peripheral surface of the cam plate 2 , and the double-armed lever 3a , 3b and , thereby , the guide 6 , are swiveled accordingly ( in clockwise direction in fig . thus , in summary , the skipped-stitch mechanism is controlled by means of a program cam plate 2 via levers 3a , 6 , 8a and 6b . background and summary of the invention the present invention is directed to a skipped-stitch mechanism on a sewing machine having a needle bar oscillating in a longitudinal direction , a control device for producing lateral swing-out motions of the needle bar in order to make different zigzag stitches , and a coupling device coacting with the needle bar and operated by a second control device so as to intermittently separate the needle bar from its driving member under the control of a program device in order to skip the stitching . it should also be recognized that a radial bore in the needle bar , which enables the pin to be engaged , does not weaken the needle bar nearly as much as a radial slot as utilized in the prior art . it is essential that the disengagement occur immediately independently of the lateral position of the needle bar , which changes during the zigzag stitching . thus , during this section of the program ( represented in fig . 3 . as shown in fig . the control lever acts simultaneously in its position of disengagement on a pawl provided for the disengaged needle bar and placed on the housing of the sewing machine in order to hold the needle bar in its upper final position . the other arm 3b of this spring-loaded lever coacts with a cam 4a which , by means of a control knob 4b , can bring the sensing arm 3a in or out of engagement with the program cam plate 2 in order to engage or disengage the skipped-stitch mechanism . since in this position of the control lever 8a , 8b the pawl 17 is into engagement with the pin 20 by means of the spring 18 to the catch position indicated by the solid lines in fig . furthermore , a double-armed pawl 17 is swivel-mounted in the upper section of the machine frame 1 and is loaded by a spring 18 in the direction of its catch position in which the lower pawl arm 17a can fall into a noch 19 provided on the needle bar 10 , while a disengaging pin 20 provided on the control lever arm 8b can coact with the upper pawl arm 17b . 1,683,029 . 1 ; and fig . the needle bar 10 is simultaneously locked in its upper final position by a pawl 17 . 1 ) . the guide 6 is operatively connected with one arm 8a of a double-armed control lever 8a , 8b . 1 in which the control roll 11 projects into the path of motion of the disengaging lever 12 coupled with the needle driver 13 . the appropriate locking of the needle bar is effected through friction . detailed description of the invention in the housing of the sewing machine there is arranged , with a horizontal axis of rotation , a program cam plate 2 , with a peripheral surface corresponding to the control program for the stitch skipping . 2 , at least one more program cam plate 2a may be provided with another peripheral surface utilizing a knob 5a on the shaft 5 which is spring-loaded in an axial direction , or alternatively , the double-armed lever 3a , 3b can be operatively connected with either the program cam plate 2 or 2a . the coupling pin 15b is designed to engage a matching radial hole 10a in the needle bar 10 . the hollow piston 15 has a coupling pin 15b at the end thereof turned toward the needle bar 10 . 1 is a side view of the mechanism with the coupling and control devices ; fig . the free end of the control lever arm 8b projecting downward in the area of the needle bar 10 carries a control roll 11 which is designed to coact with a disengaging lever 12 having a lifting flank 12a for the control roll 11 . a guide 6 is attached to the swiveling shaft 5 of the double-armed lever 3a , 3b . the coupling device has a spring-loaded piston pin 15 carried on the driver 13 and has a coupling pin 15b which engages in a hole 10a of the needle bar . the piston 15 is loaded in the direction of the coupling engagement with the needle bar 10 by means of a spring 16 supported on the cylinder cover 14a . 2 is a plan view of fig . the invention being thus described , it will be obvious that the same may be varied in many ways . another drawback is the release of the coupling on only one side of the swinging motion of the needle . the disengaging lever 12 is swivel-mounted on a cylinder 14 arranged in the needle bar driver 13 in an axial plane through the needle bar 10 and reaches with a lug through a slot of the cylinder 14 into a recess 15a of a piston 15 carried in a cylinder 14 . the peripheral surface is traced by sensing arm 3a of the double-armed lever . this is appropriately accomplished by means of the zigzag control device . a disengaging lever 12 arranged on the driver engages with a lug 12b in a recess 15a of the piston pin 15 . 1 by the depressed cam section of the program cam plate 2 ) no stitching takes place . the operation of the skipped-stitch mechanism can be described as follows : if the initial position is that of the individual elements shown in fig . 3 shows the coupling device on a larger scale and in an axial section perpendicular to the plane of the drawing in fig . brief description of the drawings the present invention will become more fully understood from the detailed description given hereinbelow and the accompanying drawings which are given by way of illustration only , and thus are not limitative of the present invention , and wherein : fig . skip-stitch mechanisms are well known in the art . one embodiment is exemplified by west german pat . such variations are not to be regarded as a departure from the spirit and scope of the invention , and all such modifications as would be obvious to one skilled in the art are intended to be included within the scope of the following claims .\n",
      "------------------------------------------------------------\n",
      "summary:\n",
      "A skipped-stitch mechanism of the type referred to above which, independently of the swing-out position of the needle bar, enables the release of the positive coupling of a needle bar with the driver and simultaneously produces a positive locking of the disengaged needle bar in its upper final position.\n"
     ]
    }
   ],
   "source": [
    "input_ids = tokenizer(sample[\"description\"], return_tensors=\"pt\", truncation=True).input_ids.cpu()\n",
    "# with torch.inference_mode():\n",
    "outputs = model.generate(input_ids=input_ids, max_new_tokens=512, do_sample=True, top_p=0.9)\n",
    "print(f\"input sentence: {sample['description']}\\n{'---'* 20}\")\n",
    "\n",
    "print(f\"summary:\\n{tokenizer.batch_decode(outputs.detach().cpu().numpy(), skip_special_tokens=True)[0]}\")"
   ]
  },
  {
   "cell_type": "code",
   "execution_count": 6,
   "metadata": {},
   "outputs": [
    {
     "data": {
      "text/plain": [
       "tensor([[    2,     0,   250, 22904,    12,   620,  3239,  9562,     9,     5,\n",
       "          1907,  4997,     7,  1065,    61,     6, 12672,     9,     5,  7021,\n",
       "            12,   995,   737,     9,     5, 19012,  2003,     6,  9849,     5,\n",
       "           800,     9,     5,  1313, 43437,     9,    10, 19012,  2003,    19,\n",
       "             5,  1393,     8, 11586,  9108,    10,  1313, 22678,     9,     5,\n",
       "         35170,  4628, 19012,  2003,    11,    63,  2853,   507,   737,     4,\n",
       "             2]])"
      ]
     },
     "execution_count": 6,
     "metadata": {},
     "output_type": "execute_result"
    }
   ],
   "source": [
    "outputs"
   ]
  },
  {
   "cell_type": "code",
   "execution_count": 7,
   "metadata": {},
   "outputs": [
    {
     "name": "stderr",
     "output_type": "stream",
     "text": [
      "huggingface/tokenizers: The current process just got forked, after parallelism has already been used. Disabling parallelism to avoid deadlocks...\n",
      "To disable this warning, you can either:\n",
      "\t- Avoid using `tokenizers` before the fork if possible\n",
      "\t- Explicitly set the environment variable TOKENIZERS_PARALLELISM=(true | false)\n"
     ]
    }
   ],
   "source": [
    "import evaluate\n",
    "import numpy as np\n",
    "from datasets import load_from_disk\n",
    "from tqdm import tqdm\n",
    "\n",
    "# Metric\n",
    "metric = evaluate.load(\"rouge\")\n",
    "\n",
    "def evaluate_peft_model(sample,max_target_length=512):\n",
    "    # generate summary\n",
    "    outputs = model.generate(input_ids=sample[\"input_ids\"].unsqueeze(0).cpu(), do_sample=True, top_p=0.9, max_new_tokens=max_target_length)\n",
    "    prediction = tokenizer.decode(outputs[0].detach().cpu().numpy(), skip_special_tokens=True)\n",
    "    # decode eval sample\n",
    "    # Replace -100 in the labels as we can't decode them.\n",
    "    labels = np.where(sample['labels'] != -100, sample['labels'], tokenizer.pad_token_id)\n",
    "    labels = tokenizer.decode(labels, skip_special_tokens=True)\n",
    "\n",
    "    # Some simple post-processing\n",
    "    return prediction, labels"
   ]
  },
  {
   "cell_type": "code",
   "execution_count": 8,
   "metadata": {},
   "outputs": [
    {
     "name": "stderr",
     "output_type": "stream",
     "text": [
      "100%|██████████| 2259/2259 [11:50:17<00:00, 18.87s/it]    \n"
     ]
    },
    {
     "name": "stdout",
     "output_type": "stream",
     "text": [
      "Rogue1: 43.394700%\n",
      "rouge2: 20.110748%\n",
      "rougeL: 30.554721%\n",
      "rougeLsum: 30.673849%\n"
     ]
    }
   ],
   "source": [
    "# load test dataset from distk\n",
    "test_dataset = load_from_disk(\"./tokenized_data_S2_EXT3/test\").with_format(\"torch\")\n",
    "\n",
    "# run predictions\n",
    "# this can take ~45 minutes\n",
    "predictions, references = [] , []\n",
    "for sample in tqdm(test_dataset):\n",
    "    p,l = evaluate_peft_model(sample)\n",
    "    predictions.append(p)\n",
    "    references.append(l)\n",
    "\n",
    "# compute metric\n",
    "rogue = metric.compute(predictions=predictions, references=references, use_stemmer=True)\n",
    "\n",
    "# print results\n",
    "print(f\"Rogue1: {rogue['rouge1']* 100:2f}%\")\n",
    "print(f\"rouge2: {rogue['rouge2']* 100:2f}%\")\n",
    "print(f\"rougeL: {rogue['rougeL']* 100:2f}%\")\n",
    "print(f\"rougeLsum: {rogue['rougeLsum']* 100:2f}%\")\n",
    "\n",
    "# Rogue1: 50.386161%\n",
    "# rouge2: 24.842412%\n",
    "# rougeL: 41.370130%\n",
    "# rougeLsum: 41.394230%"
   ]
  },
  {
   "cell_type": "code",
   "execution_count": 9,
   "metadata": {},
   "outputs": [],
   "source": [
    "# Extracting Rouge scores\n",
    "rouge1_score = rogue['rouge1'] * 100\n",
    "rouge2_score = rogue['rouge2'] * 100\n",
    "rougeL_score = rogue['rougeL'] * 100\n",
    "rougeLsum_score = rogue['rougeLsum'] * 100\n",
    "\n",
    "# Plotting the Rouge scores\n",
    "labels = ['Rouge-1', 'Rouge-2', 'Rouge-L', 'Rouge-Lsum']\n",
    "scores = [rouge1_score, rouge2_score, rougeL_score, rougeLsum_score]"
   ]
  },
  {
   "cell_type": "code",
   "execution_count": 10,
   "metadata": {},
   "outputs": [
    {
     "data": {
      "text/plain": [
       "(0.0, 100.0)"
      ]
     },
     "execution_count": 10,
     "metadata": {},
     "output_type": "execute_result"
    },
    {
     "data": {
      "image/png": "[encoded data removed]",
      "text/plain": [
       "<Figure size 1000x600 with 1 Axes>"
      ]
     },
     "metadata": {},
     "output_type": "display_data"
    }
   ],
   "source": [
    "import matplotlib.pyplot as plt\n",
    "\n",
    "plt.figure(figsize=(10, 6))\n",
    "plt.bar(labels, scores, color=['blue', 'green', 'orange', 'red'])\n",
    "plt.ylabel('Rouge Score (%)')\n",
    "plt.title('Rouge Scores for Bart model with LoRA (Split 2)')\n",
    "plt.ylim(0, 100)"
   ]
  },
  {
   "cell_type": "code",
   "execution_count": null,
   "metadata": {},
   "outputs": [],
   "source": []
  }
 ],
 "metadata": {
  "kernelspec": {
   "display_name": ".venv",
   "language": "python",
   "name": "python3"
  },
  "language_info": {
   "codemirror_mode": {
    "name": "ipython",
    "version": 3
   },
   "file_extension": ".py",
   "mimetype": "text/x-python",
   "name": "python",
   "nbconvert_exporter": "python",
   "pygments_lexer": "ipython3",
   "version": "3.9.6"
  }
 },
 "nbformat": 4,
 "nbformat_minor": 2
}
