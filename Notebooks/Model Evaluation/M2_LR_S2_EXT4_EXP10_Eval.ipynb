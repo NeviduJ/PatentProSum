{
 "cells": [
  {
   "cell_type": "code",
   "execution_count": 1,
   "metadata": {},
   "outputs": [
    {
     "name": "stderr",
     "output_type": "stream",
     "text": [
      "/Users/nevidujayatilleke/Documents/FYP-Abstractive Text Summarization/.venv/lib/python3.9/site-packages/urllib3/__init__.py:35: NotOpenSSLWarning: urllib3 v2 only supports OpenSSL 1.1.1+, currently the 'ssl' module is compiled with 'LibreSSL 2.8.3'. See: https://github.com/urllib3/urllib3/issues/3020\n",
      "  warnings.warn(\n",
      "/Users/nevidujayatilleke/Documents/FYP-Abstractive Text Summarization/.venv/lib/python3.9/site-packages/tqdm/auto.py:21: TqdmWarning: IProgress not found. Please update jupyter and ipywidgets. See https://ipywidgets.readthedocs.io/en/stable/user_install.html\n",
      "  from .autonotebook import tqdm as notebook_tqdm\n"
     ]
    }
   ],
   "source": [
    "import torch\n",
    "from peft import PeftModel, PeftConfig\n",
    "from transformers import AutoModelForSeq2SeqLM, AutoTokenizer"
   ]
  },
  {
   "cell_type": "code",
   "execution_count": 2,
   "metadata": {},
   "outputs": [],
   "source": [
    "#pip install --upgrade peft"
   ]
  },
  {
   "cell_type": "code",
   "execution_count": 3,
   "metadata": {},
   "outputs": [
    {
     "name": "stdout",
     "output_type": "stream",
     "text": [
      "'NoneType' object has no attribute 'cadam32bit_grad_fp32'\n",
      "Peft model loaded\n"
     ]
    },
    {
     "name": "stderr",
     "output_type": "stream",
     "text": [
      "/Users/nevidujayatilleke/Documents/FYP-Abstractive Text Summarization/.venv/lib/python3.9/site-packages/bitsandbytes/cextension.py:34: UserWarning: The installed version of bitsandbytes was compiled without GPU support. 8-bit optimizers, 8-bit multiplication, and GPU quantization are unavailable.\n",
      "  warn(\"The installed version of bitsandbytes was compiled without GPU support. \"\n"
     ]
    }
   ],
   "source": [
    "# Load peft config for pre-trained checkpoint etc.\n",
    "#peft_model_id = \"results\"\n",
    "config = PeftConfig.from_pretrained(\"M2_LR_S2_EXT3_EXP10_model\")\n",
    "\n",
    "# load base LLM model and tokenizer\n",
    "model = AutoModelForSeq2SeqLM.from_pretrained(config.base_model_name_or_path)\n",
    "tokenizer = AutoTokenizer.from_pretrained(config.base_model_name_or_path)\n",
    "\n",
    "# Load the Lora model\n",
    "model = PeftModel.from_pretrained(model, \"M2_LR_S2_EXT3_EXP10_model\", use_dora = False, device_map={\"\":0})\n",
    "model.eval()\n",
    "\n",
    "print(\"Peft model loaded\")"
   ]
  },
  {
   "cell_type": "code",
   "execution_count": 4,
   "metadata": {},
   "outputs": [],
   "source": [
    "from datasets import load_from_disk, DatasetDict\n",
    "from random import randrange\n",
    "\n",
    "\n",
    "# Load dataset from the hub and get a sample\n",
    "#dataset = load_from_disk('../../Data/Textile_Patent_(70-20-10)_LexRank')\n",
    "dataset = DatasetDict({\n",
    "    'train': load_from_disk('../../Data/Textile_Patent_(70-20-10)_LexRank_thres_3/train'),\n",
    "    'validation': load_from_disk('../../Data/Textile_Patent_(70-20-10)_LexRank_thres_3/validation'),\n",
    "    'test': load_from_disk('../../Data/Textile_Patent_(70-20-10)_LexRank_thres_3/test')\n",
    "})\n",
    "sample = dataset['test'][randrange(len(dataset[\"test\"])-300)]\n"
   ]
  },
  {
   "cell_type": "code",
   "execution_count": 5,
   "metadata": {},
   "outputs": [
    {
     "name": "stdout",
     "output_type": "stream",
     "text": [
      "input sentence: fig . fig . fig . fig . each groove or channel 30 receives an edge portion of the flexible member or sidewall 17 of the drum 16 , as shown in fig . 2 . 2 . 2 . 2 . summary of the invention a dryer drum is defined by an endless flexible wall member in combination with front and rear bulkheads of the cabinet , thus facilitating a drum which is not limited to a cylindrical shape . thus as the drum rotates baffles 18 , which may be attached to wall member 17 , carry items being dried from the bottom to the upper portion of the drum and allow them to fall once again to the bottom . 3 and fig . second , an elliptical drum can provide for a larger higher access opening to the drum as can be seen in fig . 3 . 3 . 3 . 2 and 3 the member 17 extends substantially between a fixed rear drum end wall 19 and a front drum end wall 20 , as best seen in fig . other drum shapes and configurations may be advantageous in any particular case depending upon such variables as cabinet size and shape , other dryer components sharing interior cabinet space with the drum , the type of drying to be done , and the manner in which conditioned air is to be supplied to the drum , to name just a few . 4 is a fragmentary enlarged cross-sectional view showing an upper portion of the track , and the drum side wall edge seal and bearing for guiding and supporting the flexible drum sidewall member of the present invention . as indicated in fig . bearing means such as , for example , wheels or roller bearings fixed to the dryer cabinet are provided to support the drum and facilitate its rotation . in operation , the drive motor 26 will rotate the drive pulley 29 which drives the belt 28 and , through frictional engagement along its surface , the flexible sidewall 17 of the drum 16 . in order to confine the edge portions of the member 17 in accordance with the principles of the present invention , the rear wall 19 and front wall 20 may be formed with corresponding , but opposite-facing , tracks such as endless grooves or channels 30 , 30 . 4 . referring to fig . similarly , the present invention is not limited to any particular form of front or rear bulkhead , to any particular form of track means for supporting or guiding the flexible wall member of the drum , or to any particular form of sealing means for sealing the drum adjacent the edge portions of the flexible drum sidewall . nos . 2 ) provided the drum is not overloaded . the drum perimeter is defined by the tracks of the respective front and rear bulkheads , thus allowing the shape of the drum to be limited substantially only by the dimensions of the dryer cabinet and the flexibility of the belt material comprising the drum & # 39 ; s wall member . although , as indicated herein , an elliptical drum constitutes a preferred form of the invention disclosed in this application , the invention is not limited to any particular shape or form . this material , which may be teflon pile , provides both sealing and bearing functions . the drum wall 17 will rotate in the annular direction along the tracks formed by the grooves or channels 30 , 30 which engage the sidewall edge portions 34 , 34 . because the drum 16 is defined in the illustrated embodiment with an elliptical shape by the tracks to which the flexible sidewall 17 conforms with the major axis of the ellipse extending vertically , clothes carried upwardly on the baffles 18 will have a greater distance to fall through the generally moving stream of temperature-conditioned air than in a comparable cylindrical drying drum , resulting in improved , faster and more uniform drying of clothes . a door 13 , hinged to the cabinet 11 at 14 , exposes an opening 15 providing access to the interior of a drum 16 . for example , the wall member 17 can be advantageously formed from a band of flexible stainless steel . 3,409,997 ( assigned to the assignee of the present invention ) and 3,584,393 each show a rigid , cylindrical drum rotatably mounted at each end with respect to front and rear bulkheads of the dryer cabinet , the bulkheads forming front and rear walls for the drum with seals provided to prevent air leakage past the edges of the drum sidewall . thus , the shape of the drum may be oblong or elliptical or egg shaped as may be desired , thereby facilitating more efficient use of the space available within a cabinet . as already indicated , interior of the drum 16 may be provided with one or more baffles 18 connected to or formed on the inside surface of the loop 17 and extending in the transverse direction with respect to the drum 16 . first , the elliptical drum can more efficiently utilize the volume of a cabinet having a rectangular cross section . for the peripheral wall of the drum there is provided a sheet form flexible wall member 17 formed as an endless belt or loop . description of the prior art in conventional clothes drying appliances a drum in the form of a rigid , hollow cylinder which may be open at one or both ends is rotatably mounted within a dryer cabinet and driven by a motor through a large drive belt encompassing the perimeter of the drum and in frictional contact with the cylindrical sidewall of the drum about most of that perimeter . in such conventional dryers the shape of the drum is fixed , with its cylindrical diameter limited to that which will fit within the height and width of the cabinet . sealing portion 38 of member 35 also provides a seal along edge portions 34 of the belt member 17 against leakage of air from the drum 16 as shown in fig . transverse baffles may be provided on the inside surface of the wall member to assist in tumbling the contents of the drum . and third , an elliptical drum can provide more efficient drying and an improved finish to the items being dried because of the relatively long drop ( from the top to the bottom of the drum ) to which the items may be subjected ( as indicated in fig . the sealing and bearing member 35 as shown in fig . any suitable material can be utilized as long as the flexible member 17 is of sufficient rigidity to display the necessary lateral stability while exhibiting sufficient circumferential or annular flexibility to move through successively changing degrees of curvature , as will occur , for example , where the drum 16 is non-circular . in a presently preferred form of the invention an elliptical drum shape has been utilized wherein the drum is taller than it is wide . all such variations in drum shape and configuration are readily achievable through the present invention . this drum shape provides three basic advantages over the cylindrical shape of a conventional dryer drum . an illustrated embodiment which has demonstrated improved performance over prior art structures comprises a pair of corresponding , oppositely-facing , elliptically disposed , endless channels or grooves , one in each bulkhead . the sidewall 17 will carry its internal baffles 18 about the drum 16 , tumbling items or articles of clothing within the drum 16 and exposing these items to the stream of air passing through the drum 16 from the air inlet duct 21 through the air exhaust duct 24 . u.s. pat . background of the invention 1 . the flexible wall member , which may be an endless flexible sheet of stainless steel , resembles a large belt which is supported and guided by a pair of corresponding tracks in respective front and rear bulkheads forming a continuous path which may be disposed in an optimum shape not limited to a circular path . 5 ( somewhat exaggerated to show the path of the flexible side wall ) , the flexible sidewall 17 of the drum 16 may not ride in the true center of the track 30 but rather will tend to be somewhat displaced therefrom by a combination of gravitational forces and the drive forces from the drive belt 28 despite the guidance and support of the sealing and bearing member . 2 , with parts broken away to show additional details of the machine . brief description of the drawings fig . the result is a wide range of design possibilities for achieving optimum tumbling patterns and air movement to provide efficient drying and a desirable finish to the items being dried , large drum capacity in relationship to cabinet size , and easy access to the interior of the drum through a large and relatively high access opening . 4 , each track comprises a u-shaped groove having a radially inwardly facing wall 31 , a radially outwardly facing wall 32 , and an axially-facing wall 33 . the volume of a cylindrical drum is limited by a drum diameter which can not be greater than the height or width ( whichever is smaller ) of the cabinet interior , but an elliptical drum can be tailored to take full advantage of both the height and width dimensions of the cabinet interior . the flexible member could also be made of plastic , for example a fire retardant polypropylene . each edge portion of the wall or belt member in this embodiment has a strip of felt-like material bonded thereto to ride in the groove , or alternatively , the material may be fixed in the groove with the belt travelling with respect thereto . in the embodiment of the invention shown in figs . the wall member or belt is driven along this continuous path by motor means through a drive belt encircling and frictionally engaging the drum . virtually any desired configuration of annular tracks may be employed to support and guide the edges of the drum wall . 5 is a schematic diagram indicating the path the flexible drum member may follow along its supporting track and bearings . 3 is a side elevational view of the structure of fig . 2 is a front elevational view , with parts broken away and some of the internal components of the machine shown in phantom . as mentioned the greater height of the elliptical drum of the illustrated preferred embodiment wherein the major axis of the ellipse extends in the vertical direction provides certain advantages including a higher drop for increased drying efficiency since the articles are exposed for longer periods to the flow of hot air through the drum , depicted by the arrows in fig . the sidewall 17 of the drum 16 is rotated by means of a drive belt 28 driven by a pulley 29 attached to the drive shaft of the dryer motor 26 . the rear wall or bulkhead 19 is fitted with an air inlet screen 21 leading from a duct 22 having appropriate heating means such as gas burners or electrical heating elements , as the case may be , but in any event shown generally at 23 . each edge portion 34 of member 17 is positioned with respect to the walls 31-33 of the track 30 by any suitable type of sealing and bearing member 35 , which in one form may be a felt-like material such as a teflon pile affixed either to the track 30 or to the edge portion 34 of the sidewall 17 . the bearing surface provided by portion 36 will also contribute to the seal about the perimeter of the sidewall 17 , and the portion 38 will tend to act as a bearing near the top of the groove or channel 30 . such baffles not only assist in tumbling articles within the interior of the drum but also may help to rigidify the member 17 transversely without interfering with the requisite circumferential or annular flexibility . description of the preferred embodiments an automatic clothes dryer is shown generally at 10 in fig . a tensioner or idler pulley 29a may be provided to maintain a proper tension on the belt 28 around the sidewall 17 , so that the belt 28 will frictionally engage the outer surface of the sidewall 17 and rotate it in the track formed by the channel 30 . 4 will provide bearing support to the wall 17 against gravitational and drive force displacements through bearing portion 36 , and will keep the member 17 substantially centered between the walls 19 and 20 through a thrust bearing portion 37 . the sidewall edge portions 34 will ride principally on the inwardly facing wall 31 at or near the upper left portion of the track 30 as at a , and will ride principally on the outwardly facing wall 32 at or near the lower right hand side of the track 30 , as at b . 1 , having a cabinet 11 and a control panel 12 provided with suitable controls c by which the machine may be preset by an operator to execute a programmed drying cycle . as the items fall they tend to loosen up ( as opposed to being balled together ) and are more thoroughly exposed to the heated air flowing through the dryer drum . field of the invention this invention relates to automatic clothes dryer appliances and particularly to the structure of a drum therein in which clothes are tumbled and exposed to temperature-conditioned air . of course , the material used must be able to withstand the temperatures present in the drum of a clothes dryer and must be able to withstand the stresses generated in the repeated continuous flexing over the life of the dryer . in the illustrated embodiment the channels 30 are disposed in a generally elliptical configuration or path on the bulkheads as seen in fig . this facilitates efficient drying of the items and , in the case of permanent press items , particularly large permanent press items such as sheets , minimizes the extent to which wrinkles will be present in the items when finally dry as compared to drying in a conventional dryer . an air exhaust duct 24 and lint screen 24a are provided near the front wall or bulkhead 20 of the machine . 1 is a perspective view of an automatic clothes dryer embodying the principles of the present invention and with the access door open and partially broken away . the duct 24 communicates with a suction fan or blower 25 driven by a dryer motor 26 and feeds to an exhaust port 27 indicated in fig . attachment to the sidewall 17 appears to increase the life of the seal by distributing wear evenly over the entire length of the seal . many such variations and modifications may be suggested by those versed in the art , and it should be understood that i wish to embody within the scope of the patent warranted hereon all such modifications as reasonably and properly come within the scope of my contribution to the art .\n",
      "------------------------------------------------------------\n",
      "summary:\n",
      "A dryer drum is defined by an endless flexible wall member in combination with front and rear bulkheads of the cabinet, thus facilitating a drum which is not limited to a cylindrical shape. The drum is also defined in the illustrated embodiment with an elliptical shape by the tracks to which the flexible sidewall conforms with the major axis of the ellipse extending vertically, clothes carried upwardly on the baffles being dried from the bottom to the upper portion of the drum and allow them to fall once again to the bottom.\n"
     ]
    }
   ],
   "source": [
    "input_ids = tokenizer(sample[\"description\"], return_tensors=\"pt\", truncation=True).input_ids.cpu()\n",
    "# with torch.inference_mode():\n",
    "outputs = model.generate(input_ids=input_ids, max_new_tokens=512, do_sample=True, top_p=0.9)\n",
    "print(f\"input sentence: {sample['description']}\\n{'---'* 20}\")\n",
    "\n",
    "print(f\"summary:\\n{tokenizer.batch_decode(outputs.detach().cpu().numpy(), skip_special_tokens=True)[0]}\")"
   ]
  },
  {
   "cell_type": "code",
   "execution_count": 6,
   "metadata": {},
   "outputs": [
    {
     "data": {
      "text/plain": [
       "tensor([[    2,     0,   250,  3841,   254, 12638,    16,  6533,    30,    41,\n",
       "         12210,  9538,  2204,   919,    11,  4069,    19,   760,     8,  5081,\n",
       "          8533, 16560,     9,     5,  5892,     6,  4634, 23373,    10, 12638,\n",
       "            61,    16,    45,  1804,     7,    10, 44996,  2028, 36057,  3989,\n",
       "             4,    20, 12638,    16,    67,  6533,    11,     5, 22827, 39441,\n",
       "            19,    41, 43568,  3569,  3989,    30,     5,  5297,     7,    61,\n",
       "             5,  9538, 46605,  1250, 18627,    29,    19,     5,   538, 31799,\n",
       "             9,     5, 28041,  1588,  1090,  9148, 32039,     6,  5418,  2584,\n",
       "         13568,   352,    15,     5, 33139,  1634,   145, 16380,    31,     5,\n",
       "          2576,     7,     5,  2853,  4745,     9,     5, 12638,     8,  1157,\n",
       "           106,     7,  1136,   683,   456,     7,     5,  2576,     4,     2]])"
      ]
     },
     "execution_count": 6,
     "metadata": {},
     "output_type": "execute_result"
    }
   ],
   "source": [
    "outputs"
   ]
  },
  {
   "cell_type": "code",
   "execution_count": 7,
   "metadata": {},
   "outputs": [
    {
     "name": "stderr",
     "output_type": "stream",
     "text": [
      "huggingface/tokenizers: The current process just got forked, after parallelism has already been used. Disabling parallelism to avoid deadlocks...\n",
      "To disable this warning, you can either:\n",
      "\t- Avoid using `tokenizers` before the fork if possible\n",
      "\t- Explicitly set the environment variable TOKENIZERS_PARALLELISM=(true | false)\n"
     ]
    }
   ],
   "source": [
    "import evaluate\n",
    "import numpy as np\n",
    "from datasets import load_from_disk\n",
    "from tqdm import tqdm\n",
    "\n",
    "# Metric\n",
    "metric = evaluate.load(\"rouge\")\n",
    "\n",
    "def evaluate_peft_model(sample,max_target_length=512):\n",
    "    # generate summary\n",
    "    outputs = model.generate(input_ids=sample[\"input_ids\"].unsqueeze(0).cpu(), do_sample=True, top_p=0.9, max_new_tokens=max_target_length)\n",
    "    prediction = tokenizer.decode(outputs[0].detach().cpu().numpy(), skip_special_tokens=True)\n",
    "    # decode eval sample\n",
    "    # Replace -100 in the labels as we can't decode them.\n",
    "    labels = np.where(sample['labels'] != -100, sample['labels'], tokenizer.pad_token_id)\n",
    "    labels = tokenizer.decode(labels, skip_special_tokens=True)\n",
    "\n",
    "    # Some simple post-processing\n",
    "    return prediction, labels"
   ]
  },
  {
   "cell_type": "code",
   "execution_count": 8,
   "metadata": {},
   "outputs": [
    {
     "name": "stderr",
     "output_type": "stream",
     "text": [
      "  0%|          | 0/2259 [00:00<?, ?it/s]"
     ]
    },
    {
     "name": "stderr",
     "output_type": "stream",
     "text": [
      "100%|██████████| 2259/2259 [8:29:29<00:00, 13.53s/it]     \n"
     ]
    },
    {
     "name": "stdout",
     "output_type": "stream",
     "text": [
      "Rogue1: 43.655491%\n",
      "rouge2: 20.192785%\n",
      "rougeL: 30.594020%\n",
      "rougeLsum: 30.775380%\n"
     ]
    }
   ],
   "source": [
    "# load test dataset from distk\n",
    "test_dataset = load_from_disk(\"./tokenized_data_S2_EXT4/test\").with_format(\"torch\")\n",
    "\n",
    "# run predictions\n",
    "# this can take ~45 minutes\n",
    "predictions, references = [] , []\n",
    "for sample in tqdm(test_dataset):\n",
    "    p,l = evaluate_peft_model(sample)\n",
    "    predictions.append(p)\n",
    "    references.append(l)\n",
    "\n",
    "# compute metric\n",
    "rogue = metric.compute(predictions=predictions, references=references, use_stemmer=True)\n",
    "\n",
    "# print results\n",
    "print(f\"Rogue1: {rogue['rouge1']* 100:2f}%\")\n",
    "print(f\"rouge2: {rogue['rouge2']* 100:2f}%\")\n",
    "print(f\"rougeL: {rogue['rougeL']* 100:2f}%\")\n",
    "print(f\"rougeLsum: {rogue['rougeLsum']* 100:2f}%\")\n",
    "\n",
    "# Rogue1: 50.386161%\n",
    "# rouge2: 24.842412%\n",
    "# rougeL: 41.370130%\n",
    "# rougeLsum: 41.394230%"
   ]
  },
  {
   "cell_type": "code",
   "execution_count": 9,
   "metadata": {},
   "outputs": [],
   "source": [
    "# Extracting Rouge scores\n",
    "rouge1_score = rogue['rouge1'] * 100\n",
    "rouge2_score = rogue['rouge2'] * 100\n",
    "rougeL_score = rogue['rougeL'] * 100\n",
    "rougeLsum_score = rogue['rougeLsum'] * 100\n",
    "\n",
    "# Plotting the Rouge scores\n",
    "labels = ['Rouge-1', 'Rouge-2', 'Rouge-L', 'Rouge-Lsum']\n",
    "scores = [rouge1_score, rouge2_score, rougeL_score, rougeLsum_score]"
   ]
  },
  {
   "cell_type": "code",
   "execution_count": 10,
   "metadata": {},
   "outputs": [
    {
     "data": {
      "text/plain": [
       "(0.0, 100.0)"
      ]
     },
     "execution_count": 10,
     "metadata": {},
     "output_type": "execute_result"
    },
    {
     "data": {
      "image/png": "[encoded data removed]",
      "text/plain": [
       "<Figure size 1000x600 with 1 Axes>"
      ]
     },
     "metadata": {},
     "output_type": "display_data"
    }
   ],
   "source": [
    "import matplotlib.pyplot as plt\n",
    "\n",
    "plt.figure(figsize=(10, 6))\n",
    "plt.bar(labels, scores, color=['blue', 'green', 'orange', 'red'])\n",
    "plt.ylabel('Rouge Score (%)')\n",
    "plt.title('Rouge Scores for Bart model with LoRA (Split 2)')\n",
    "plt.ylim(0, 100)"
   ]
  },
  {
   "cell_type": "code",
   "execution_count": null,
   "metadata": {},
   "outputs": [],
   "source": []
  },
  {
   "cell_type": "code",
   "execution_count": null,
   "metadata": {},
   "outputs": [],
   "source": []
  }
 ],
 "metadata": {
  "kernelspec": {
   "display_name": ".venv",
   "language": "python",
   "name": "python3"
  },
  "language_info": {
   "codemirror_mode": {
    "name": "ipython",
    "version": 3
   },
   "file_extension": ".py",
   "mimetype": "text/x-python",
   "name": "python",
   "nbconvert_exporter": "python",
   "pygments_lexer": "ipython3",
   "version": "3.9.6"
  }
 },
 "nbformat": 4,
 "nbformat_minor": 2
}
